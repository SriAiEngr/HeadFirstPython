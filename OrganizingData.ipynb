{
 "cells": [
  {
   "cell_type": "code",
   "execution_count": 35,
   "metadata": {},
   "outputs": [
    {
     "name": "stdout",
     "output_type": "stream",
     "text": [
      "60\n"
     ]
    }
   ],
   "source": [
    "import os\n",
    "\n",
    "import swimclub\n",
    "\n",
    "\n",
    "swim_files = os.listdir(swimclub.FOLDER)\n",
    "swim_files.remove(\".DS_Store\")\n",
    "\n",
    "print(len(swim_files))"
   ]
  },
  {
   "cell_type": "code",
   "execution_count": 36,
   "metadata": {},
   "outputs": [
    {
     "name": "stdout",
     "output_type": "stream",
     "text": [
      "60\n",
      "['Abi-10-100m-Back.txt', 'Abi-10-100m-Breast.txt', 'Abi-10-50m-Back.txt', 'Abi-10-50m-Breast.txt', 'Abi-10-50m-Free.txt', 'Ali-12-100m-Back.txt', 'Ali-12-100m-Free.txt', 'Alison-14-100m-Breast.txt', 'Alison-14-100m-Free.txt', 'Aurora-13-50m-Free.txt', 'Bill-18-100m-Back.txt', 'Bill-18-200m-Back.txt', 'Blake-15-100m-Back.txt', 'Blake-15-100m-Fly.txt', 'Blake-15-100m-Free.txt', 'Calvin-9-50m-Back.txt', 'Calvin-9-50m-Fly.txt', 'Calvin-9-50m-Free.txt', 'Carl-15-100m-Back.txt', 'Chris-17-100m-Back.txt', 'Chris-17-100m-Breast.txt', 'Darius-13-100m-Back.txt', 'Darius-13-100m-Breast.txt', 'Darius-13-100m-Fly.txt', 'Darius-13-200m-IM.txt', 'Dave-17-100m-Free.txt', 'Dave-17-200m-Back.txt', 'Elba-14-100m-Free.txt', 'Emma-13-100m-Breast.txt', 'Emma-13-100m-Free.txt', 'Erika-15-100m-Breast.txt', 'Erika-15-100m-Free.txt', 'Erika-15-200m-Breast.txt', 'Hannah-13-100m-Back.txt', 'Hannah-13-100m-Free.txt', 'Katie-9-100m-Back.txt', 'Katie-9-100m-Breast.txt', 'Katie-9-100m-Free.txt', 'Katie-9-50m-Back.txt', 'Katie-9-50m-Breast.txt', 'Katie-9-50m-Fly.txt', 'Katie-9-50m-Free.txt', 'Lizzie-14-100m-Back.txt', 'Lizzie-14-100m-Free.txt', 'Maria-9-50m-Free.txt', 'Mike-15-100m-Back.txt', 'Mike-15-100m-Fly.txt', 'Mike-15-100m-Free.txt', 'Mike-15-200m-Free.txt', 'Mike-15-200m-IM.txt', 'Owen-15-100m-Free.txt', 'Ruth-13-100m-Back.txt', 'Ruth-13-100m-Free.txt', 'Ruth-13-200m-Back.txt', 'Ruth-13-200m-Free.txt', 'Ruth-13-400m-Free.txt', 'Tasmin-15-100m-Back.txt', 'Tasmin-15-100m-Breast.txt', 'Tasmin-15-100m-Free.txt', 'Tasmin-15-200m-Breast.txt']\n"
     ]
    }
   ],
   "source": [
    "swimmers = []\n",
    "for file in swim_files:\n",
    "    swimmers.append(file)\n",
    "print(len(swimmers))\n",
    "print (swimmers)"
   ]
  },
  {
   "cell_type": "code",
   "execution_count": 37,
   "metadata": {},
   "outputs": [
    {
     "name": "stdout",
     "output_type": "stream",
     "text": [
      "60\n",
      "['Abi', 'Abi', 'Abi', 'Abi', 'Abi', 'Ali', 'Ali', 'Alison', 'Alison', 'Aurora', 'Bill', 'Bill', 'Blake', 'Blake', 'Blake', 'Calvin', 'Calvin', 'Calvin', 'Carl', 'Chris', 'Chris', 'Darius', 'Darius', 'Darius', 'Darius', 'Dave', 'Dave', 'Elba', 'Emma', 'Emma', 'Erika', 'Erika', 'Erika', 'Hannah', 'Hannah', 'Katie', 'Katie', 'Katie', 'Katie', 'Katie', 'Katie', 'Katie', 'Lizzie', 'Lizzie', 'Maria', 'Mike', 'Mike', 'Mike', 'Mike', 'Mike', 'Owen', 'Ruth', 'Ruth', 'Ruth', 'Ruth', 'Ruth', 'Tasmin', 'Tasmin', 'Tasmin', 'Tasmin']\n"
     ]
    }
   ],
   "source": [
    "#tuple\n",
    "swimmers = []\n",
    "for file in swim_files:\n",
    "    swimmers.append(swimclub.read_swim_data(file)[0])\n",
    "print(len(swimmers))\n",
    "print (swimmers)"
   ]
  },
  {
   "cell_type": "code",
   "execution_count": 38,
   "metadata": {},
   "outputs": [
    {
     "name": "stdout",
     "output_type": "stream",
     "text": [
      "['Elba', 'Abi', 'Emma', 'Maria', 'Katie', 'Chris', 'Ruth', 'Ali', 'Lizzie', 'Carl', 'Hannah', 'Darius', 'Tasmin', 'Bill', 'Calvin', 'Alison', 'Aurora', 'Blake', 'Erika', 'Mike', 'Dave', 'Owen']\n",
      "22\n",
      "['Abi', 'Ali', 'Alison', 'Aurora', 'Bill', 'Blake', 'Calvin', 'Carl', 'Chris', 'Darius', 'Dave', 'Elba', 'Emma', 'Erika', 'Hannah', 'Katie', 'Lizzie', 'Maria', 'Mike', 'Owen', 'Ruth', 'Tasmin']\n"
     ]
    }
   ],
   "source": [
    "#unique sing list-set-list trick\n",
    "names = list(set(swimmers) )\n",
    "print(names)\n",
    "print(len(names))\n",
    "print(sorted(names))"
   ]
  },
  {
   "cell_type": "code",
   "execution_count": 39,
   "metadata": {},
   "outputs": [
    {
     "name": "stdout",
     "output_type": "stream",
     "text": [
      "22\n",
      "['Abi', 'Ali', 'Alison', 'Aurora', 'Bill', 'Blake', 'Calvin', 'Carl', 'Chris', 'Darius', 'Dave', 'Elba', 'Emma', 'Erika', 'Hannah', 'Katie', 'Lizzie', 'Maria', 'Mike', 'Owen', 'Ruth', 'Tasmin']\n"
     ]
    }
   ],
   "source": [
    "#using loop\n",
    "swimmers = []\n",
    "for file in swim_files:\n",
    "    if (swimclub.read_swim_data(file)[0] not in swimmers):\n",
    "        swimmers.append(swimclub.read_swim_data(file)[0])\n",
    "print(len(swimmers))\n",
    "print (swimmers)"
   ]
  },
  {
   "cell_type": "code",
   "execution_count": 40,
   "metadata": {},
   "outputs": [
    {
     "name": "stdout",
     "output_type": "stream",
     "text": [
      "60\n",
      "[('Abi', 'Abi-10-100m-Back.txt'), ('Abi', 'Abi-10-100m-Breast.txt'), ('Abi', 'Abi-10-50m-Back.txt'), ('Abi', 'Abi-10-50m-Breast.txt'), ('Abi', 'Abi-10-50m-Free.txt'), ('Ali', 'Ali-12-100m-Back.txt'), ('Ali', 'Ali-12-100m-Free.txt'), ('Alison', 'Alison-14-100m-Breast.txt'), ('Alison', 'Alison-14-100m-Free.txt'), ('Aurora', 'Aurora-13-50m-Free.txt'), ('Bill', 'Bill-18-100m-Back.txt'), ('Bill', 'Bill-18-200m-Back.txt'), ('Blake', 'Blake-15-100m-Back.txt'), ('Blake', 'Blake-15-100m-Fly.txt'), ('Blake', 'Blake-15-100m-Free.txt'), ('Calvin', 'Calvin-9-50m-Back.txt'), ('Calvin', 'Calvin-9-50m-Fly.txt'), ('Calvin', 'Calvin-9-50m-Free.txt'), ('Carl', 'Carl-15-100m-Back.txt'), ('Chris', 'Chris-17-100m-Back.txt'), ('Chris', 'Chris-17-100m-Breast.txt'), ('Darius', 'Darius-13-100m-Back.txt'), ('Darius', 'Darius-13-100m-Breast.txt'), ('Darius', 'Darius-13-100m-Fly.txt'), ('Darius', 'Darius-13-200m-IM.txt'), ('Dave', 'Dave-17-100m-Free.txt'), ('Dave', 'Dave-17-200m-Back.txt'), ('Elba', 'Elba-14-100m-Free.txt'), ('Emma', 'Emma-13-100m-Breast.txt'), ('Emma', 'Emma-13-100m-Free.txt'), ('Erika', 'Erika-15-100m-Breast.txt'), ('Erika', 'Erika-15-100m-Free.txt'), ('Erika', 'Erika-15-200m-Breast.txt'), ('Hannah', 'Hannah-13-100m-Back.txt'), ('Hannah', 'Hannah-13-100m-Free.txt'), ('Katie', 'Katie-9-100m-Back.txt'), ('Katie', 'Katie-9-100m-Breast.txt'), ('Katie', 'Katie-9-100m-Free.txt'), ('Katie', 'Katie-9-50m-Back.txt'), ('Katie', 'Katie-9-50m-Breast.txt'), ('Katie', 'Katie-9-50m-Fly.txt'), ('Katie', 'Katie-9-50m-Free.txt'), ('Lizzie', 'Lizzie-14-100m-Back.txt'), ('Lizzie', 'Lizzie-14-100m-Free.txt'), ('Maria', 'Maria-9-50m-Free.txt'), ('Mike', 'Mike-15-100m-Back.txt'), ('Mike', 'Mike-15-100m-Fly.txt'), ('Mike', 'Mike-15-100m-Free.txt'), ('Mike', 'Mike-15-200m-Free.txt'), ('Mike', 'Mike-15-200m-IM.txt'), ('Owen', 'Owen-15-100m-Free.txt'), ('Ruth', 'Ruth-13-100m-Back.txt'), ('Ruth', 'Ruth-13-100m-Free.txt'), ('Ruth', 'Ruth-13-200m-Back.txt'), ('Ruth', 'Ruth-13-200m-Free.txt'), ('Ruth', 'Ruth-13-400m-Free.txt'), ('Tasmin', 'Tasmin-15-100m-Back.txt'), ('Tasmin', 'Tasmin-15-100m-Breast.txt'), ('Tasmin', 'Tasmin-15-100m-Free.txt'), ('Tasmin', 'Tasmin-15-200m-Breast.txt')]\n"
     ]
    },
    {
     "data": {
      "text/plain": [
       "[('Abi', 'Abi-10-100m-Back.txt'),\n",
       " ('Abi', 'Abi-10-100m-Breast.txt'),\n",
       " ('Abi', 'Abi-10-50m-Back.txt'),\n",
       " ('Abi', 'Abi-10-50m-Breast.txt'),\n",
       " ('Abi', 'Abi-10-50m-Free.txt')]"
      ]
     },
     "execution_count": 40,
     "metadata": {},
     "output_type": "execute_result"
    }
   ],
   "source": [
    "#adding file name\n",
    "swimmers = []\n",
    "for file in swim_files:\n",
    "    if (swimclub.read_swim_data(file)[0] not in swimmers):\n",
    "        swimmers.append((swimclub.read_swim_data(file)[0], file))\n",
    "print(len(swimmers))\n",
    "print (swimmers)\n",
    "swimmers[:5]"
   ]
  },
  {
   "cell_type": "code",
   "execution_count": 41,
   "metadata": {},
   "outputs": [
    {
     "ename": "AttributeError",
     "evalue": "'dict' object has no attribute 'append'",
     "output_type": "error",
     "traceback": [
      "\u001b[31m---------------------------------------------------------------------------\u001b[39m",
      "\u001b[31mAttributeError\u001b[39m                            Traceback (most recent call last)",
      "\u001b[36mCell\u001b[39m\u001b[36m \u001b[39m\u001b[32mIn[41]\u001b[39m\u001b[32m, line 4\u001b[39m\n\u001b[32m      2\u001b[39m \u001b[38;5;28;01mfor\u001b[39;00m file \u001b[38;5;129;01min\u001b[39;00m swim_files:\n\u001b[32m      3\u001b[39m     \u001b[38;5;28;01mif\u001b[39;00m (swimclub.read_swim_data(file)[\u001b[32m0\u001b[39m] \u001b[38;5;129;01mnot\u001b[39;00m \u001b[38;5;129;01min\u001b[39;00m swimmers):\n\u001b[32m----> \u001b[39m\u001b[32m4\u001b[39m         \u001b[43mswimmers\u001b[49m\u001b[43m.\u001b[49m\u001b[43mappend\u001b[49m((swimclub.read_swim_data(file)[\u001b[32m0\u001b[39m], file))\n\u001b[32m      5\u001b[39m \u001b[38;5;28mprint\u001b[39m(\u001b[38;5;28mlen\u001b[39m(swimmers))\n\u001b[32m      6\u001b[39m \u001b[38;5;28mprint\u001b[39m (swimmers)\n",
      "\u001b[31mAttributeError\u001b[39m: 'dict' object has no attribute 'append'"
     ]
    }
   ],
   "source": [
    "swimmers = {}\n",
    "for file in swim_files:\n",
    "    if (swimclub.read_swim_data(file)[0] not in swimmers):\n",
    "        swimmers.append((swimclub.read_swim_data(file)[0], file))\n",
    "print(len(swimmers))\n",
    "print (swimmers)\n"
   ]
  },
  {
   "cell_type": "code",
   "execution_count": 46,
   "metadata": {},
   "outputs": [
    {
     "name": "stdout",
     "output_type": "stream",
     "text": [
      "['Abi', 'Abi', 'Abi', 'Abi', 'Abi', 'Ali', 'Ali', 'Alison', 'Alison', 'Aurora', 'Bill', 'Bill', 'Blake', 'Blake', 'Blake', 'Calvin', 'Calvin', 'Calvin', 'Carl', 'Chris', 'Chris', 'Darius', 'Darius', 'Darius', 'Darius', 'Dave', 'Dave', 'Elba', 'Emma', 'Emma', 'Erika', 'Erika', 'Erika', 'Hannah', 'Hannah', 'Katie', 'Katie', 'Katie', 'Katie', 'Katie', 'Katie', 'Katie', 'Lizzie', 'Lizzie', 'Maria', 'Mike', 'Mike', 'Mike', 'Mike', 'Mike', 'Owen', 'Ruth', 'Ruth', 'Ruth', 'Ruth', 'Ruth', 'Tasmin', 'Tasmin', 'Tasmin', 'Tasmin']\n"
     ]
    }
   ],
   "source": [
    "swimmers = []\n",
    "for file in swim_files:\n",
    "    swimmers.append(swimclub.read_swim_data(file)[0])\n",
    "print(swimmers)"
   ]
  },
  {
   "cell_type": "code",
   "execution_count": 47,
   "metadata": {},
   "outputs": [],
   "source": [
    "names = list(set(swimmers))"
   ]
  },
  {
   "cell_type": "code",
   "execution_count": 48,
   "metadata": {},
   "outputs": [
    {
     "name": "stdout",
     "output_type": "stream",
     "text": [
      "['Elba', 'Abi', 'Emma', 'Maria', 'Katie', 'Chris', 'Ruth', 'Ali', 'Lizzie', 'Carl', 'Hannah', 'Darius', 'Tasmin', 'Bill', 'Calvin', 'Alison', 'Aurora', 'Blake', 'Erika', 'Mike', 'Dave', 'Owen']\n"
     ]
    }
   ],
   "source": [
    "print(names)"
   ]
  },
  {
   "cell_type": "code",
   "execution_count": 49,
   "metadata": {},
   "outputs": [
    {
     "data": {
      "text/plain": [
       "22"
      ]
     },
     "execution_count": 49,
     "metadata": {},
     "output_type": "execute_result"
    }
   ],
   "source": [
    "len(names)"
   ]
  },
  {
   "cell_type": "code",
   "execution_count": 50,
   "metadata": {},
   "outputs": [
    {
     "name": "stdout",
     "output_type": "stream",
     "text": [
      "['Abi', 'Ali', 'Alison', 'Aurora', 'Bill', 'Blake', 'Calvin', 'Carl', 'Chris', 'Darius', 'Dave', 'Elba', 'Emma', 'Erika', 'Hannah', 'Katie', 'Lizzie', 'Maria', 'Mike', 'Owen', 'Ruth', 'Tasmin']\n"
     ]
    }
   ],
   "source": [
    "swimmers = []\n",
    "for file in swim_files:\n",
    "    name = swimclub.read_swim_data(file)[0]\n",
    "    if name not in swimmers:\n",
    "        swimmers.append(name)\n",
    "print(swimmers)"
   ]
  },
  {
   "cell_type": "code",
   "execution_count": 51,
   "metadata": {},
   "outputs": [
    {
     "name": "stdout",
     "output_type": "stream",
     "text": [
      "['Abi', 'Ali', 'Alison', 'Aurora', 'Bill', 'Blake', 'Calvin', 'Carl', 'Chris', 'Darius', 'Dave', 'Elba', 'Emma', 'Erika', 'Hannah', 'Katie', 'Lizzie', 'Maria', 'Mike', 'Owen', 'Ruth', 'Tasmin']\n"
     ]
    }
   ],
   "source": [
    "print(sorted(names))"
   ]
  },
  {
   "cell_type": "code",
   "execution_count": 52,
   "metadata": {},
   "outputs": [
    {
     "name": "stdout",
     "output_type": "stream",
     "text": [
      "['Abi', 'Ali', 'Alison', 'Aurora', 'Bill', 'Blake', 'Calvin', 'Carl', 'Chris', 'Darius', 'Dave', 'Elba', 'Emma', 'Erika', 'Hannah', 'Katie', 'Lizzie', 'Maria', 'Mike', 'Owen', 'Ruth', 'Tasmin']\n"
     ]
    }
   ],
   "source": [
    "print(sorted(swimmers))"
   ]
  },
  {
   "cell_type": "code",
   "execution_count": 53,
   "metadata": {},
   "outputs": [
    {
     "name": "stdout",
     "output_type": "stream",
     "text": [
      "['Abi', 'Abi', 'Abi', 'Abi', 'Abi', 'Ali', 'Ali', 'Alison', 'Alison', 'Aurora', 'Bill', 'Bill', 'Blake', 'Blake', 'Blake', 'Calvin', 'Calvin', 'Calvin', 'Carl', 'Chris', 'Chris', 'Darius', 'Darius', 'Darius', 'Darius', 'Dave', 'Dave', 'Elba', 'Emma', 'Emma', 'Erika', 'Erika', 'Erika', 'Hannah', 'Hannah', 'Katie', 'Katie', 'Katie', 'Katie', 'Katie', 'Katie', 'Katie', 'Lizzie', 'Lizzie', 'Maria', 'Mike', 'Mike', 'Mike', 'Mike', 'Mike', 'Owen', 'Ruth', 'Ruth', 'Ruth', 'Ruth', 'Ruth', 'Tasmin', 'Tasmin', 'Tasmin', 'Tasmin']\n"
     ]
    }
   ],
   "source": [
    "swimmers = []\n",
    "for file in swim_files:\n",
    "    swimmers.append(swimclub.read_swim_data(file)[0])\n",
    "print(swimmers)"
   ]
  },
  {
   "cell_type": "code",
   "execution_count": 54,
   "metadata": {},
   "outputs": [],
   "source": [
    "swimmers = []\n",
    "for file in swim_files:\n",
    "    swimclub.read_swim_data(file)[0]\n",
    "    swimmers.append((swimclub.read_swim_data(file)[0], file))"
   ]
  },
  {
   "cell_type": "code",
   "execution_count": 55,
   "metadata": {},
   "outputs": [
    {
     "data": {
      "text/plain": [
       "60"
      ]
     },
     "execution_count": 55,
     "metadata": {},
     "output_type": "execute_result"
    }
   ],
   "source": [
    "len(swimmers)"
   ]
  },
  {
   "cell_type": "code",
   "execution_count": 56,
   "metadata": {},
   "outputs": [
    {
     "data": {
      "text/plain": [
       "[('Abi', 'Abi-10-100m-Back.txt'),\n",
       " ('Abi', 'Abi-10-100m-Breast.txt'),\n",
       " ('Abi', 'Abi-10-50m-Back.txt'),\n",
       " ('Abi', 'Abi-10-50m-Breast.txt'),\n",
       " ('Abi', 'Abi-10-50m-Free.txt')]"
      ]
     },
     "execution_count": 56,
     "metadata": {},
     "output_type": "execute_result"
    }
   ],
   "source": [
    "swimmers[:5]"
   ]
  },
  {
   "cell_type": "code",
   "execution_count": 57,
   "metadata": {},
   "outputs": [
    {
     "name": "stdout",
     "output_type": "stream",
     "text": [
      "['Abi', 'Ali', 'Alison', 'Aurora', 'Bill', 'Blake', 'Calvin', 'Carl', 'Chris', 'Darius', 'Dave', 'Elba', 'Emma', 'Erika', 'Hannah', 'Katie', 'Lizzie', 'Maria', 'Mike', 'Owen', 'Ruth', 'Tasmin']\n"
     ]
    }
   ],
   "source": [
    "names = []\n",
    "for row in swimmers:\n",
    "    if row[0] not in names:\n",
    "        names.append(row[0])\n",
    "print(sorted(names))"
   ]
  },
  {
   "cell_type": "code",
   "execution_count": 58,
   "metadata": {},
   "outputs": [
    {
     "name": "stdout",
     "output_type": "stream",
     "text": [
      "('Dave', 'Dave-17-100m-Free.txt')\n",
      "('Dave', 'Dave-17-200m-Back.txt')\n"
     ]
    }
   ],
   "source": [
    "for event in swimmers:\n",
    "    if event[0] == \"Dave\":\n",
    "        print(event)"
   ]
  },
  {
   "cell_type": "code",
   "execution_count": 59,
   "metadata": {},
   "outputs": [
    {
     "name": "stdout",
     "output_type": "stream",
     "text": [
      "25 ('Dave', 'Dave-17-100m-Free.txt')\n",
      "26 ('Dave', 'Dave-17-200m-Back.txt')\n"
     ]
    }
   ],
   "source": [
    "for n, event in enumerate(swimmers):\n",
    "    if event[0] == \"Dave\":\n",
    "        print(n, event)"
   ]
  },
  {
   "cell_type": "code",
   "execution_count": 60,
   "metadata": {},
   "outputs": [],
   "source": [
    "person = {\n",
    "    \"first\": \"Tim\",\n",
    "    \"last\": \"O'Reilly\",\n",
    "}"
   ]
  },
  {
   "cell_type": "code",
   "execution_count": 61,
   "metadata": {},
   "outputs": [
    {
     "data": {
      "text/plain": [
       "'Tim'"
      ]
     },
     "execution_count": 61,
     "metadata": {},
     "output_type": "execute_result"
    }
   ],
   "source": [
    "person[\"first\"]"
   ]
  },
  {
   "cell_type": "code",
   "execution_count": 62,
   "metadata": {},
   "outputs": [
    {
     "data": {
      "text/plain": [
       "\"O'Reilly\""
      ]
     },
     "execution_count": 62,
     "metadata": {},
     "output_type": "execute_result"
    }
   ],
   "source": [
    "person[\"last\"]"
   ]
  },
  {
   "cell_type": "code",
   "execution_count": 63,
   "metadata": {},
   "outputs": [],
   "source": [
    "names = {}"
   ]
  },
  {
   "cell_type": "code",
   "execution_count": 64,
   "metadata": {},
   "outputs": [],
   "source": [
    "names[\"Dave\"] = \"Dave-17-100m-Free.txt\""
   ]
  },
  {
   "cell_type": "code",
   "execution_count": 65,
   "metadata": {},
   "outputs": [],
   "source": [
    "swimmers = {}\n",
    "for file in swim_files:\n",
    "    name, *_ = swimclub.read_swim_data(file)\n",
    "    swimmers[name] = []"
   ]
  },
  {
   "cell_type": "code",
   "execution_count": 66,
   "metadata": {},
   "outputs": [
    {
     "data": {
      "text/plain": [
       "{'Abi': [],\n",
       " 'Ali': [],\n",
       " 'Alison': [],\n",
       " 'Aurora': [],\n",
       " 'Bill': [],\n",
       " 'Blake': [],\n",
       " 'Calvin': [],\n",
       " 'Carl': [],\n",
       " 'Chris': [],\n",
       " 'Darius': [],\n",
       " 'Dave': [],\n",
       " 'Elba': [],\n",
       " 'Emma': [],\n",
       " 'Erika': [],\n",
       " 'Hannah': [],\n",
       " 'Katie': [],\n",
       " 'Lizzie': [],\n",
       " 'Maria': [],\n",
       " 'Mike': [],\n",
       " 'Owen': [],\n",
       " 'Ruth': [],\n",
       " 'Tasmin': []}"
      ]
     },
     "execution_count": 66,
     "metadata": {},
     "output_type": "execute_result"
    }
   ],
   "source": [
    "swimmers"
   ]
  },
  {
   "cell_type": "code",
   "execution_count": 67,
   "metadata": {},
   "outputs": [
    {
     "data": {
      "text/plain": [
       "22"
      ]
     },
     "execution_count": 67,
     "metadata": {},
     "output_type": "execute_result"
    }
   ],
   "source": [
    "len(swimmers)"
   ]
  },
  {
   "cell_type": "code",
   "execution_count": 68,
   "metadata": {},
   "outputs": [
    {
     "name": "stdout",
     "output_type": "stream",
     "text": [
      "['Abi', 'Ali', 'Alison', 'Aurora', 'Bill', 'Blake', 'Calvin', 'Carl', 'Chris', 'Darius', 'Dave', 'Elba', 'Emma', 'Erika', 'Hannah', 'Katie', 'Lizzie', 'Maria', 'Mike', 'Owen', 'Ruth', 'Tasmin']\n"
     ]
    }
   ],
   "source": [
    "print(sorted(swimmers))"
   ]
  },
  {
   "cell_type": "code",
   "execution_count": 69,
   "metadata": {},
   "outputs": [
    {
     "data": {
      "text/plain": [
       "[]"
      ]
     },
     "execution_count": 69,
     "metadata": {},
     "output_type": "execute_result"
    }
   ],
   "source": [
    "swimmers[\"Dave\"]"
   ]
  },
  {
   "cell_type": "code",
   "execution_count": 70,
   "metadata": {},
   "outputs": [
    {
     "name": "stdout",
     "output_type": "stream",
     "text": [
      "['__class__', '__class_getitem__', '__contains__', '__delattr__', '__delitem__', '__dir__', '__doc__', '__eq__', '__format__', '__ge__', '__getattribute__', '__getitem__', '__getstate__', '__gt__', '__hash__', '__init__', '__init_subclass__', '__ior__', '__iter__', '__le__', '__len__', '__lt__', '__ne__', '__new__', '__or__', '__reduce__', '__reduce_ex__', '__repr__', '__reversed__', '__ror__', '__setattr__', '__setitem__', '__sizeof__', '__str__', '__subclasshook__', 'clear', 'copy', 'fromkeys', 'get', 'items', 'keys', 'pop', 'popitem', 'setdefault', 'update', 'values']\n"
     ]
    }
   ],
   "source": [
    "print(dir(swimmers))"
   ]
  },
  {
   "cell_type": "code",
   "execution_count": 71,
   "metadata": {},
   "outputs": [],
   "source": [
    "swimmers = {}\n",
    "for file in swim_files:\n",
    "    name, *_ = swimclub.read_swim_data(file)\n",
    "    if name not in swimmers:\n",
    "        swimmers[name] = []\n",
    "    swimmers[name].append(file)"
   ]
  },
  {
   "cell_type": "code",
   "execution_count": 72,
   "metadata": {},
   "outputs": [
    {
     "data": {
      "text/plain": [
       "['Dave-17-100m-Free.txt', 'Dave-17-200m-Back.txt']"
      ]
     },
     "execution_count": 72,
     "metadata": {},
     "output_type": "execute_result"
    }
   ],
   "source": [
    "swimmers[\"Dave\"]"
   ]
  },
  {
   "cell_type": "code",
   "execution_count": 73,
   "metadata": {},
   "outputs": [
    {
     "data": {
      "text/plain": [
       "['Darius-13-100m-Back.txt',\n",
       " 'Darius-13-100m-Breast.txt',\n",
       " 'Darius-13-100m-Fly.txt',\n",
       " 'Darius-13-200m-IM.txt']"
      ]
     },
     "execution_count": 73,
     "metadata": {},
     "output_type": "execute_result"
    }
   ],
   "source": [
    "swimmers[\"Darius\"]"
   ]
  },
  {
   "cell_type": "code",
   "execution_count": 74,
   "metadata": {},
   "outputs": [
    {
     "data": {
      "text/plain": [
       "['Emma-13-100m-Breast.txt', 'Emma-13-100m-Free.txt']"
      ]
     },
     "execution_count": 74,
     "metadata": {},
     "output_type": "execute_result"
    }
   ],
   "source": [
    "swimmers[\"Emma\"]"
   ]
  },
  {
   "cell_type": "code",
   "execution_count": 75,
   "metadata": {},
   "outputs": [
    {
     "data": {
      "text/plain": [
       "['Calvin-9-50m-Back.txt', 'Calvin-9-50m-Fly.txt', 'Calvin-9-50m-Free.txt']"
      ]
     },
     "execution_count": 75,
     "metadata": {},
     "output_type": "execute_result"
    }
   ],
   "source": [
    "swimmers[\"Calvin\"]"
   ]
  },
  {
   "cell_type": "code",
   "execution_count": 76,
   "metadata": {},
   "outputs": [
    {
     "data": {
      "text/plain": [
       "['Katie-9-100m-Back.txt',\n",
       " 'Katie-9-100m-Breast.txt',\n",
       " 'Katie-9-100m-Free.txt',\n",
       " 'Katie-9-50m-Back.txt',\n",
       " 'Katie-9-50m-Breast.txt',\n",
       " 'Katie-9-50m-Fly.txt',\n",
       " 'Katie-9-50m-Free.txt']"
      ]
     },
     "execution_count": 76,
     "metadata": {},
     "output_type": "execute_result"
    }
   ],
   "source": [
    "swimmers[\"Katie\"]"
   ]
  },
  {
   "cell_type": "code",
   "execution_count": 77,
   "metadata": {},
   "outputs": [
    {
     "data": {
      "text/plain": [
       "{'Abi': ['Abi-10-100m-Back.txt',\n",
       "  'Abi-10-100m-Breast.txt',\n",
       "  'Abi-10-50m-Back.txt',\n",
       "  'Abi-10-50m-Breast.txt',\n",
       "  'Abi-10-50m-Free.txt'],\n",
       " 'Ali': ['Ali-12-100m-Back.txt', 'Ali-12-100m-Free.txt'],\n",
       " 'Alison': ['Alison-14-100m-Breast.txt', 'Alison-14-100m-Free.txt'],\n",
       " 'Aurora': ['Aurora-13-50m-Free.txt'],\n",
       " 'Bill': ['Bill-18-100m-Back.txt', 'Bill-18-200m-Back.txt'],\n",
       " 'Blake': ['Blake-15-100m-Back.txt',\n",
       "  'Blake-15-100m-Fly.txt',\n",
       "  'Blake-15-100m-Free.txt'],\n",
       " 'Calvin': ['Calvin-9-50m-Back.txt',\n",
       "  'Calvin-9-50m-Fly.txt',\n",
       "  'Calvin-9-50m-Free.txt'],\n",
       " 'Carl': ['Carl-15-100m-Back.txt'],\n",
       " 'Chris': ['Chris-17-100m-Back.txt', 'Chris-17-100m-Breast.txt'],\n",
       " 'Darius': ['Darius-13-100m-Back.txt',\n",
       "  'Darius-13-100m-Breast.txt',\n",
       "  'Darius-13-100m-Fly.txt',\n",
       "  'Darius-13-200m-IM.txt'],\n",
       " 'Dave': ['Dave-17-100m-Free.txt', 'Dave-17-200m-Back.txt'],\n",
       " 'Elba': ['Elba-14-100m-Free.txt'],\n",
       " 'Emma': ['Emma-13-100m-Breast.txt', 'Emma-13-100m-Free.txt'],\n",
       " 'Erika': ['Erika-15-100m-Breast.txt',\n",
       "  'Erika-15-100m-Free.txt',\n",
       "  'Erika-15-200m-Breast.txt'],\n",
       " 'Hannah': ['Hannah-13-100m-Back.txt', 'Hannah-13-100m-Free.txt'],\n",
       " 'Katie': ['Katie-9-100m-Back.txt',\n",
       "  'Katie-9-100m-Breast.txt',\n",
       "  'Katie-9-100m-Free.txt',\n",
       "  'Katie-9-50m-Back.txt',\n",
       "  'Katie-9-50m-Breast.txt',\n",
       "  'Katie-9-50m-Fly.txt',\n",
       "  'Katie-9-50m-Free.txt'],\n",
       " 'Lizzie': ['Lizzie-14-100m-Back.txt', 'Lizzie-14-100m-Free.txt'],\n",
       " 'Maria': ['Maria-9-50m-Free.txt'],\n",
       " 'Mike': ['Mike-15-100m-Back.txt',\n",
       "  'Mike-15-100m-Fly.txt',\n",
       "  'Mike-15-100m-Free.txt',\n",
       "  'Mike-15-200m-Free.txt',\n",
       "  'Mike-15-200m-IM.txt'],\n",
       " 'Owen': ['Owen-15-100m-Free.txt'],\n",
       " 'Ruth': ['Ruth-13-100m-Back.txt',\n",
       "  'Ruth-13-100m-Free.txt',\n",
       "  'Ruth-13-200m-Back.txt',\n",
       "  'Ruth-13-200m-Free.txt',\n",
       "  'Ruth-13-400m-Free.txt'],\n",
       " 'Tasmin': ['Tasmin-15-100m-Back.txt',\n",
       "  'Tasmin-15-100m-Breast.txt',\n",
       "  'Tasmin-15-100m-Free.txt',\n",
       "  'Tasmin-15-200m-Breast.txt']}"
      ]
     },
     "execution_count": 77,
     "metadata": {},
     "output_type": "execute_result"
    }
   ],
   "source": [
    "swimmers"
   ]
  },
  {
   "cell_type": "code",
   "execution_count": 78,
   "metadata": {},
   "outputs": [
    {
     "name": "stdout",
     "output_type": "stream",
     "text": [
      "{'Abi': ['Abi-10-100m-Back.txt',\n",
      "         'Abi-10-100m-Breast.txt',\n",
      "         'Abi-10-50m-Back.txt',\n",
      "         'Abi-10-50m-Breast.txt',\n",
      "         'Abi-10-50m-Free.txt'],\n",
      " 'Ali': ['Ali-12-100m-Back.txt', 'Ali-12-100m-Free.txt'],\n",
      " 'Alison': ['Alison-14-100m-Breast.txt', 'Alison-14-100m-Free.txt'],\n",
      " 'Aurora': ['Aurora-13-50m-Free.txt'],\n",
      " 'Bill': ['Bill-18-100m-Back.txt', 'Bill-18-200m-Back.txt'],\n",
      " 'Blake': ['Blake-15-100m-Back.txt',\n",
      "           'Blake-15-100m-Fly.txt',\n",
      "           'Blake-15-100m-Free.txt'],\n",
      " 'Calvin': ['Calvin-9-50m-Back.txt',\n",
      "            'Calvin-9-50m-Fly.txt',\n",
      "            'Calvin-9-50m-Free.txt'],\n",
      " 'Carl': ['Carl-15-100m-Back.txt'],\n",
      " 'Chris': ['Chris-17-100m-Back.txt', 'Chris-17-100m-Breast.txt'],\n",
      " 'Darius': ['Darius-13-100m-Back.txt',\n",
      "            'Darius-13-100m-Breast.txt',\n",
      "            'Darius-13-100m-Fly.txt',\n",
      "            'Darius-13-200m-IM.txt'],\n",
      " 'Dave': ['Dave-17-100m-Free.txt', 'Dave-17-200m-Back.txt'],\n",
      " 'Elba': ['Elba-14-100m-Free.txt'],\n",
      " 'Emma': ['Emma-13-100m-Breast.txt', 'Emma-13-100m-Free.txt'],\n",
      " 'Erika': ['Erika-15-100m-Breast.txt',\n",
      "           'Erika-15-100m-Free.txt',\n",
      "           'Erika-15-200m-Breast.txt'],\n",
      " 'Hannah': ['Hannah-13-100m-Back.txt', 'Hannah-13-100m-Free.txt'],\n",
      " 'Katie': ['Katie-9-100m-Back.txt',\n",
      "           'Katie-9-100m-Breast.txt',\n",
      "           'Katie-9-100m-Free.txt',\n",
      "           'Katie-9-50m-Back.txt',\n",
      "           'Katie-9-50m-Breast.txt',\n",
      "           'Katie-9-50m-Fly.txt',\n",
      "           'Katie-9-50m-Free.txt'],\n",
      " 'Lizzie': ['Lizzie-14-100m-Back.txt', 'Lizzie-14-100m-Free.txt'],\n",
      " 'Maria': ['Maria-9-50m-Free.txt'],\n",
      " 'Mike': ['Mike-15-100m-Back.txt',\n",
      "          'Mike-15-100m-Fly.txt',\n",
      "          'Mike-15-100m-Free.txt',\n",
      "          'Mike-15-200m-Free.txt',\n",
      "          'Mike-15-200m-IM.txt'],\n",
      " 'Owen': ['Owen-15-100m-Free.txt'],\n",
      " 'Ruth': ['Ruth-13-100m-Back.txt',\n",
      "          'Ruth-13-100m-Free.txt',\n",
      "          'Ruth-13-200m-Back.txt',\n",
      "          'Ruth-13-200m-Free.txt',\n",
      "          'Ruth-13-400m-Free.txt'],\n",
      " 'Tasmin': ['Tasmin-15-100m-Back.txt',\n",
      "            'Tasmin-15-100m-Breast.txt',\n",
      "            'Tasmin-15-100m-Free.txt',\n",
      "            'Tasmin-15-200m-Breast.txt']}\n"
     ]
    }
   ],
   "source": [
    "import pprint\n",
    "\n",
    "pprint.pprint(swimmers)"
   ]
  },
  {
   "cell_type": "code",
   "execution_count": 79,
   "metadata": {},
   "outputs": [
    {
     "ename": "AttributeError",
     "evalue": "module 'swimclub' has no attribute 'produce_bar_chart'",
     "output_type": "error",
     "traceback": [
      "\u001b[31m---------------------------------------------------------------------------\u001b[39m",
      "\u001b[31mAttributeError\u001b[39m                            Traceback (most recent call last)",
      "\u001b[36mCell\u001b[39m\u001b[36m \u001b[39m\u001b[32mIn[79]\u001b[39m\u001b[32m, line 8\u001b[39m\n\u001b[32m      4\u001b[39m \u001b[38;5;28;01mimport\u001b[39;00m\u001b[38;5;250m \u001b[39m\u001b[34;01mswimclub\u001b[39;00m\n\u001b[32m      7\u001b[39m \u001b[38;5;28;01mfor\u001b[39;00m fname \u001b[38;5;129;01min\u001b[39;00m swimmers[\u001b[33m\"\u001b[39m\u001b[33mCalvin\u001b[39m\u001b[33m\"\u001b[39m]:\n\u001b[32m----> \u001b[39m\u001b[32m8\u001b[39m     webbrowser.open(\u001b[33m\"\u001b[39m\u001b[33mfile://\u001b[39m\u001b[33m\"\u001b[39m + os.path.realpath(\u001b[43mswimclub\u001b[49m\u001b[43m.\u001b[49m\u001b[43mproduce_bar_chart\u001b[49m(fname)))\n",
      "\u001b[31mAttributeError\u001b[39m: module 'swimclub' has no attribute 'produce_bar_chart'"
     ]
    }
   ],
   "source": [
    "import os\n",
    "import webbrowser\n",
    "\n",
    "import swimclub\n",
    "\n",
    "\n",
    "for fname in swimmers[\"Calvin\"]:\n",
    "    webbrowser.open(\"file://\" + os.path.realpath(swimclub.produce_bar_chart(fname)))"
   ]
  },
  {
   "cell_type": "code",
   "execution_count": 80,
   "metadata": {},
   "outputs": [
    {
     "name": "stdout",
     "output_type": "stream",
     "text": [
      "The value for 'apple' in column 1 is: red\n"
     ]
    }
   ],
   "source": [
    "import csv\n",
    "\n",
    "def fetch_value_from_csv(filename, search_value, target_column_index):\n",
    "    with open(filename, 'r', newline='') as csvfile:\n",
    "        csv_reader = csv.reader(csvfile)\n",
    "        for row in csv_reader:\n",
    "            if row and row[0] == search_value:\n",
    "                if target_column_index < len(row):\n",
    "                    return row[target_column_index]\n",
    "                else:\n",
    "                    print(f\"Error: Target column index {target_column_index} is out of bounds for row: {row}\")\n",
    "                    return None\n",
    "    return None\n",
    "\n",
    "# Example usage:\n",
    "filename = 'data.csv'  # Replace with your CSV file name\n",
    "search_value = 'apple'\n",
    "target_column_index = 1  # Fetch the value from the second column (index 1)\n",
    "\n",
    "# Create a sample CSV file for demonstration\n",
    "with open(filename, 'w', newline='') as f:\n",
    "    writer = csv.writer(f)\n",
    "    writer.writerow(['fruit', 'color', 'price'])\n",
    "    writer.writerow(['apple', 'red', '1.00'])\n",
    "    writer.writerow(['banana', 'yellow', '0.50'])\n",
    "    writer.writerow(['orange', 'orange', '0.75'])\n",
    "\n",
    "result = fetch_value_from_csv(filename, search_value, target_column_index)\n",
    "if result:\n",
    "    print(f\"The value for '{search_value}' in column {target_column_index} is: {result}\")\n",
    "else:\n",
    "    print(f\"No match found for '{search_value}' in the first column.\")"
   ]
  },
  {
   "cell_type": "code",
   "execution_count": null,
   "metadata": {},
   "outputs": [],
   "source": []
  }
 ],
 "metadata": {
  "kernelspec": {
   "display_name": "Python 3",
   "language": "python",
   "name": "python3"
  },
  "language_info": {
   "codemirror_mode": {
    "name": "ipython",
    "version": 3
   },
   "file_extension": ".py",
   "mimetype": "text/x-python",
   "name": "python",
   "nbconvert_exporter": "python",
   "pygments_lexer": "ipython3",
   "version": "3.11.9"
  },
  "vscode": {
   "interpreter": {
    "hash": "5c7b89af1651d0b8571dde13640ecdccf7d5a6204171d6ab33e7c296e100e08a"
   }
  }
 },
 "nbformat": 4,
 "nbformat_minor": 2
}
