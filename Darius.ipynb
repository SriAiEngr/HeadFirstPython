{
 "cells": [
  {
   "cell_type": "code",
   "execution_count": null,
   "id": "5e550205",
   "metadata": {},
   "outputs": [],
   "source": [
    "FN = \"Darius-13-100m-Fly.txt\""
   ]
  },
  {
   "cell_type": "code",
   "execution_count": null,
   "id": "dc493033",
   "metadata": {},
   "outputs": [
    {
     "data": {
      "text/plain": [
       "str"
      ]
     },
     "execution_count": 146,
     "metadata": {},
     "output_type": "execute_result"
    }
   ],
   "source": [
    "type(FN)"
   ]
  },
  {
   "cell_type": "code",
   "execution_count": null,
   "id": "0bf377da",
   "metadata": {},
   "outputs": [
    {
     "name": "stdout",
     "output_type": "stream",
     "text": [
      "['__add__', '__class__', '__contains__', '__delattr__', '__dir__', '__doc__', '__eq__', '__format__', '__ge__', '__getattribute__', '__getitem__', '__getnewargs__', '__getstate__', '__gt__', '__hash__', '__init__', '__init_subclass__', '__iter__', '__le__', '__len__', '__lt__', '__mod__', '__mul__', '__ne__', '__new__', '__reduce__', '__reduce_ex__', '__repr__', '__rmod__', '__rmul__', '__setattr__', '__sizeof__', '__str__', '__subclasshook__', 'capitalize', 'casefold', 'center', 'count', 'encode', 'endswith', 'expandtabs', 'find', 'format', 'format_map', 'index', 'isalnum', 'isalpha', 'isascii', 'isdecimal', 'isdigit', 'isidentifier', 'islower', 'isnumeric', 'isprintable', 'isspace', 'istitle', 'isupper', 'join', 'ljust', 'lower', 'lstrip', 'maketrans', 'partition', 'removeprefix', 'removesuffix', 'replace', 'rfind', 'rindex', 'rjust', 'rpartition', 'rsplit', 'rstrip', 'split', 'splitlines', 'startswith', 'strip', 'swapcase', 'title', 'translate', 'upper', 'zfill']\n"
     ]
    }
   ],
   "source": [
    "print(dir(FN))"
   ]
  },
  {
   "cell_type": "code",
   "execution_count": null,
   "id": "b3e38663",
   "metadata": {},
   "outputs": [
    {
     "data": {
      "text/plain": [
       "'DARIUS-13-100M-FLY.TXT'"
      ]
     },
     "execution_count": 148,
     "metadata": {},
     "output_type": "execute_result"
    }
   ],
   "source": [
    "FN.upper()"
   ]
  },
  {
   "cell_type": "code",
   "execution_count": null,
   "id": "892705db",
   "metadata": {},
   "outputs": [
    {
     "data": {
      "text/plain": [
       "'darius-13-100m-fly.txt'"
      ]
     },
     "execution_count": 149,
     "metadata": {},
     "output_type": "execute_result"
    }
   ],
   "source": [
    "FN.lower()"
   ]
  },
  {
   "cell_type": "code",
   "execution_count": null,
   "id": "48f3dae1",
   "metadata": {},
   "outputs": [
    {
     "name": "stdout",
     "output_type": "stream",
     "text": [
      "Help on built-in function split:\n",
      "\n",
      "split(sep=None, maxsplit=-1) method of builtins.str instance\n",
      "    Return a list of the substrings in the string, using sep as the separator string.\n",
      "    \n",
      "      sep\n",
      "        The separator used to split the string.\n",
      "    \n",
      "        When set to None (the default value), will split on any whitespace\n",
      "        character (including \\n \\r \\t \\f and spaces) and will discard\n",
      "        empty strings from the result.\n",
      "      maxsplit\n",
      "        Maximum number of splits.\n",
      "        -1 (the default value) means no limit.\n",
      "    \n",
      "    Splitting starts at the front of the string and works to the end.\n",
      "    \n",
      "    Note, str.split() is mainly useful for data that has been intentionally\n",
      "    delimited.  With natural text that includes punctuation, consider using\n",
      "    the regular expression module.\n",
      "\n"
     ]
    }
   ],
   "source": [
    "help(FN.split)"
   ]
  },
  {
   "cell_type": "code",
   "execution_count": null,
   "id": "af42e068",
   "metadata": {},
   "outputs": [
    {
     "data": {
      "text/plain": [
       "['Darius-13-100m-Fly.txt']"
      ]
     },
     "execution_count": 151,
     "metadata": {},
     "output_type": "execute_result"
    }
   ],
   "source": [
    "FN.split()"
   ]
  },
  {
   "cell_type": "code",
   "execution_count": null,
   "id": "3d9e61d6",
   "metadata": {},
   "outputs": [
    {
     "data": {
      "text/plain": [
       "['Darius', '13', '100m', 'Fly.txt']"
      ]
     },
     "execution_count": 152,
     "metadata": {},
     "output_type": "execute_result"
    }
   ],
   "source": [
    "FN.split('-')"
   ]
  },
  {
   "cell_type": "code",
   "execution_count": null,
   "id": "5f4b16cb",
   "metadata": {},
   "outputs": [
    {
     "data": {
      "text/plain": [
       "['Darius-13-100m-Fly', 'txt']"
      ]
     },
     "execution_count": 153,
     "metadata": {},
     "output_type": "execute_result"
    }
   ],
   "source": [
    "FN.split('.')"
   ]
  },
  {
   "cell_type": "code",
   "execution_count": null,
   "id": "8aa4b0d4",
   "metadata": {},
   "outputs": [
    {
     "name": "stdout",
     "output_type": "stream",
     "text": [
      "Darius-13-100m-Fly.txt\n"
     ]
    },
    {
     "data": {
      "text/plain": [
       "'Darius-13-100m-Fly'"
      ]
     },
     "execution_count": 154,
     "metadata": {},
     "output_type": "execute_result"
    }
   ],
   "source": [
    "FN = \"Darius-13-100m-Fly.txt\"\n",
    "print(FN)\n",
    "#FN = FN.rstrip('.txt')\n",
    "#removesuffix\n",
    "FN.removesuffix('.txt')"
   ]
  },
  {
   "cell_type": "code",
   "execution_count": null,
   "id": "51d5226c",
   "metadata": {},
   "outputs": [
    {
     "data": {
      "text/plain": [
       "['Darius', '13', '100m', 'Fly.txt']"
      ]
     },
     "execution_count": 155,
     "metadata": {},
     "output_type": "execute_result"
    }
   ],
   "source": [
    "FN.split('-')"
   ]
  },
  {
   "cell_type": "code",
   "execution_count": null,
   "id": "3b42ceb2",
   "metadata": {},
   "outputs": [
    {
     "data": {
      "text/plain": [
       "['Darius', '13', '100m', 'Fly']"
      ]
     },
     "execution_count": 156,
     "metadata": {},
     "output_type": "execute_result"
    }
   ],
   "source": [
    "FN = \"Darius-13-100m-Fly.txt\"\n",
    "FN.removesuffix('.txt').split('-')"
   ]
  },
  {
   "cell_type": "code",
   "execution_count": null,
   "id": "89f702ba",
   "metadata": {},
   "outputs": [
    {
     "data": {
      "text/plain": [
       "['Darius', '13', '100m', 'Fly']"
      ]
     },
     "execution_count": 157,
     "metadata": {},
     "output_type": "execute_result"
    }
   ],
   "source": [
    "parts = FN.removesuffix('.txt').split('-')\n",
    "parts"
   ]
  },
  {
   "cell_type": "code",
   "execution_count": 158,
   "id": "bd941952",
   "metadata": {},
   "outputs": [],
   "source": [
    "swimmer = parts[0]\n",
    "age = parts[1]\n",
    "distance = parts[2]\n",
    "stroke = parts[3]"
   ]
  },
  {
   "cell_type": "code",
   "execution_count": 159,
   "id": "7ff28e92",
   "metadata": {},
   "outputs": [
    {
     "data": {
      "text/plain": [
       "'Darius'"
      ]
     },
     "execution_count": 159,
     "metadata": {},
     "output_type": "execute_result"
    }
   ],
   "source": [
    "swimmer"
   ]
  },
  {
   "cell_type": "code",
   "execution_count": 1,
   "id": "62cae6f5",
   "metadata": {},
   "outputs": [
    {
     "data": {
      "text/plain": [
       "('Darius', '13', '100m', 'Fly')"
      ]
     },
     "execution_count": 1,
     "metadata": {},
     "output_type": "execute_result"
    }
   ],
   "source": [
    "FN = \"Darius-13-100m-Fly.txt\"\n",
    "swimmer, age, distance, stroke = FN.removesuffix('.txt').split('-')\n",
    "swimmer, age, distance, stroke"
   ]
  },
  {
   "cell_type": "code",
   "execution_count": 3,
   "id": "f411a531",
   "metadata": {},
   "outputs": [],
   "source": [
    "data=[\"1:27.95\",\"1:21.07\"]"
   ]
  },
  {
   "cell_type": "code",
   "execution_count": 4,
   "id": "ea902ded",
   "metadata": {},
   "outputs": [
    {
     "data": {
      "text/plain": [
       "list"
      ]
     },
     "execution_count": 4,
     "metadata": {},
     "output_type": "execute_result"
    }
   ],
   "source": [
    "type(data)"
   ]
  },
  {
   "cell_type": "code",
   "execution_count": 5,
   "id": "8f2eac88",
   "metadata": {},
   "outputs": [
    {
     "data": {
      "text/plain": [
       "'1:27.95'"
      ]
     },
     "execution_count": 5,
     "metadata": {},
     "output_type": "execute_result"
    }
   ],
   "source": [
    "data[0]"
   ]
  },
  {
   "cell_type": "code",
   "execution_count": 6,
   "id": "86ee7ffc",
   "metadata": {},
   "outputs": [
    {
     "data": {
      "text/plain": [
       "['1', '27.95']"
      ]
     },
     "execution_count": 6,
     "metadata": {},
     "output_type": "execute_result"
    }
   ],
   "source": [
    "data[0].split(':')"
   ]
  },
  {
   "cell_type": "code",
   "execution_count": 8,
   "id": "f839c302",
   "metadata": {},
   "outputs": [
    {
     "data": {
      "text/plain": [
       "['1', '27.95']"
      ]
     },
     "execution_count": 8,
     "metadata": {},
     "output_type": "execute_result"
    }
   ],
   "source": [
    "subdata = data[0].split(':')\n",
    "subdata"
   ]
  },
  {
   "cell_type": "code",
   "execution_count": 9,
   "id": "fad7cf18",
   "metadata": {},
   "outputs": [
    {
     "data": {
      "text/plain": [
       "'1'"
      ]
     },
     "execution_count": 9,
     "metadata": {},
     "output_type": "execute_result"
    }
   ],
   "source": [
    "subdata[0]"
   ]
  },
  {
   "cell_type": "code",
   "execution_count": 10,
   "id": "095e8a10",
   "metadata": {},
   "outputs": [
    {
     "data": {
      "text/plain": [
       "'27.95'"
      ]
     },
     "execution_count": 10,
     "metadata": {},
     "output_type": "execute_result"
    }
   ],
   "source": [
    "subdata[1]"
   ]
  },
  {
   "cell_type": "code",
   "execution_count": 11,
   "id": "3d246762",
   "metadata": {},
   "outputs": [
    {
     "data": {
      "text/plain": [
       "['27', '95']"
      ]
     },
     "execution_count": 11,
     "metadata": {},
     "output_type": "execute_result"
    }
   ],
   "source": [
    "subdata[1].split('.')"
   ]
  },
  {
   "cell_type": "code",
   "execution_count": null,
   "id": "497625b8",
   "metadata": {},
   "outputs": [],
   "source": []
  }
 ],
 "metadata": {
  "kernelspec": {
   "display_name": "Python 3",
   "language": "python",
   "name": "python3"
  },
  "language_info": {
   "codemirror_mode": {
    "name": "ipython",
    "version": 3
   },
   "file_extension": ".py",
   "mimetype": "text/x-python",
   "name": "python",
   "nbconvert_exporter": "python",
   "pygments_lexer": "ipython3",
   "version": "3.11.9"
  }
 },
 "nbformat": 4,
 "nbformat_minor": 5
}
