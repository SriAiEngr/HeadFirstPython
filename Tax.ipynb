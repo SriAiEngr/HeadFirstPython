{
 "cells": [
  {
   "cell_type": "code",
   "execution_count": null,
   "id": "bb37aa6f",
   "metadata": {},
   "outputs": [
    {
     "ename": "TypeError",
     "evalue": "read expected 2 arguments, got 1",
     "output_type": "error",
     "traceback": [
      "\u001b[31m---------------------------------------------------------------------------\u001b[39m",
      "\u001b[31mTypeError\u001b[39m                                 Traceback (most recent call last)",
      "\u001b[36mCell\u001b[39m\u001b[36m \u001b[39m\u001b[32mIn[5]\u001b[39m\u001b[32m, line 6\u001b[39m\n\u001b[32m      3\u001b[39m OSFile = \u001b[33m'\u001b[39m\u001b[33mTest.csv\u001b[39m\u001b[33m'\u001b[39m\n\u001b[32m      5\u001b[39m csvfile = os.path.join(OSFolder,OSFile)\n\u001b[32m----> \u001b[39m\u001b[32m6\u001b[39m \u001b[38;5;28mprint\u001b[39m(\u001b[43mos\u001b[49m\u001b[43m.\u001b[49m\u001b[43mread\u001b[49m\u001b[43m(\u001b[49m\u001b[43mcsvfile\u001b[49m\u001b[43m)\u001b[49m)\n",
      "\u001b[31mTypeError\u001b[39m: read expected 2 arguments, got 1"
     ]
    }
   ],
   "source": [
    "import os\n",
    "OSFolder = 'C:\\SriAIEngr\\Head_First_Python\\Learning'\n",
    "#https://www.canada.ca/en/revenue-agency/services/tax/businesses/topics/gst-hst-businesses/charge-collect-which-rate/calculator.html\n",
    "OSFile = 'Tax.csv'\n",
    "\n",
    "csvfile = os.path.join(OSFolder,OSFile)\n",
    "print(os.read(csvfile))\n"
   ]
  },
  {
   "cell_type": "code",
   "execution_count": 2,
   "id": "5cacb3a1",
   "metadata": {},
   "outputs": [
    {
     "name": "stdout",
     "output_type": "stream",
     "text": [
      "C:\\SriAIEngr\\Head_First_Python\\Learning\\Tax.csv\n",
      "['ï»¿Province', 'Name', 'GST and HST', 'PST']\n",
      "['AB', 'Alberta', '5%', '0%']\n",
      "['BC', 'British Columbia', '5%', '7%']\n",
      "['MB', 'Manitoba', '5%', '7%']\n",
      "['NB', 'New Brunswick', '15%', 'N/A']\n",
      "['NL', 'Newfoundland and Labrador', '15%', 'N/A']\n",
      "['NT', 'Northwest Territories', '5%', '0%']\n",
      "['NS', 'Nova Scotia', '14%', 'N/A']\n",
      "['NB', 'Nunavut', '5%', '0%']\n",
      "['OB', 'Ontario', '13%', 'N/A']\n",
      "['QB', 'Quebec', '5%', '9.98%']\n",
      "['PEI', 'Prince Edward Island', '15%', 'N/A']\n",
      "['SB', 'Saskatchewan', '5%', '6%']\n",
      "['YB', 'Yukon', '5%', '0%']\n"
     ]
    }
   ],
   "source": [
    "import csv\n",
    "csvfile = 'C:\\SriAIEngr\\Head_First_Python\\Learning\\Tax.csv'\n",
    "print(csvfile)\n",
    "with open(csvfile, 'r') as file:\n",
    "    reader = csv.reader(file)\n",
    "    for row in reader:\n",
    "        print(row)"
   ]
  },
  {
   "cell_type": "code",
   "execution_count": 17,
   "id": "61a7856d",
   "metadata": {},
   "outputs": [
    {
     "name": "stdout",
     "output_type": "stream",
     "text": [
      "Tax.csv\n",
      "The value for 'QB' in column 2 is: 5%\n"
     ]
    }
   ],
   "source": [
    "import csv\n",
    "def fetch_value_from_csv(filename, search_value, target_column_index):\n",
    "    with open(filename, 'r', newline='') as csvfile:\n",
    "        csv_reader = csv.reader(csvfile)\n",
    "        for row in csv_reader:\n",
    "            if row and row[0] == search_value:\n",
    "                if target_column_index < len(row):\n",
    "                    return row[target_column_index+1]\n",
    "                else:\n",
    "                    print(f\"Error: Target column index {target_column_index} is out of bounds for row: {row}\")\n",
    "                    return None\n",
    "    return None\n",
    "filename = 'Tax.csv'\n",
    "search_value = 'QB'\n",
    "target_column_index = 1 \n",
    "print(filename)\n",
    "\n",
    "result = fetch_value_from_csv(filename, search_value,target_column_index)\n",
    "if result:\n",
    "    print(f\"The value for '{search_value}' in column 2 is: {result}\")\n",
    "else:\n",
    "    print(f\"No match found for '{search_value}' in the first column.\")    "
   ]
  },
  {
   "cell_type": "code",
   "execution_count": 10,
   "id": "31948bd9",
   "metadata": {},
   "outputs": [
    {
     "name": "stdout",
     "output_type": "stream",
     "text": [
      "<table class=\"small table table-bordered table-condensed table-responsive\">\n",
      "        <caption>GST/HST and PST rates</caption>\n",
      "        <thead>\n",
      "            <tr class=\"active\">\n",
      "                <th scope=\"col\">Province</th>\n",
      "                <th scope=\"col\" class=\"text-center\">GST and HST</th>\n",
      "                <th scope=\"col\" class=\"text-center nowrap\">PST</th>\n",
      "            </tr>\n",
      "        </thead>\n",
      "        <tbody>\n",
      "            <tr>\n",
      "                <td><img src=\"/content/dam/cra-arc/images/flag-ab.png\" class=\"mrgn-rght-md\" alt=\"\"> Alberta</td>\n",
      "                <td class=\"text-center\">5%</td>\n",
      "                <td class=\"text-center\">0%</td>\n",
      "            </tr>\n",
      "            <tr>\n",
      "                <td><img src=\"/content/dam/cra-arc/images/flag-bc.png\" class=\"mrgn-rght-md\" alt=\"\"> British Columbia</td>\n",
      "                <td class=\"text-center\">5%</td>\n",
      "                <td class=\"text-center\">7%</td>\n",
      "            </tr>\n",
      "            <tr>\n",
      "                <td><img src=\"/content/dam/cra-arc/images/flag-mb.png\" class=\"mrgn-rght-md\" alt=\"\"> Manitoba</td>\n",
      "                <td class=\"text-center\">5%</td>\n",
      "                <td class=\"text-center\">7%</td>\n",
      "            </tr>\n",
      "            <tr>\n",
      "                <td><img src=\"/content/dam/cra-arc/images/flag-nb.png\" class=\"mrgn-rght-md\" alt=\"\"> New Brunswick</td>\n",
      "                <td class=\"text-center\">15%</td>\n",
      "                <td class=\"text-center\">N/A</td>\n",
      "            </tr>\n",
      "            <tr>\n",
      "                <td><img src=\"/content/dam/cra-arc/images/flag-nl.png\" class=\"mrgn-rght-md\" alt=\"\"> Newfoundland and Labrador</td>\n",
      "                <td class=\"text-center\">15%</td>\n",
      "                <td class=\"text-center\">N/A</td>\n",
      "            </tr>\n",
      "            <tr>\n",
      "                <td><img src=\"/content/dam/cra-arc/images/flag-nt.png\" class=\"mrgn-rght-md\" alt=\"\"> Northwest Territories</td>\n",
      "                <td class=\"text-center\">5%</td>\n",
      "                <td class=\"text-center\">0%</td>\n",
      "            </tr>\n",
      "            <tr>\n",
      "                <td><img src=\"/content/dam/cra-arc/images/flag-ns.png\" class=\"mrgn-rght-md\" alt=\"\"> Nova Scotia</td>\n",
      "                <td class=\"text-center\">14%</td>\n",
      "                <td class=\"text-center\">N/A</td>\n",
      "            </tr>\n",
      "            <tr>\n",
      "                <td><img src=\"/content/dam/cra-arc/images/flag-nu.png\" class=\"mrgn-rght-md\" alt=\"\"> Nunavut</td>\n",
      "                <td class=\"text-center\">5%</td>\n",
      "                <td class=\"text-center\">0%</td>\n",
      "            </tr>\n",
      "            <tr>\n",
      "                <td><img src=\"/content/dam/cra-arc/images/flag-on.png\" class=\"mrgn-rght-md\" alt=\"\"> Ontario</td>\n",
      "                <td class=\"text-center\">13%</td>\n",
      "                <td class=\"text-center\">N/A</td>\n",
      "            </tr>\n",
      "            <tr>\n",
      "                <td><img src=\"/content/dam/cra-arc/images/flag-qc.png\" class=\"mrgn-rght-md\" alt=\"\"> Quebec</td>\n",
      "                <td class=\"text-center\">5%</td>\n",
      "                <td class=\"text-center\">9.975%</td>\n",
      "            </tr>\n",
      "            <tr>\n",
      "                <td><img src=\"/content/dam/cra-arc/images/flag-pe.png\" class=\"mrgn-rght-md\" alt=\"\"> Prince Edward Island</td>\n",
      "                <td class=\"text-center\">15%</td>\n",
      "                <td class=\"text-center\">N/A</td>\n",
      "            </tr>\n",
      "            <tr>\n",
      "                <td><img src=\"/content/dam/cra-arc/images/flag-sk.png\" class=\"mrgn-rght-md\" alt=\"\"> Saskatchewan</td>\n",
      "                <td class=\"text-center\">5%</td>\n",
      "                <td class=\"text-center\">6%</td>\n",
      "            </tr>\n",
      "            <tr>\n",
      "                <td><img src=\"/content/dam/cra-arc/images/flag-yt.png\" class=\"mrgn-rght-md\" alt=\"\"> Yukon</td>\n",
      "                <td class=\"text-center\">5%</td>\n",
      "                <td class=\"text-center\">0%</td>\n",
      "            </tr>\n",
      "        </tbody>\n",
      "    </table>\n",
      "Alberta -> 5%\n",
      "British Columbia -> 5%\n",
      "Manitoba -> 5%\n",
      "New Brunswick -> 15%\n",
      "Newfoundland and Labrador -> 15%\n",
      "Northwest Territories -> 5%\n",
      "Nova Scotia -> 14%\n",
      "Nunavut -> 5%\n",
      "Ontario -> 13%\n",
      "Quebec -> 5%\n",
      "Prince Edward Island -> 15%\n",
      "Saskatchewan -> 5%\n",
      "Yukon -> 5%\n"
     ]
    }
   ],
   "source": [
    "URL = \"https://www.canada.ca/en/revenue-agency/services/tax/businesses/topics/gst-hst-businesses/charge-collect-which-rate/calculator.html\"\n",
    "import gazpacho\n",
    "html = gazpacho.get(URL)\n",
    "soup = gazpacho.Soup(html)\n",
    "tables = soup.find(\"table\")\n",
    "rows = tables[0].find(\"tr\",mode=\"all\")\n",
    "table = tables[0]\n",
    "print(table)\n",
    "for row in table.find(\"tr\", mode=\"all\")[1:]:\n",
    "    columns = row.find(\"td\" , mode=\"all\")\n",
    "    event = columns[0].text\n",
    "    time = columns[1].text\n",
    "    print(f\"{event} -> {time}\")\n"
   ]
  },
  {
   "cell_type": "code",
   "execution_count": 3,
   "id": "266fcf75",
   "metadata": {},
   "outputs": [
    {
     "name": "stdout",
     "output_type": "stream",
     "text": [
      "5%\n"
     ]
    }
   ],
   "source": [
    "URL = \"https://www.canada.ca/en/revenue-agency/services/tax/businesses/topics/gst-hst-businesses/charge-collect-which-rate/calculator.html\"\n",
    "import gazpacho\n",
    "html = gazpacho.get(URL)\n",
    "soup = gazpacho.Soup(html)\n",
    "tables = soup.find(\"table\")\n",
    "rows = tables[0].find(\"tr\",mode=\"all\")\n",
    "for row in table.find(\"tr\", mode=\"all\")[1:]:\n",
    "    columns = row.find(\"td\" , mode=\"all\")\n",
    "    Province = columns[0].text\n",
    "    Tax = columns[1].text\n",
    "    #print(f\"{Province} -> {Tax}\")\n",
    "    if Province == \"Alberta\":\n",
    "        print(f\"{Tax}\")"
   ]
  },
  {
   "cell_type": "code",
   "execution_count": 9,
   "id": "fde92ec9",
   "metadata": {},
   "outputs": [
    {
     "name": "stdout",
     "output_type": "stream",
     "text": [
      "None\n"
     ]
    }
   ],
   "source": [
    "statename = str(input(\"Enter the Province (Ex: ON,BC): \"))\n",
    "import fetch_value_from_website\n",
    "taxPerc = fetch_value_from_website.fetch_value_from_website(statename)\n",
    "print(taxPerc)"
   ]
  },
  {
   "cell_type": "code",
   "execution_count": null,
   "id": "eedc586a",
   "metadata": {},
   "outputs": [],
   "source": []
  }
 ],
 "metadata": {
  "kernelspec": {
   "display_name": "Python 3",
   "language": "python",
   "name": "python3"
  },
  "language_info": {
   "codemirror_mode": {
    "name": "ipython",
    "version": 3
   },
   "file_extension": ".py",
   "mimetype": "text/x-python",
   "name": "python",
   "nbconvert_exporter": "python",
   "pygments_lexer": "ipython3",
   "version": "3.11.9"
  }
 },
 "nbformat": 4,
 "nbformat_minor": 5
}
