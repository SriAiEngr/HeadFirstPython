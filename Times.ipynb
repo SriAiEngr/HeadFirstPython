{
 "cells": [
  {
   "cell_type": "code",
   "execution_count": 10,
   "id": "ecef8431",
   "metadata": {},
   "outputs": [],
   "source": [
    "FN = \"Darius-13-100m-Fly.txt\"\n",
    "FOLDER = \"swimdata/\""
   ]
  },
  {
   "cell_type": "code",
   "execution_count": 11,
   "id": "c312db50",
   "metadata": {},
   "outputs": [],
   "source": [
    "swimmer, age, distance, stroke = FN.removesuffix('.txt').split('-')"
   ]
  },
  {
   "cell_type": "code",
   "execution_count": 12,
   "id": "b63c365d",
   "metadata": {},
   "outputs": [],
   "source": [
    "with open(FOLDER+FN) as df:\n",
    "    data = df.readlines()\n",
    "times = data[0].strip().split(',')"
   ]
  },
  {
   "cell_type": "code",
   "execution_count": 13,
   "id": "5b5470c7",
   "metadata": {},
   "outputs": [],
   "source": [
    "converts = []\n",
    "for t in times:\n",
    "\tminutes,rest = t.split(':')\n",
    "\tseconds,hundredths = rest.split('.')\n",
    "\tconverts.append(int(minutes)*60*100 + int(seconds)*100 + int(hundredths))"
   ]
  },
  {
   "cell_type": "code",
   "execution_count": 14,
   "id": "b72ea4dc",
   "metadata": {},
   "outputs": [],
   "source": [
    "import statistics\n",
    "avg = statistics.mean(converts)\n",
    "mins_secs, hundredths = str(round(avg/100,2)).split(\".\")\n",
    "mins_secs = int(mins_secs)\n",
    "minutes = mins_secs//60\n",
    "seconds = mins_secs-minutes*60\n",
    "average = str(minutes) + \":\" + str(seconds) + \".\" + hundredths\n"
   ]
  },
  {
   "cell_type": "code",
   "execution_count": 15,
   "id": "668484fa",
   "metadata": {},
   "outputs": [
    {
     "data": {
      "text/plain": [
       "('Darius', '13', '100m', 'Fly')"
      ]
     },
     "execution_count": 15,
     "metadata": {},
     "output_type": "execute_result"
    }
   ],
   "source": [
    "swimmer, age, distance, stroke"
   ]
  },
  {
   "cell_type": "code",
   "execution_count": 16,
   "id": "5e53d597",
   "metadata": {},
   "outputs": [
    {
     "data": {
      "text/plain": [
       "['1:27.95', '1:21.07', '1:30.96', '1:23.22', '1:27.95', '1:28.30']"
      ]
     },
     "execution_count": 16,
     "metadata": {},
     "output_type": "execute_result"
    }
   ],
   "source": [
    "times"
   ]
  },
  {
   "cell_type": "code",
   "execution_count": 17,
   "id": "109a3e08",
   "metadata": {},
   "outputs": [
    {
     "data": {
      "text/plain": [
       "'1:26.58'"
      ]
     },
     "execution_count": 17,
     "metadata": {},
     "output_type": "execute_result"
    }
   ],
   "source": [
    "average"
   ]
  },
  {
   "cell_type": "code",
   "execution_count": null,
   "id": "c4361451",
   "metadata": {},
   "outputs": [],
   "source": []
  }
 ],
 "metadata": {
  "kernelspec": {
   "display_name": "Python 3",
   "language": "python",
   "name": "python3"
  },
  "language_info": {
   "codemirror_mode": {
    "name": "ipython",
    "version": 3
   },
   "file_extension": ".py",
   "mimetype": "text/x-python",
   "name": "python",
   "nbconvert_exporter": "python",
   "pygments_lexer": "ipython3",
   "version": "3.11.9"
  }
 },
 "nbformat": 4,
 "nbformat_minor": 5
}
