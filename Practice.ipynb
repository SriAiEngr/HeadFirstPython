{
 "cells": [
  {
   "cell_type": "code",
   "execution_count": 34,
   "id": "58cda850",
   "metadata": {},
   "outputs": [],
   "source": [
    "minutes = 45\n",
    "seconds = 57\n",
    "hundredths = 34"
   ]
  },
  {
   "cell_type": "code",
   "execution_count": 35,
   "id": "1f21577a",
   "metadata": {},
   "outputs": [
    {
     "data": {
      "text/plain": [
       "'45:57.34'"
      ]
     },
     "execution_count": 35,
     "metadata": {},
     "output_type": "execute_result"
    }
   ],
   "source": [
    "average1 = str(minutes) + \":\" + str(seconds) + \".\" + str(hundredths)\n",
    "average1\n"
   ]
  },
  {
   "cell_type": "code",
   "execution_count": 36,
   "id": "288231c4",
   "metadata": {},
   "outputs": [
    {
     "data": {
      "text/plain": [
       "'45:57.34'"
      ]
     },
     "execution_count": 36,
     "metadata": {},
     "output_type": "execute_result"
    }
   ],
   "source": [
    "average2 = f\"{minutes}:{seconds}.{hundredths}\"\n",
    "average2"
   ]
  },
  {
   "cell_type": "code",
   "execution_count": 37,
   "id": "43bf369f",
   "metadata": {},
   "outputs": [
    {
     "name": "stdout",
     "output_type": "stream",
     "text": [
      "60\n"
     ]
    }
   ],
   "source": [
    "import os\n",
    "\n",
    "import swimclub\n",
    "\n",
    "\n",
    "swim_files = os.listdir(swimclub.FOLDER)\n",
    "swim_files.remove(\".DS_Store\")\n",
    "\n",
    "print(len(swim_files))"
   ]
  },
  {
   "cell_type": "code",
   "execution_count": 38,
   "id": "964ddb0c",
   "metadata": {},
   "outputs": [
    {
     "data": {
      "text/plain": [
       "['Abi-10-100m-Back.txt',\n",
       " 'Abi-10-100m-Breast.txt',\n",
       " 'Abi-10-50m-Back.txt',\n",
       " 'Abi-10-50m-Breast.txt',\n",
       " 'Abi-10-50m-Free.txt',\n",
       " 'Ali-12-100m-Back.txt',\n",
       " 'Ali-12-100m-Free.txt',\n",
       " 'Alison-14-100m-Breast.txt',\n",
       " 'Alison-14-100m-Free.txt',\n",
       " 'Aurora-13-50m-Free.txt',\n",
       " 'Bill-18-100m-Back.txt',\n",
       " 'Bill-18-200m-Back.txt',\n",
       " 'Blake-15-100m-Back.txt',\n",
       " 'Blake-15-100m-Fly.txt',\n",
       " 'Blake-15-100m-Free.txt',\n",
       " 'Calvin-9-50m-Back.txt',\n",
       " 'Calvin-9-50m-Fly.txt',\n",
       " 'Calvin-9-50m-Free.txt',\n",
       " 'Carl-15-100m-Back.txt',\n",
       " 'Chris-17-100m-Back.txt',\n",
       " 'Chris-17-100m-Breast.txt',\n",
       " 'Darius-13-100m-Back.txt',\n",
       " 'Darius-13-100m-Breast.txt',\n",
       " 'Darius-13-100m-Fly.txt',\n",
       " 'Darius-13-200m-IM.txt',\n",
       " 'Dave-17-100m-Free.txt',\n",
       " 'Dave-17-200m-Back.txt',\n",
       " 'Elba-14-100m-Free.txt',\n",
       " 'Emma-13-100m-Breast.txt',\n",
       " 'Emma-13-100m-Free.txt',\n",
       " 'Erika-15-100m-Breast.txt',\n",
       " 'Erika-15-100m-Free.txt',\n",
       " 'Erika-15-200m-Breast.txt',\n",
       " 'Hannah-13-100m-Back.txt',\n",
       " 'Hannah-13-100m-Free.txt',\n",
       " 'Katie-9-100m-Back.txt',\n",
       " 'Katie-9-100m-Breast.txt',\n",
       " 'Katie-9-100m-Free.txt',\n",
       " 'Katie-9-50m-Back.txt',\n",
       " 'Katie-9-50m-Breast.txt',\n",
       " 'Katie-9-50m-Fly.txt',\n",
       " 'Katie-9-50m-Free.txt',\n",
       " 'Lizzie-14-100m-Back.txt',\n",
       " 'Lizzie-14-100m-Free.txt',\n",
       " 'Maria-9-50m-Free.txt',\n",
       " 'Mike-15-100m-Back.txt',\n",
       " 'Mike-15-100m-Fly.txt',\n",
       " 'Mike-15-100m-Free.txt',\n",
       " 'Mike-15-200m-Free.txt',\n",
       " 'Mike-15-200m-IM.txt',\n",
       " 'Owen-15-100m-Free.txt',\n",
       " 'Ruth-13-100m-Back.txt',\n",
       " 'Ruth-13-100m-Free.txt',\n",
       " 'Ruth-13-200m-Back.txt',\n",
       " 'Ruth-13-200m-Free.txt',\n",
       " 'Ruth-13-400m-Free.txt',\n",
       " 'Tasmin-15-100m-Back.txt',\n",
       " 'Tasmin-15-100m-Breast.txt',\n",
       " 'Tasmin-15-100m-Free.txt',\n",
       " 'Tasmin-15-200m-Breast.txt']"
      ]
     },
     "execution_count": 38,
     "metadata": {},
     "output_type": "execute_result"
    }
   ],
   "source": [
    "swim_files"
   ]
  },
  {
   "cell_type": "code",
   "execution_count": 39,
   "id": "9202f3e2",
   "metadata": {},
   "outputs": [
    {
     "name": "stdout",
     "output_type": "stream",
     "text": [
      "['Abi', 'Abi', 'Abi', 'Abi', 'Abi', 'Ali', 'Ali', 'Alison', 'Alison', 'Aurora', 'Bill', 'Bill', 'Blake', 'Blake', 'Blake', 'Calvin', 'Calvin', 'Calvin', 'Carl', 'Chris', 'Chris', 'Darius', 'Darius', 'Darius', 'Darius', 'Dave', 'Dave', 'Elba', 'Emma', 'Emma', 'Erika', 'Erika', 'Erika', 'Hannah', 'Hannah', 'Katie', 'Katie', 'Katie', 'Katie', 'Katie', 'Katie', 'Katie', 'Lizzie', 'Lizzie', 'Maria', 'Mike', 'Mike', 'Mike', 'Mike', 'Mike', 'Owen', 'Ruth', 'Ruth', 'Ruth', 'Ruth', 'Ruth', 'Tasmin', 'Tasmin', 'Tasmin', 'Tasmin']\n"
     ]
    }
   ],
   "source": [
    "swimmers = []\n",
    "for file in swim_files:\n",
    "    swimmers.append(swimclub.read_swim_data(file)[0])\n",
    "print(swimmers)"
   ]
  },
  {
   "cell_type": "code",
   "execution_count": 40,
   "id": "c5df6b76",
   "metadata": {},
   "outputs": [
    {
     "name": "stdout",
     "output_type": "stream",
     "text": [
      "None\n"
     ]
    }
   ],
   "source": [
    "test = []\n",
    "test=swimmers.append(swimclub.read_swim_data('Tasmin-15-200m-Breast.txt'))\n",
    "print(test)"
   ]
  },
  {
   "cell_type": "code",
   "execution_count": 41,
   "id": "822d3683",
   "metadata": {},
   "outputs": [
    {
     "data": {
      "text/plain": [
       "('Tasmin',\n",
       " '15',\n",
       " '200m',\n",
       " 'Breast',\n",
       " ['2:54.14', '3:03.58', '3:02.43', '2:57.99'],\n",
       " '2:59.53',\n",
       " [17414, 18358, 18243, 17799])"
      ]
     },
     "execution_count": 41,
     "metadata": {},
     "output_type": "execute_result"
    }
   ],
   "source": [
    "swimclub.read_swim_data('Tasmin-15-200m-Breast.txt')"
   ]
  },
  {
   "cell_type": "code",
   "execution_count": 42,
   "id": "e1f66c88",
   "metadata": {},
   "outputs": [
    {
     "name": "stdout",
     "output_type": "stream",
     "text": [
      "Tasmin\n"
     ]
    }
   ],
   "source": [
    "test = []\n",
    "test = swimclub.read_swim_data('Tasmin-15-200m-Breast.txt')\n",
    "print(test[0])"
   ]
  },
  {
   "cell_type": "code",
   "execution_count": 43,
   "id": "2049feeb",
   "metadata": {},
   "outputs": [
    {
     "name": "stdout",
     "output_type": "stream",
     "text": [
      "['Tasmin']\n"
     ]
    }
   ],
   "source": [
    "test = []\n",
    "test.append(swimclub.read_swim_data('Tasmin-15-200m-Breast.txt')[0])\n",
    "print(test)"
   ]
  },
  {
   "cell_type": "code",
   "execution_count": 44,
   "id": "0aab9eb5",
   "metadata": {},
   "outputs": [
    {
     "data": {
      "text/plain": [
       "['Abi-10-100m-Back.txt',\n",
       " 'Abi-10-100m-Breast.txt',\n",
       " 'Abi-10-50m-Back.txt',\n",
       " 'Abi-10-50m-Breast.txt',\n",
       " 'Abi-10-50m-Free.txt',\n",
       " 'Ali-12-100m-Back.txt',\n",
       " 'Ali-12-100m-Free.txt',\n",
       " 'Alison-14-100m-Breast.txt',\n",
       " 'Alison-14-100m-Free.txt',\n",
       " 'Aurora-13-50m-Free.txt',\n",
       " 'Bill-18-100m-Back.txt',\n",
       " 'Bill-18-200m-Back.txt',\n",
       " 'Blake-15-100m-Back.txt',\n",
       " 'Blake-15-100m-Fly.txt',\n",
       " 'Blake-15-100m-Free.txt',\n",
       " 'Calvin-9-50m-Back.txt',\n",
       " 'Calvin-9-50m-Fly.txt',\n",
       " 'Calvin-9-50m-Free.txt',\n",
       " 'Carl-15-100m-Back.txt',\n",
       " 'Chris-17-100m-Back.txt',\n",
       " 'Chris-17-100m-Breast.txt',\n",
       " 'Darius-13-100m-Back.txt',\n",
       " 'Darius-13-100m-Breast.txt',\n",
       " 'Darius-13-100m-Fly.txt',\n",
       " 'Darius-13-200m-IM.txt',\n",
       " 'Dave-17-100m-Free.txt',\n",
       " 'Dave-17-200m-Back.txt',\n",
       " 'Elba-14-100m-Free.txt',\n",
       " 'Emma-13-100m-Breast.txt',\n",
       " 'Emma-13-100m-Free.txt',\n",
       " 'Erika-15-100m-Breast.txt',\n",
       " 'Erika-15-100m-Free.txt',\n",
       " 'Erika-15-200m-Breast.txt',\n",
       " 'Hannah-13-100m-Back.txt',\n",
       " 'Hannah-13-100m-Free.txt',\n",
       " 'Katie-9-100m-Back.txt',\n",
       " 'Katie-9-100m-Breast.txt',\n",
       " 'Katie-9-100m-Free.txt',\n",
       " 'Katie-9-50m-Back.txt',\n",
       " 'Katie-9-50m-Breast.txt',\n",
       " 'Katie-9-50m-Fly.txt',\n",
       " 'Katie-9-50m-Free.txt',\n",
       " 'Lizzie-14-100m-Back.txt',\n",
       " 'Lizzie-14-100m-Free.txt',\n",
       " 'Maria-9-50m-Free.txt',\n",
       " 'Mike-15-100m-Back.txt',\n",
       " 'Mike-15-100m-Fly.txt',\n",
       " 'Mike-15-100m-Free.txt',\n",
       " 'Mike-15-200m-Free.txt',\n",
       " 'Mike-15-200m-IM.txt',\n",
       " 'Owen-15-100m-Free.txt',\n",
       " 'Ruth-13-100m-Back.txt',\n",
       " 'Ruth-13-100m-Free.txt',\n",
       " 'Ruth-13-200m-Back.txt',\n",
       " 'Ruth-13-200m-Free.txt',\n",
       " 'Ruth-13-400m-Free.txt',\n",
       " 'Tasmin-15-100m-Back.txt',\n",
       " 'Tasmin-15-100m-Breast.txt',\n",
       " 'Tasmin-15-100m-Free.txt',\n",
       " 'Tasmin-15-200m-Breast.txt']"
      ]
     },
     "execution_count": 44,
     "metadata": {},
     "output_type": "execute_result"
    }
   ],
   "source": [
    "swim_files"
   ]
  },
  {
   "cell_type": "code",
   "execution_count": 45,
   "id": "5de875aa",
   "metadata": {},
   "outputs": [
    {
     "name": "stdout",
     "output_type": "stream",
     "text": [
      "[('Abi', 'Abi-10-100m-Back.txt'), ('Abi', 'Abi-10-100m-Breast.txt'), ('Abi', 'Abi-10-50m-Back.txt'), ('Abi', 'Abi-10-50m-Breast.txt'), ('Abi', 'Abi-10-50m-Free.txt'), ('Ali', 'Ali-12-100m-Back.txt'), ('Ali', 'Ali-12-100m-Free.txt'), ('Alison', 'Alison-14-100m-Breast.txt'), ('Alison', 'Alison-14-100m-Free.txt'), ('Aurora', 'Aurora-13-50m-Free.txt'), ('Bill', 'Bill-18-100m-Back.txt'), ('Bill', 'Bill-18-200m-Back.txt'), ('Blake', 'Blake-15-100m-Back.txt'), ('Blake', 'Blake-15-100m-Fly.txt'), ('Blake', 'Blake-15-100m-Free.txt'), ('Calvin', 'Calvin-9-50m-Back.txt'), ('Calvin', 'Calvin-9-50m-Fly.txt'), ('Calvin', 'Calvin-9-50m-Free.txt'), ('Carl', 'Carl-15-100m-Back.txt'), ('Chris', 'Chris-17-100m-Back.txt'), ('Chris', 'Chris-17-100m-Breast.txt'), ('Darius', 'Darius-13-100m-Back.txt'), ('Darius', 'Darius-13-100m-Breast.txt'), ('Darius', 'Darius-13-100m-Fly.txt'), ('Darius', 'Darius-13-200m-IM.txt'), ('Dave', 'Dave-17-100m-Free.txt'), ('Dave', 'Dave-17-200m-Back.txt'), ('Elba', 'Elba-14-100m-Free.txt'), ('Emma', 'Emma-13-100m-Breast.txt'), ('Emma', 'Emma-13-100m-Free.txt'), ('Erika', 'Erika-15-100m-Breast.txt'), ('Erika', 'Erika-15-100m-Free.txt'), ('Erika', 'Erika-15-200m-Breast.txt'), ('Hannah', 'Hannah-13-100m-Back.txt'), ('Hannah', 'Hannah-13-100m-Free.txt'), ('Katie', 'Katie-9-100m-Back.txt'), ('Katie', 'Katie-9-100m-Breast.txt'), ('Katie', 'Katie-9-100m-Free.txt'), ('Katie', 'Katie-9-50m-Back.txt'), ('Katie', 'Katie-9-50m-Breast.txt'), ('Katie', 'Katie-9-50m-Fly.txt'), ('Katie', 'Katie-9-50m-Free.txt'), ('Lizzie', 'Lizzie-14-100m-Back.txt'), ('Lizzie', 'Lizzie-14-100m-Free.txt'), ('Maria', 'Maria-9-50m-Free.txt'), ('Mike', 'Mike-15-100m-Back.txt'), ('Mike', 'Mike-15-100m-Fly.txt'), ('Mike', 'Mike-15-100m-Free.txt'), ('Mike', 'Mike-15-200m-Free.txt'), ('Mike', 'Mike-15-200m-IM.txt'), ('Owen', 'Owen-15-100m-Free.txt'), ('Ruth', 'Ruth-13-100m-Back.txt'), ('Ruth', 'Ruth-13-100m-Free.txt'), ('Ruth', 'Ruth-13-200m-Back.txt'), ('Ruth', 'Ruth-13-200m-Free.txt'), ('Ruth', 'Ruth-13-400m-Free.txt'), ('Tasmin', 'Tasmin-15-100m-Back.txt'), ('Tasmin', 'Tasmin-15-100m-Breast.txt'), ('Tasmin', 'Tasmin-15-100m-Free.txt'), ('Tasmin', 'Tasmin-15-200m-Breast.txt')]\n",
      "60\n"
     ]
    }
   ],
   "source": [
    "test = []\n",
    "for file in swim_files:\n",
    "    swimclub.read_swim_data(file)[0]\n",
    "    test.append((swimclub.read_swim_data(file)[0],file))\n",
    "print(test)\n",
    "print(len(test))"
   ]
  },
  {
   "cell_type": "code",
   "execution_count": 46,
   "id": "f2fbfa05",
   "metadata": {},
   "outputs": [
    {
     "name": "stdout",
     "output_type": "stream",
     "text": [
      "shakthi 7\n",
      "Sidharra 8\n"
     ]
    }
   ],
   "source": [
    "name = ['shakthi', 'Sidharra']\n",
    "for n in name:\n",
    "    print(n,len(n))"
   ]
  },
  {
   "cell_type": "code",
   "execution_count": 47,
   "id": "9db04faf",
   "metadata": {},
   "outputs": [
    {
     "ename": "TypeError",
     "evalue": "unhashable type: 'list'",
     "output_type": "error",
     "traceback": [
      "\u001b[31m---------------------------------------------------------------------------\u001b[39m",
      "\u001b[31mTypeError\u001b[39m                                 Traceback (most recent call last)",
      "\u001b[36mCell\u001b[39m\u001b[36m \u001b[39m\u001b[32mIn[47]\u001b[39m\u001b[32m, line 1\u001b[39m\n\u001b[32m----> \u001b[39m\u001b[32m1\u001b[39m names = \u001b[38;5;28mlist\u001b[39m(\u001b[38;5;28;43mset\u001b[39;49m\u001b[43m(\u001b[49m\u001b[43mswimmers\u001b[49m\u001b[43m)\u001b[49m)\n\u001b[32m      2\u001b[39m \u001b[38;5;28mprint\u001b[39m(names)\n\u001b[32m      3\u001b[39m \u001b[38;5;28mprint\u001b[39m(\u001b[38;5;28mlen\u001b[39m(names))\n",
      "\u001b[31mTypeError\u001b[39m: unhashable type: 'list'"
     ]
    }
   ],
   "source": [
    "names = list(set(swimmers))\n",
    "print(names)\n",
    "print(len(names))"
   ]
  },
  {
   "cell_type": "markdown",
   "id": "5ba066b5",
   "metadata": {},
   "source": []
  },
  {
   "cell_type": "code",
   "execution_count": null,
   "id": "b843f5df",
   "metadata": {},
   "outputs": [
    {
     "name": "stdout",
     "output_type": "stream",
     "text": [
      "['Abi', 'Ali', 'Alison', 'Aurora', 'Bill', 'Blake', 'Calvin', 'Carl', 'Chris', 'Darius', 'Dave', 'Elba', 'Emma', 'Erika', 'Hannah', 'Katie', 'Lizzie', 'Maria', 'Mike', 'Owen', 'Ruth', 'Tasmin']\n",
      "22\n"
     ]
    }
   ],
   "source": [
    "swimmers = []\n",
    "for file in swim_files:\n",
    "    name = swimclub.read_swim_data(file)[0]\n",
    "    if name not in swimmers:\n",
    "        swimmers.append(name)\n",
    "print(swimmers)\n",
    "print(len(swimmers))"
   ]
  },
  {
   "cell_type": "code",
   "execution_count": null,
   "id": "2ba4a117",
   "metadata": {},
   "outputs": [
    {
     "name": "stdout",
     "output_type": "stream",
     "text": [
      "['Abi', 'Ali', 'Alison', 'Aurora', 'Bill', 'Blake', 'Calvin', 'Carl', 'Chris', 'Darius', 'Dave', 'Elba', 'Emma', 'Erika', 'Hannah', 'Katie', 'Lizzie', 'Maria', 'Mike', 'Owen', 'Ruth', 'Tasmin']\n"
     ]
    }
   ],
   "source": [
    "print(sorted(names))"
   ]
  },
  {
   "cell_type": "code",
   "execution_count": null,
   "id": "0a59ef34",
   "metadata": {},
   "outputs": [
    {
     "name": "stdout",
     "output_type": "stream",
     "text": [
      "['Abi', 'Ali', 'Alison', 'Aurora', 'Bill', 'Blake', 'Calvin', 'Carl', 'Chris', 'Darius', 'Dave', 'Elba', 'Emma', 'Erika', 'Hannah', 'Katie', 'Lizzie', 'Maria', 'Mike', 'Owen', 'Ruth', 'Tasmin']\n"
     ]
    }
   ],
   "source": [
    "print(sorted(swimmers))"
   ]
  },
  {
   "cell_type": "code",
   "execution_count": null,
   "id": "1820bacb",
   "metadata": {},
   "outputs": [
    {
     "name": "stdout",
     "output_type": "stream",
     "text": [
      "['Abi', 'Abi', 'Abi', 'Abi', 'Abi', 'Ali', 'Ali', 'Alison', 'Alison', 'Aurora', 'Bill', 'Bill', 'Blake', 'Blake', 'Blake', 'Calvin', 'Calvin', 'Calvin', 'Carl', 'Chris', 'Chris', 'Darius', 'Darius', 'Darius', 'Darius', 'Dave', 'Dave', 'Elba', 'Emma', 'Emma', 'Erika', 'Erika', 'Erika', 'Hannah', 'Hannah', 'Katie', 'Katie', 'Katie', 'Katie', 'Katie', 'Katie', 'Katie', 'Lizzie', 'Lizzie', 'Maria', 'Mike', 'Mike', 'Mike', 'Mike', 'Mike', 'Owen', 'Ruth', 'Ruth', 'Ruth', 'Ruth', 'Ruth', 'Tasmin', 'Tasmin', 'Tasmin', 'Tasmin']\n"
     ]
    }
   ],
   "source": [
    "swimmers = []\n",
    "for file in swim_files:\n",
    "    swimmers.append(swimclub.read_swim_data(file)[0])\n",
    "print(swimmers)"
   ]
  },
  {
   "cell_type": "code",
   "execution_count": null,
   "id": "b5eb4a81",
   "metadata": {},
   "outputs": [
    {
     "ename": "TypeError",
     "evalue": "list.append() takes exactly one argument (2 given)",
     "output_type": "error",
     "traceback": [
      "\u001b[31m---------------------------------------------------------------------------\u001b[39m",
      "\u001b[31mTypeError\u001b[39m                                 Traceback (most recent call last)",
      "\u001b[36mCell\u001b[39m\u001b[36m \u001b[39m\u001b[32mIn[16]\u001b[39m\u001b[32m, line 4\u001b[39m\n\u001b[32m      2\u001b[39m \u001b[38;5;28;01mfor\u001b[39;00m file \u001b[38;5;129;01min\u001b[39;00m swim_files:\n\u001b[32m      3\u001b[39m     swimclub.read_swim_data(file)[\u001b[32m0\u001b[39m]\n\u001b[32m----> \u001b[39m\u001b[32m4\u001b[39m     \u001b[43mswimmers\u001b[49m\u001b[43m.\u001b[49m\u001b[43mappend\u001b[49m\u001b[43m(\u001b[49m\u001b[43mswimclub\u001b[49m\u001b[43m.\u001b[49m\u001b[43mread_swim_data\u001b[49m\u001b[43m(\u001b[49m\u001b[43mfile\u001b[49m\u001b[43m)\u001b[49m\u001b[43m[\u001b[49m\u001b[32;43m0\u001b[39;49m\u001b[43m]\u001b[49m\u001b[43m,\u001b[49m\u001b[43m \u001b[49m\u001b[43mfile\u001b[49m\u001b[43m)\u001b[49m    \n\u001b[32m      5\u001b[39m \u001b[38;5;28mprint\u001b[39m(swimmers)\n",
      "\u001b[31mTypeError\u001b[39m: list.append() takes exactly one argument (2 given)"
     ]
    }
   ],
   "source": [
    "swimmers = []\n",
    "for file in swim_files:\n",
    "    swimclub.read_swim_data(file)[0]\n",
    "    swimmers.append((swimclub.read_swim_data(file)[0], file))\n",
    "print(swimmers)"
   ]
  },
  {
   "cell_type": "code",
   "execution_count": null,
   "id": "293eb388",
   "metadata": {},
   "outputs": [
    {
     "name": "stdout",
     "output_type": "stream",
     "text": [
      "60\n"
     ]
    }
   ],
   "source": [
    "import os\n",
    "\n",
    "import swimclub\n",
    "\n",
    "\n",
    "swim_files = os.listdir(swimclub.FOLDER)\n",
    "swim_files.remove(\".DS_Store\")\n",
    "\n",
    "print(len(swim_files))"
   ]
  },
  {
   "cell_type": "code",
   "execution_count": null,
   "id": "b9d079c9",
   "metadata": {},
   "outputs": [
    {
     "name": "stdout",
     "output_type": "stream",
     "text": [
      "['Abi-10-100m-Back.txt', 'Abi-10-100m-Breast.txt', 'Abi-10-50m-Back.txt', 'Abi-10-50m-Breast.txt', 'Abi-10-50m-Free.txt', 'Ali-12-100m-Back.txt', 'Ali-12-100m-Free.txt', 'Alison-14-100m-Breast.txt', 'Alison-14-100m-Free.txt', 'Aurora-13-50m-Free.txt', 'Bill-18-100m-Back.txt', 'Bill-18-200m-Back.txt', 'Blake-15-100m-Back.txt', 'Blake-15-100m-Fly.txt', 'Blake-15-100m-Free.txt', 'Calvin-9-50m-Back.txt', 'Calvin-9-50m-Fly.txt', 'Calvin-9-50m-Free.txt', 'Carl-15-100m-Back.txt', 'Chris-17-100m-Back.txt', 'Chris-17-100m-Breast.txt', 'Darius-13-100m-Back.txt', 'Darius-13-100m-Breast.txt', 'Darius-13-100m-Fly.txt', 'Darius-13-200m-IM.txt', 'Dave-17-100m-Free.txt', 'Dave-17-200m-Back.txt', 'Elba-14-100m-Free.txt', 'Emma-13-100m-Breast.txt', 'Emma-13-100m-Free.txt', 'Erika-15-100m-Breast.txt', 'Erika-15-100m-Free.txt', 'Erika-15-200m-Breast.txt', 'Hannah-13-100m-Back.txt', 'Hannah-13-100m-Free.txt', 'Katie-9-100m-Back.txt', 'Katie-9-100m-Breast.txt', 'Katie-9-100m-Free.txt', 'Katie-9-50m-Back.txt', 'Katie-9-50m-Breast.txt', 'Katie-9-50m-Fly.txt', 'Katie-9-50m-Free.txt', 'Lizzie-14-100m-Back.txt', 'Lizzie-14-100m-Free.txt', 'Maria-9-50m-Free.txt', 'Mike-15-100m-Back.txt', 'Mike-15-100m-Fly.txt', 'Mike-15-100m-Free.txt', 'Mike-15-200m-Free.txt', 'Mike-15-200m-IM.txt', 'Owen-15-100m-Free.txt', 'Ruth-13-100m-Back.txt', 'Ruth-13-100m-Free.txt', 'Ruth-13-200m-Back.txt', 'Ruth-13-200m-Free.txt', 'Ruth-13-400m-Free.txt', 'Tasmin-15-100m-Back.txt', 'Tasmin-15-100m-Breast.txt', 'Tasmin-15-100m-Free.txt', 'Tasmin-15-200m-Breast.txt']\n"
     ]
    }
   ],
   "source": [
    "print(swim_files)"
   ]
  },
  {
   "cell_type": "code",
   "execution_count": null,
   "id": "bd353996",
   "metadata": {},
   "outputs": [
    {
     "name": "stdout",
     "output_type": "stream",
     "text": [
      "60\n",
      "['Abi', 'Abi', 'Abi', 'Abi', 'Abi', 'Ali', 'Ali', 'Alison', 'Alison', 'Aurora', 'Bill', 'Bill', 'Blake', 'Blake', 'Blake', 'Calvin', 'Calvin', 'Calvin', 'Carl', 'Chris', 'Chris', 'Darius', 'Darius', 'Darius', 'Darius', 'Dave', 'Dave', 'Elba', 'Emma', 'Emma', 'Erika', 'Erika', 'Erika', 'Hannah', 'Hannah', 'Katie', 'Katie', 'Katie', 'Katie', 'Katie', 'Katie', 'Katie', 'Lizzie', 'Lizzie', 'Maria', 'Mike', 'Mike', 'Mike', 'Mike', 'Mike', 'Owen', 'Ruth', 'Ruth', 'Ruth', 'Ruth', 'Ruth', 'Tasmin', 'Tasmin', 'Tasmin', 'Tasmin']\n"
     ]
    }
   ],
   "source": [
    "swimmers = []\n",
    "for file in swim_files:\n",
    "    swimmers.append(swimclub.read_swim_data(file)[0])\n",
    "print(len(swimmers))\n",
    "print (swimmers)"
   ]
  },
  {
   "cell_type": "code",
   "execution_count": null,
   "id": "e890bb44",
   "metadata": {},
   "outputs": [
    {
     "name": "stdout",
     "output_type": "stream",
     "text": [
      "22\n",
      "['Darius', 'Ali', 'Mike', 'Hannah', 'Calvin', 'Carl', 'Chris', 'Owen', 'Elba', 'Abi', 'Tasmin', 'Maria', 'Aurora', 'Katie', 'Alison', 'Bill', 'Emma', 'Blake', 'Lizzie', 'Erika', 'Dave', 'Ruth']\n",
      "['Abi', 'Ali', 'Alison', 'Aurora', 'Bill', 'Blake', 'Calvin', 'Carl', 'Chris', 'Darius', 'Dave', 'Elba', 'Emma', 'Erika', 'Hannah', 'Katie', 'Lizzie', 'Maria', 'Mike', 'Owen', 'Ruth', 'Tasmin']\n"
     ]
    }
   ],
   "source": [
    "#swimmers = list(set(swimmers))\n",
    "print(len(swimmers))\n",
    "print (swimmers)\n",
    "print(sorted(swimmers))"
   ]
  },
  {
   "cell_type": "code",
   "execution_count": null,
   "id": "bcaac2fb",
   "metadata": {},
   "outputs": [
    {
     "name": "stdout",
     "output_type": "stream",
     "text": [
      "<built-in function add>\n",
      "3\n"
     ]
    }
   ],
   "source": [
    "import operator\n",
    "Test = operator.add\n",
    "print(Test)\n",
    "calc = operator.add(1, 2)\n",
    "print (calc)"
   ]
  },
  {
   "cell_type": "code",
   "execution_count": null,
   "id": "e6ba31b5",
   "metadata": {},
   "outputs": [
    {
     "name": "stdout",
     "output_type": "stream",
     "text": [
      "['.DS_Store', 'Abi-10-100m-Back.txt', 'Abi-10-100m-Breast.txt', 'Abi-10-50m-Back.txt', 'Abi-10-50m-Breast.txt', 'Abi-10-50m-Free.txt', 'Ali-12-100m-Back.txt', 'Ali-12-100m-Free.txt', 'Alison-14-100m-Breast.txt', 'Alison-14-100m-Free.txt', 'Aurora-13-50m-Free.txt', 'Bill-18-100m-Back.txt', 'Bill-18-200m-Back.txt', 'Blake-15-100m-Back.txt', 'Blake-15-100m-Fly.txt', 'Blake-15-100m-Free.txt', 'Calvin-9-50m-Back.txt', 'Calvin-9-50m-Fly.txt', 'Calvin-9-50m-Free.txt', 'Carl-15-100m-Back.txt', 'Chris-17-100m-Back.txt', 'Chris-17-100m-Breast.txt', 'Darius-13-100m-Back.txt', 'Darius-13-100m-Breast.txt', 'Darius-13-100m-Fly.txt', 'Darius-13-200m-IM.txt', 'Dave-17-100m-Free.txt', 'Dave-17-200m-Back.txt', 'Elba-14-100m-Free.txt', 'Emma-13-100m-Breast.txt', 'Emma-13-100m-Free.txt', 'Erika-15-100m-Breast.txt', 'Erika-15-100m-Free.txt', 'Erika-15-200m-Breast.txt', 'Hannah-13-100m-Back.txt', 'Hannah-13-100m-Free.txt', 'Katie-9-100m-Back.txt', 'Katie-9-100m-Breast.txt', 'Katie-9-100m-Free.txt', 'Katie-9-50m-Back.txt', 'Katie-9-50m-Breast.txt', 'Katie-9-50m-Fly.txt', 'Katie-9-50m-Free.txt', 'Lizzie-14-100m-Back.txt', 'Lizzie-14-100m-Free.txt', 'Maria-9-50m-Free.txt', 'Mike-15-100m-Back.txt', 'Mike-15-100m-Fly.txt', 'Mike-15-100m-Free.txt', 'Mike-15-200m-Free.txt', 'Mike-15-200m-IM.txt', 'Owen-15-100m-Free.txt', 'Ruth-13-100m-Back.txt', 'Ruth-13-100m-Free.txt', 'Ruth-13-200m-Back.txt', 'Ruth-13-200m-Free.txt', 'Ruth-13-400m-Free.txt', 'Tasmin-15-100m-Back.txt', 'Tasmin-15-100m-Breast.txt', 'Tasmin-15-100m-Free.txt', 'Tasmin-15-200m-Breast.txt']\n",
      "['Abi-10-100m-Back.txt', 'Abi-10-100m-Breast.txt', 'Abi-10-50m-Back.txt', 'Abi-10-50m-Breast.txt', 'Abi-10-50m-Free.txt', 'Ali-12-100m-Back.txt', 'Ali-12-100m-Free.txt', 'Alison-14-100m-Breast.txt', 'Alison-14-100m-Free.txt', 'Aurora-13-50m-Free.txt', 'Bill-18-100m-Back.txt', 'Bill-18-200m-Back.txt', 'Blake-15-100m-Back.txt', 'Blake-15-100m-Fly.txt', 'Blake-15-100m-Free.txt', 'Calvin-9-50m-Back.txt', 'Calvin-9-50m-Fly.txt', 'Calvin-9-50m-Free.txt', 'Carl-15-100m-Back.txt', 'Chris-17-100m-Back.txt', 'Chris-17-100m-Breast.txt', 'Darius-13-100m-Back.txt', 'Darius-13-100m-Breast.txt', 'Darius-13-100m-Fly.txt', 'Darius-13-200m-IM.txt', 'Dave-17-100m-Free.txt', 'Dave-17-200m-Back.txt', 'Elba-14-100m-Free.txt', 'Emma-13-100m-Breast.txt', 'Emma-13-100m-Free.txt', 'Erika-15-100m-Breast.txt', 'Erika-15-100m-Free.txt', 'Erika-15-200m-Breast.txt', 'Hannah-13-100m-Back.txt', 'Hannah-13-100m-Free.txt', 'Katie-9-100m-Back.txt', 'Katie-9-100m-Breast.txt', 'Katie-9-100m-Free.txt', 'Katie-9-50m-Back.txt', 'Katie-9-50m-Breast.txt', 'Katie-9-50m-Fly.txt', 'Katie-9-50m-Free.txt', 'Lizzie-14-100m-Back.txt', 'Lizzie-14-100m-Free.txt', 'Maria-9-50m-Free.txt', 'Mike-15-100m-Back.txt', 'Mike-15-100m-Fly.txt', 'Mike-15-100m-Free.txt', 'Mike-15-200m-Free.txt', 'Mike-15-200m-IM.txt', 'Owen-15-100m-Free.txt', 'Ruth-13-100m-Back.txt', 'Ruth-13-100m-Free.txt', 'Ruth-13-200m-Back.txt', 'Ruth-13-200m-Free.txt', 'Ruth-13-400m-Free.txt', 'Tasmin-15-100m-Back.txt', 'Tasmin-15-100m-Breast.txt', 'Tasmin-15-100m-Free.txt', 'Tasmin-15-200m-Breast.txt']\n"
     ]
    },
    {
     "data": {
      "text/plain": [
       "60"
      ]
     },
     "execution_count": 6,
     "metadata": {},
     "output_type": "execute_result"
    }
   ],
   "source": [
    "import os\n",
    "import swimclub\n",
    "swim_files = os.listdir(swimclub.FOLDER)\n",
    "print (swim_files)\n",
    "swim_files.remove('.DS_Store')\n",
    "print (swim_files)\n",
    "len (swim_files)\n"
   ]
  },
  {
   "cell_type": "code",
   "execution_count": null,
   "id": "fb87d051",
   "metadata": {},
   "outputs": [
    {
     "name": "stdout",
     "output_type": "stream",
     "text": [
      "Abi\n",
      "Abi\n",
      "Abi\n",
      "Abi\n",
      "Abi\n",
      "Ali\n",
      "Ali\n",
      "Alison\n",
      "Alison\n",
      "Aurora\n",
      "Bill\n",
      "Bill\n",
      "Blake\n",
      "Blake\n",
      "Blake\n",
      "Calvin\n",
      "Calvin\n",
      "Calvin\n",
      "Carl\n",
      "Chris\n",
      "Chris\n",
      "Darius\n",
      "Darius\n",
      "Darius\n",
      "Darius\n",
      "Dave\n",
      "Dave\n",
      "Elba\n",
      "Emma\n",
      "Emma\n",
      "Erika\n",
      "Erika\n",
      "Erika\n",
      "Hannah\n",
      "Hannah\n",
      "Katie\n",
      "Katie\n",
      "Katie\n",
      "Katie\n",
      "Katie\n",
      "Katie\n",
      "Katie\n",
      "Lizzie\n",
      "Lizzie\n",
      "Maria\n",
      "Mike\n",
      "Mike\n",
      "Mike\n",
      "Mike\n",
      "Mike\n",
      "Owen\n",
      "Ruth\n",
      "Ruth\n",
      "Ruth\n",
      "Ruth\n",
      "Ruth\n",
      "Tasmin\n",
      "Tasmin\n",
      "Tasmin\n",
      "Tasmin\n"
     ]
    },
    {
     "data": {
      "text/plain": [
       "22"
      ]
     },
     "execution_count": 33,
     "metadata": {},
     "output_type": "execute_result"
    }
   ],
   "source": [
    "swimmers = {}\n",
    "for file in swim_files:\n",
    "        name, *_ = swimclub.read_swim_data(file)\n",
    "        swimmers[name] = []\n",
    "        print(name)\n",
    "len(swimmers)\n",
    "#name, *_\n",
    "#swimmers"
   ]
  },
  {
   "cell_type": "code",
   "execution_count": null,
   "id": "216c9eb1",
   "metadata": {},
   "outputs": [
    {
     "data": {
      "text/plain": [
       "['Abi-10-100m-Back.txt',\n",
       " 'Abi-10-100m-Breast.txt',\n",
       " 'Abi-10-50m-Back.txt',\n",
       " 'Abi-10-50m-Breast.txt',\n",
       " 'Abi-10-50m-Free.txt',\n",
       " 'Ali-12-100m-Back.txt',\n",
       " 'Ali-12-100m-Free.txt',\n",
       " 'Alison-14-100m-Breast.txt',\n",
       " 'Alison-14-100m-Free.txt',\n",
       " 'Aurora-13-50m-Free.txt',\n",
       " 'Bill-18-100m-Back.txt',\n",
       " 'Bill-18-200m-Back.txt',\n",
       " 'Blake-15-100m-Back.txt',\n",
       " 'Blake-15-100m-Fly.txt',\n",
       " 'Blake-15-100m-Free.txt',\n",
       " 'Calvin-9-50m-Back.txt',\n",
       " 'Calvin-9-50m-Fly.txt',\n",
       " 'Calvin-9-50m-Free.txt',\n",
       " 'Carl-15-100m-Back.txt',\n",
       " 'Chris-17-100m-Back.txt',\n",
       " 'Chris-17-100m-Breast.txt',\n",
       " 'Darius-13-100m-Back.txt',\n",
       " 'Darius-13-100m-Breast.txt',\n",
       " 'Darius-13-100m-Fly.txt',\n",
       " 'Darius-13-200m-IM.txt',\n",
       " 'Dave-17-100m-Free.txt',\n",
       " 'Dave-17-200m-Back.txt',\n",
       " 'Elba-14-100m-Free.txt',\n",
       " 'Emma-13-100m-Breast.txt',\n",
       " 'Emma-13-100m-Free.txt',\n",
       " 'Erika-15-100m-Breast.txt',\n",
       " 'Erika-15-100m-Free.txt',\n",
       " 'Erika-15-200m-Breast.txt',\n",
       " 'Hannah-13-100m-Back.txt',\n",
       " 'Hannah-13-100m-Free.txt',\n",
       " 'Katie-9-100m-Back.txt',\n",
       " 'Katie-9-100m-Breast.txt',\n",
       " 'Katie-9-100m-Free.txt',\n",
       " 'Katie-9-50m-Back.txt',\n",
       " 'Katie-9-50m-Breast.txt',\n",
       " 'Katie-9-50m-Fly.txt',\n",
       " 'Katie-9-50m-Free.txt',\n",
       " 'Lizzie-14-100m-Back.txt',\n",
       " 'Lizzie-14-100m-Free.txt',\n",
       " 'Maria-9-50m-Free.txt',\n",
       " 'Mike-15-100m-Back.txt',\n",
       " 'Mike-15-100m-Fly.txt',\n",
       " 'Mike-15-100m-Free.txt',\n",
       " 'Mike-15-200m-Free.txt',\n",
       " 'Mike-15-200m-IM.txt',\n",
       " 'Owen-15-100m-Free.txt',\n",
       " 'Ruth-13-100m-Back.txt',\n",
       " 'Ruth-13-100m-Free.txt',\n",
       " 'Ruth-13-200m-Back.txt',\n",
       " 'Ruth-13-200m-Free.txt',\n",
       " 'Ruth-13-400m-Free.txt',\n",
       " 'Tasmin-15-100m-Back.txt',\n",
       " 'Tasmin-15-100m-Breast.txt',\n",
       " 'Tasmin-15-100m-Free.txt',\n",
       " 'Tasmin-15-200m-Breast.txt']"
      ]
     },
     "execution_count": 31,
     "metadata": {},
     "output_type": "execute_result"
    }
   ],
   "source": [
    "swim_files"
   ]
  },
  {
   "cell_type": "code",
   "execution_count": null,
   "id": "6648030b",
   "metadata": {},
   "outputs": [
    {
     "data": {
      "text/plain": [
       "[]"
      ]
     },
     "execution_count": 12,
     "metadata": {},
     "output_type": "execute_result"
    }
   ],
   "source": [
    "swimmers[\"Dave\"]"
   ]
  },
  {
   "cell_type": "code",
   "execution_count": null,
   "id": "cc24c39d",
   "metadata": {},
   "outputs": [
    {
     "data": {
      "text/plain": [
       "22"
      ]
     },
     "execution_count": 39,
     "metadata": {},
     "output_type": "execute_result"
    }
   ],
   "source": [
    "swimmers = {}\n",
    "for file in swim_files:\n",
    "        name, *_ = swimclub.read_swim_data(file)\n",
    "        if name not in swimmers:\n",
    "                swimmers[name] = []\n",
    "        swimmers[name].append(file)\n",
    "len(swimmers)\n",
    "#name, *_\n",
    "#swimmers"
   ]
  },
  {
   "cell_type": "code",
   "execution_count": null,
   "id": "f3a5dea2",
   "metadata": {},
   "outputs": [
    {
     "data": {
      "text/plain": [
       "['Dave-17-100m-Free.txt', 'Dave-17-200m-Back.txt']"
      ]
     },
     "execution_count": 40,
     "metadata": {},
     "output_type": "execute_result"
    }
   ],
   "source": [
    "swimmers[\"Dave\"]"
   ]
  },
  {
   "cell_type": "code",
   "execution_count": null,
   "id": "3ac05f23",
   "metadata": {},
   "outputs": [
    {
     "name": "stdout",
     "output_type": "stream",
     "text": [
      "0 Abi\n",
      "1 Ali\n",
      "2 Alison\n",
      "3 Aurora\n",
      "4 Bill\n",
      "5 Blake\n",
      "6 Calvin\n",
      "7 Carl\n",
      "8 Chris\n",
      "9 Darius\n",
      "10 Dave\n",
      "11 Elba\n",
      "12 Emma\n",
      "13 Erika\n",
      "14 Hannah\n",
      "15 Katie\n",
      "16 Lizzie\n",
      "17 Maria\n",
      "18 Mike\n",
      "19 Owen\n",
      "20 Ruth\n",
      "21 Tasmin\n"
     ]
    }
   ],
   "source": [
    "for n, event in enumerate(swimmers):\n",
    "        print(n,event)"
   ]
  },
  {
   "cell_type": "code",
   "execution_count": null,
   "id": "8b89bb16",
   "metadata": {},
   "outputs": [
    {
     "name": "stdout",
     "output_type": "stream",
     "text": [
      "Abi\n",
      "Ali\n",
      "Alison\n",
      "Aurora\n",
      "Bill\n",
      "Blake\n",
      "Calvin\n",
      "Carl\n",
      "Chris\n",
      "Darius\n",
      "Dave\n",
      "Elba\n",
      "Emma\n",
      "Erika\n",
      "Hannah\n",
      "Katie\n",
      "Lizzie\n",
      "Maria\n",
      "Mike\n",
      "Owen\n",
      "Ruth\n",
      "Tasmin\n"
     ]
    }
   ],
   "source": [
    "for name in swimmers:\n",
    "    print(name)"
   ]
  },
  {
   "cell_type": "code",
   "execution_count": null,
   "id": "c251859a",
   "metadata": {},
   "outputs": [],
   "source": [
    "for n, event in enumerate(swimmers):\n",
    "    if event == \"Dave\":\n",
    "        print(n,event)"
   ]
  },
  {
   "cell_type": "code",
   "execution_count": null,
   "id": "194d75fd",
   "metadata": {},
   "outputs": [
    {
     "name": "stdout",
     "output_type": "stream",
     "text": [
      "{'Abi': ['Abi-10-100m-Back.txt', 'Abi-10-100m-Breast.txt', 'Abi-10-50m-Back.txt', 'Abi-10-50m-Breast.txt', 'Abi-10-50m-Free.txt'], 'Ali': ['Ali-12-100m-Back.txt', 'Ali-12-100m-Free.txt'], 'Alison': ['Alison-14-100m-Breast.txt', 'Alison-14-100m-Free.txt'], 'Aurora': ['Aurora-13-50m-Free.txt'], 'Bill': ['Bill-18-100m-Back.txt', 'Bill-18-200m-Back.txt'], 'Blake': ['Blake-15-100m-Back.txt', 'Blake-15-100m-Fly.txt', 'Blake-15-100m-Free.txt'], 'Calvin': ['Calvin-9-50m-Back.txt', 'Calvin-9-50m-Fly.txt', 'Calvin-9-50m-Free.txt'], 'Carl': ['Carl-15-100m-Back.txt'], 'Chris': ['Chris-17-100m-Back.txt', 'Chris-17-100m-Breast.txt'], 'Darius': ['Darius-13-100m-Back.txt', 'Darius-13-100m-Breast.txt', 'Darius-13-100m-Fly.txt', 'Darius-13-200m-IM.txt'], 'Dave': ['Dave-17-100m-Free.txt', 'Dave-17-200m-Back.txt'], 'Elba': ['Elba-14-100m-Free.txt'], 'Emma': ['Emma-13-100m-Breast.txt', 'Emma-13-100m-Free.txt'], 'Erika': ['Erika-15-100m-Breast.txt', 'Erika-15-100m-Free.txt', 'Erika-15-200m-Breast.txt'], 'Hannah': ['Hannah-13-100m-Back.txt', 'Hannah-13-100m-Free.txt'], 'Katie': ['Katie-9-100m-Back.txt', 'Katie-9-100m-Breast.txt', 'Katie-9-100m-Free.txt', 'Katie-9-50m-Back.txt', 'Katie-9-50m-Breast.txt', 'Katie-9-50m-Fly.txt', 'Katie-9-50m-Free.txt'], 'Lizzie': ['Lizzie-14-100m-Back.txt', 'Lizzie-14-100m-Free.txt'], 'Maria': ['Maria-9-50m-Free.txt'], 'Mike': ['Mike-15-100m-Back.txt', 'Mike-15-100m-Fly.txt', 'Mike-15-100m-Free.txt', 'Mike-15-200m-Free.txt', 'Mike-15-200m-IM.txt'], 'Owen': ['Owen-15-100m-Free.txt'], 'Ruth': ['Ruth-13-100m-Back.txt', 'Ruth-13-100m-Free.txt', 'Ruth-13-200m-Back.txt', 'Ruth-13-200m-Free.txt', 'Ruth-13-400m-Free.txt'], 'Tasmin': ['Tasmin-15-100m-Back.txt', 'Tasmin-15-100m-Breast.txt', 'Tasmin-15-100m-Free.txt', 'Tasmin-15-200m-Breast.txt']}\n"
     ]
    }
   ],
   "source": [
    "print(swimmers)"
   ]
  },
  {
   "cell_type": "code",
   "execution_count": null,
   "id": "ec99ca0b",
   "metadata": {},
   "outputs": [
    {
     "name": "stdout",
     "output_type": "stream",
     "text": [
      "0\n",
      "Abi\n",
      "1\n",
      "Ali\n",
      "2\n",
      "Alison\n",
      "3\n",
      "Aurora\n",
      "4\n",
      "Bill\n",
      "5\n",
      "Blake\n",
      "6\n",
      "Calvin\n",
      "7\n",
      "Carl\n",
      "8\n",
      "Chris\n",
      "9\n",
      "Darius\n",
      "10\n",
      "Dave\n",
      "11\n",
      "Elba\n",
      "12\n",
      "Emma\n",
      "13\n",
      "Erika\n",
      "14\n",
      "Hannah\n",
      "15\n",
      "Katie\n",
      "16\n",
      "Lizzie\n",
      "17\n",
      "Maria\n",
      "18\n",
      "Mike\n",
      "19\n",
      "Owen\n",
      "20\n",
      "Ruth\n",
      "21\n",
      "Tasmin\n"
     ]
    }
   ],
   "source": [
    "for n, event in enumerate(swimmers):\n",
    "    print(n)\n",
    "    print(event)"
   ]
  },
  {
   "cell_type": "code",
   "execution_count": null,
   "id": "7b03b8a5",
   "metadata": {},
   "outputs": [
    {
     "data": {
      "text/plain": [
       "['Darius-13-100m-Back.txt',\n",
       " 'Darius-13-100m-Breast.txt',\n",
       " 'Darius-13-100m-Fly.txt',\n",
       " 'Darius-13-200m-IM.txt']"
      ]
     },
     "execution_count": 28,
     "metadata": {},
     "output_type": "execute_result"
    }
   ],
   "source": [
    "swimmers[\"Darius\"]"
   ]
  },
  {
   "cell_type": "code",
   "execution_count": null,
   "id": "cfcfc058",
   "metadata": {},
   "outputs": [
    {
     "data": {
      "text/plain": [
       "{'Abi': ['Abi-10-100m-Back.txt',\n",
       "  'Abi-10-100m-Breast.txt',\n",
       "  'Abi-10-50m-Back.txt',\n",
       "  'Abi-10-50m-Breast.txt',\n",
       "  'Abi-10-50m-Free.txt'],\n",
       " 'Ali': ['Ali-12-100m-Back.txt', 'Ali-12-100m-Free.txt'],\n",
       " 'Alison': ['Alison-14-100m-Breast.txt', 'Alison-14-100m-Free.txt'],\n",
       " 'Aurora': ['Aurora-13-50m-Free.txt'],\n",
       " 'Bill': ['Bill-18-100m-Back.txt', 'Bill-18-200m-Back.txt'],\n",
       " 'Blake': ['Blake-15-100m-Back.txt',\n",
       "  'Blake-15-100m-Fly.txt',\n",
       "  'Blake-15-100m-Free.txt'],\n",
       " 'Calvin': ['Calvin-9-50m-Back.txt',\n",
       "  'Calvin-9-50m-Fly.txt',\n",
       "  'Calvin-9-50m-Free.txt'],\n",
       " 'Carl': ['Carl-15-100m-Back.txt'],\n",
       " 'Chris': ['Chris-17-100m-Back.txt', 'Chris-17-100m-Breast.txt'],\n",
       " 'Darius': ['Darius-13-100m-Back.txt',\n",
       "  'Darius-13-100m-Breast.txt',\n",
       "  'Darius-13-100m-Fly.txt',\n",
       "  'Darius-13-200m-IM.txt'],\n",
       " 'Dave': ['Dave-17-100m-Free.txt', 'Dave-17-200m-Back.txt'],\n",
       " 'Elba': ['Elba-14-100m-Free.txt'],\n",
       " 'Emma': ['Emma-13-100m-Breast.txt', 'Emma-13-100m-Free.txt'],\n",
       " 'Erika': ['Erika-15-100m-Breast.txt',\n",
       "  'Erika-15-100m-Free.txt',\n",
       "  'Erika-15-200m-Breast.txt'],\n",
       " 'Hannah': ['Hannah-13-100m-Back.txt', 'Hannah-13-100m-Free.txt'],\n",
       " 'Katie': ['Katie-9-100m-Back.txt',\n",
       "  'Katie-9-100m-Breast.txt',\n",
       "  'Katie-9-100m-Free.txt',\n",
       "  'Katie-9-50m-Back.txt',\n",
       "  'Katie-9-50m-Breast.txt',\n",
       "  'Katie-9-50m-Fly.txt',\n",
       "  'Katie-9-50m-Free.txt'],\n",
       " 'Lizzie': ['Lizzie-14-100m-Back.txt', 'Lizzie-14-100m-Free.txt'],\n",
       " 'Maria': ['Maria-9-50m-Free.txt'],\n",
       " 'Mike': ['Mike-15-100m-Back.txt',\n",
       "  'Mike-15-100m-Fly.txt',\n",
       "  'Mike-15-100m-Free.txt',\n",
       "  'Mike-15-200m-Free.txt',\n",
       "  'Mike-15-200m-IM.txt'],\n",
       " 'Owen': ['Owen-15-100m-Free.txt'],\n",
       " 'Ruth': ['Ruth-13-100m-Back.txt',\n",
       "  'Ruth-13-100m-Free.txt',\n",
       "  'Ruth-13-200m-Back.txt',\n",
       "  'Ruth-13-200m-Free.txt',\n",
       "  'Ruth-13-400m-Free.txt'],\n",
       " 'Tasmin': ['Tasmin-15-100m-Back.txt',\n",
       "  'Tasmin-15-100m-Breast.txt',\n",
       "  'Tasmin-15-100m-Free.txt',\n",
       "  'Tasmin-15-200m-Breast.txt']}"
      ]
     },
     "execution_count": 43,
     "metadata": {},
     "output_type": "execute_result"
    }
   ],
   "source": [
    "swimmers"
   ]
  },
  {
   "cell_type": "code",
   "execution_count": null,
   "id": "310803e4",
   "metadata": {},
   "outputs": [
    {
     "name": "stdout",
     "output_type": "stream",
     "text": [
      "{'Abi': ['Abi-10-100m-Back.txt',\n",
      "         'Abi-10-100m-Breast.txt',\n",
      "         'Abi-10-50m-Back.txt',\n",
      "         'Abi-10-50m-Breast.txt',\n",
      "         'Abi-10-50m-Free.txt'],\n",
      " 'Ali': ['Ali-12-100m-Back.txt', 'Ali-12-100m-Free.txt'],\n",
      " 'Alison': ['Alison-14-100m-Breast.txt', 'Alison-14-100m-Free.txt'],\n",
      " 'Aurora': ['Aurora-13-50m-Free.txt'],\n",
      " 'Bill': ['Bill-18-100m-Back.txt', 'Bill-18-200m-Back.txt'],\n",
      " 'Blake': ['Blake-15-100m-Back.txt',\n",
      "           'Blake-15-100m-Fly.txt',\n",
      "           'Blake-15-100m-Free.txt'],\n",
      " 'Calvin': ['Calvin-9-50m-Back.txt',\n",
      "            'Calvin-9-50m-Fly.txt',\n",
      "            'Calvin-9-50m-Free.txt'],\n",
      " 'Carl': ['Carl-15-100m-Back.txt'],\n",
      " 'Chris': ['Chris-17-100m-Back.txt', 'Chris-17-100m-Breast.txt'],\n",
      " 'Darius': ['Darius-13-100m-Back.txt',\n",
      "            'Darius-13-100m-Breast.txt',\n",
      "            'Darius-13-100m-Fly.txt',\n",
      "            'Darius-13-200m-IM.txt'],\n",
      " 'Dave': ['Dave-17-100m-Free.txt', 'Dave-17-200m-Back.txt'],\n",
      " 'Elba': ['Elba-14-100m-Free.txt'],\n",
      " 'Emma': ['Emma-13-100m-Breast.txt', 'Emma-13-100m-Free.txt'],\n",
      " 'Erika': ['Erika-15-100m-Breast.txt',\n",
      "           'Erika-15-100m-Free.txt',\n",
      "           'Erika-15-200m-Breast.txt'],\n",
      " 'Hannah': ['Hannah-13-100m-Back.txt', 'Hannah-13-100m-Free.txt'],\n",
      " 'Katie': ['Katie-9-100m-Back.txt',\n",
      "           'Katie-9-100m-Breast.txt',\n",
      "           'Katie-9-100m-Free.txt',\n",
      "           'Katie-9-50m-Back.txt',\n",
      "           'Katie-9-50m-Breast.txt',\n",
      "           'Katie-9-50m-Fly.txt',\n",
      "           'Katie-9-50m-Free.txt'],\n",
      " 'Lizzie': ['Lizzie-14-100m-Back.txt', 'Lizzie-14-100m-Free.txt'],\n",
      " 'Maria': ['Maria-9-50m-Free.txt'],\n",
      " 'Mike': ['Mike-15-100m-Back.txt',\n",
      "          'Mike-15-100m-Fly.txt',\n",
      "          'Mike-15-100m-Free.txt',\n",
      "          'Mike-15-200m-Free.txt',\n",
      "          'Mike-15-200m-IM.txt'],\n",
      " 'Owen': ['Owen-15-100m-Free.txt'],\n",
      " 'Ruth': ['Ruth-13-100m-Back.txt',\n",
      "          'Ruth-13-100m-Free.txt',\n",
      "          'Ruth-13-200m-Back.txt',\n",
      "          'Ruth-13-200m-Free.txt',\n",
      "          'Ruth-13-400m-Free.txt'],\n",
      " 'Tasmin': ['Tasmin-15-100m-Back.txt',\n",
      "            'Tasmin-15-100m-Breast.txt',\n",
      "            'Tasmin-15-100m-Free.txt',\n",
      "            'Tasmin-15-200m-Breast.txt']}\n"
     ]
    }
   ],
   "source": [
    "import pprint\n",
    "pprint.pprint(swimmers)"
   ]
  },
  {
   "cell_type": "code",
   "execution_count": null,
   "id": "df950735",
   "metadata": {},
   "outputs": [
    {
     "ename": "AttributeError",
     "evalue": "module 'swimclub' has no attribute 'produce_bar_chart'",
     "output_type": "error",
     "traceback": [
      "\u001b[31m---------------------------------------------------------------------------\u001b[39m",
      "\u001b[31mAttributeError\u001b[39m                            Traceback (most recent call last)",
      "\u001b[36mCell\u001b[39m\u001b[36m \u001b[39m\u001b[32mIn[51]\u001b[39m\u001b[32m, line 6\u001b[39m\n\u001b[32m      3\u001b[39m \u001b[38;5;28;01mimport\u001b[39;00m\u001b[38;5;250m \u001b[39m\u001b[34;01mswimclub\u001b[39;00m\n\u001b[32m      5\u001b[39m \u001b[38;5;28;01mfor\u001b[39;00m fname \u001b[38;5;129;01min\u001b[39;00m swimmers[\u001b[33m\"\u001b[39m\u001b[33mCalvin\u001b[39m\u001b[33m\"\u001b[39m]:\n\u001b[32m----> \u001b[39m\u001b[32m6\u001b[39m     webbrowser.open(\u001b[33m\"\u001b[39m\u001b[33mfile://\u001b[39m\u001b[33m\"\u001b[39m + os.path.realpath(\u001b[43mswimclub\u001b[49m\u001b[43m.\u001b[49m\u001b[43mproduce_bar_chart\u001b[49m(fname)))\n",
      "\u001b[31mAttributeError\u001b[39m: module 'swimclub' has no attribute 'produce_bar_chart'"
     ]
    }
   ],
   "source": [
    "import os\n",
    "import webbrowser\n",
    "import swimclub\n",
    "\n",
    "for fname in swimmers[\"Calvin\"]:\n",
    "    webbrowser.open(\"file://\" + os.path.realpath(swimclub.produce_bar_chart(fname)))\n"
   ]
  },
  {
   "cell_type": "code",
   "execution_count": null,
   "id": "81543fca",
   "metadata": {},
   "outputs": [
    {
     "name": "stdout",
     "output_type": "stream",
     "text": [
      "Requirement already satisfied: flask in c:\\users\\sridh\\appdata\\local\\packages\\pythonsoftwarefoundation.python.3.11_qbz5n2kfra8p0\\localcache\\local-packages\\python311\\site-packages (3.0.0)\n",
      "Collecting flask\n",
      "  Using cached flask-3.1.2-py3-none-any.whl.metadata (3.2 kB)\n",
      "Requirement already satisfied: blinker>=1.9.0 in c:\\users\\sridh\\appdata\\local\\packages\\pythonsoftwarefoundation.python.3.11_qbz5n2kfra8p0\\localcache\\local-packages\\python311\\site-packages (from flask) (1.9.0)\n",
      "Requirement already satisfied: click>=8.1.3 in c:\\users\\sridh\\appdata\\local\\packages\\pythonsoftwarefoundation.python.3.11_qbz5n2kfra8p0\\localcache\\local-packages\\python311\\site-packages (from flask) (8.2.1)\n",
      "Requirement already satisfied: itsdangerous>=2.2.0 in c:\\users\\sridh\\appdata\\local\\packages\\pythonsoftwarefoundation.python.3.11_qbz5n2kfra8p0\\localcache\\local-packages\\python311\\site-packages (from flask) (2.2.0)\n",
      "Requirement already satisfied: jinja2>=3.1.2 in c:\\users\\sridh\\appdata\\local\\packages\\pythonsoftwarefoundation.python.3.11_qbz5n2kfra8p0\\localcache\\local-packages\\python311\\site-packages (from flask) (3.1.6)\n",
      "Requirement already satisfied: markupsafe>=2.1.1 in c:\\users\\sridh\\appdata\\local\\packages\\pythonsoftwarefoundation.python.3.11_qbz5n2kfra8p0\\localcache\\local-packages\\python311\\site-packages (from flask) (3.0.3)\n",
      "Requirement already satisfied: werkzeug>=3.1.0 in c:\\users\\sridh\\appdata\\local\\packages\\pythonsoftwarefoundation.python.3.11_qbz5n2kfra8p0\\localcache\\local-packages\\python311\\site-packages (from flask) (3.1.1)\n",
      "Requirement already satisfied: colorama in c:\\users\\sridh\\appdata\\local\\packages\\pythonsoftwarefoundation.python.3.11_qbz5n2kfra8p0\\localcache\\local-packages\\python311\\site-packages (from click>=8.1.3->flask) (0.4.6)\n",
      "Using cached flask-3.1.2-py3-none-any.whl (103 kB)\n",
      "Installing collected packages: flask\n",
      "  Attempting uninstall: flask\n",
      "    Found existing installation: Flask 3.0.0\n",
      "    Uninstalling Flask-3.0.0:\n",
      "      Successfully uninstalled Flask-3.0.0\n",
      "Successfully installed flask-3.1.2\n",
      "Note: you may need to restart the kernel to use updated packages.\n"
     ]
    }
   ],
   "source": [
    "pip install flask --upgrade"
   ]
  },
  {
   "cell_type": "code",
   "execution_count": null,
   "id": "3d67bd43",
   "metadata": {},
   "outputs": [
    {
     "name": "stdout",
     "output_type": "stream",
     "text": [
      "Collecting gazpacho\n",
      "  Downloading gazpacho-1.1.tar.gz (7.9 kB)\n",
      "  Installing build dependencies: started\n",
      "  Installing build dependencies: finished with status 'done'\n",
      "  Getting requirements to build wheel: started\n",
      "  Getting requirements to build wheel: finished with status 'done'\n",
      "  Preparing metadata (pyproject.toml): started\n",
      "  Preparing metadata (pyproject.toml): finished with status 'done'\n",
      "Building wheels for collected packages: gazpacho\n",
      "  Building wheel for gazpacho (pyproject.toml): started\n",
      "  Building wheel for gazpacho (pyproject.toml): finished with status 'done'\n",
      "  Created wheel for gazpacho: filename=gazpacho-1.1-py3-none-any.whl size=7553 sha256=ee1a889d22e4be19dd5e370d9cf53083c726d95809b0913fe3332b035fdd02a6\n",
      "  Stored in directory: c:\\users\\sridh\\appdata\\local\\pip\\cache\\wheels\\f4\\e6\\e3\\d9a9b3f1dc045ee40c507cd630daa6cdd41b239633e92d5457\n",
      "Successfully built gazpacho\n",
      "Installing collected packages: gazpacho\n",
      "Successfully installed gazpacho-1.1\n",
      "Note: you may need to restart the kernel to use updated packages.\n"
     ]
    }
   ],
   "source": [
    "%pip install gazpacho --upgrade"
   ]
  },
  {
   "cell_type": "code",
   "execution_count": null,
   "id": "e62ca69e",
   "metadata": {},
   "outputs": [],
   "source": [
    "URL = \"https://en.wikipedia.org/wiki/List_of_world_records_in_swimming\""
   ]
  },
  {
   "cell_type": "code",
   "execution_count": null,
   "id": "5b9a4a5d",
   "metadata": {},
   "outputs": [],
   "source": [
    "import gazpacho\n",
    "html = gazpacho.get(URL)"
   ]
  },
  {
   "cell_type": "code",
   "execution_count": null,
   "id": "7f6c7600",
   "metadata": {},
   "outputs": [
    {
     "data": {
      "text/plain": [
       "570246"
      ]
     },
     "execution_count": 58,
     "metadata": {},
     "output_type": "execute_result"
    }
   ],
   "source": [
    "len(html)"
   ]
  },
  {
   "cell_type": "code",
   "execution_count": null,
   "id": "5252bdb1",
   "metadata": {},
   "outputs": [
    {
     "data": {
      "text/plain": [
       "[0, 1, 2, 3, 4, 5, 6, 7, 8, 9]"
      ]
     },
     "execution_count": 61,
     "metadata": {},
     "output_type": "execute_result"
    }
   ],
   "source": [
    "nums = [0,1,2,3,4,5,6,7,8,9]\n",
    "nums\n",
    "\n"
   ]
  },
  {
   "cell_type": "code",
   "execution_count": null,
   "id": "790a192b",
   "metadata": {},
   "outputs": [
    {
     "data": {
      "text/plain": [
       "[0, 1, 2, 3]"
      ]
     },
     "execution_count": 62,
     "metadata": {},
     "output_type": "execute_result"
    }
   ],
   "source": [
    "nums[:4] "
   ]
  },
  {
   "cell_type": "code",
   "execution_count": null,
   "id": "a7f499ab",
   "metadata": {},
   "outputs": [
    {
     "data": {
      "text/plain": [
       "9"
      ]
     },
     "execution_count": 63,
     "metadata": {},
     "output_type": "execute_result"
    }
   ],
   "source": [
    "nums[-1] #9"
   ]
  },
  {
   "cell_type": "code",
   "execution_count": null,
   "id": "1415e218",
   "metadata": {},
   "outputs": [
    {
     "data": {
      "text/plain": [
       "8"
      ]
     },
     "execution_count": 64,
     "metadata": {},
     "output_type": "execute_result"
    }
   ],
   "source": [
    "\n",
    "nums[-2] #8"
   ]
  },
  {
   "cell_type": "code",
   "execution_count": null,
   "id": "5ac14750",
   "metadata": {},
   "outputs": [
    {
     "data": {
      "text/plain": [
       "[2, 3]"
      ]
     },
     "execution_count": 66,
     "metadata": {},
     "output_type": "execute_result"
    }
   ],
   "source": [
    "nums[2:4]"
   ]
  },
  {
   "cell_type": "code",
   "execution_count": null,
   "id": "2a875340",
   "metadata": {},
   "outputs": [
    {
     "data": {
      "text/plain": [
       "[7]"
      ]
     },
     "execution_count": 73,
     "metadata": {},
     "output_type": "execute_result"
    }
   ],
   "source": [
    "nums[7:-1]"
   ]
  },
  {
   "cell_type": "code",
   "execution_count": null,
   "id": "cc02731a",
   "metadata": {},
   "outputs": [
    {
     "data": {
      "text/plain": [
       "[0, 1, 2, 3, 4, 5, 6, 7, 8, 9]"
      ]
     },
     "execution_count": 74,
     "metadata": {},
     "output_type": "execute_result"
    }
   ],
   "source": [
    "nums[:]"
   ]
  },
  {
   "cell_type": "code",
   "execution_count": null,
   "id": "28d899ae",
   "metadata": {},
   "outputs": [
    {
     "data": {
      "text/plain": [
       "[0, 3, 6, 9]"
      ]
     },
     "execution_count": 77,
     "metadata": {},
     "output_type": "execute_result"
    }
   ],
   "source": [
    "nums[::3]"
   ]
  },
  {
   "cell_type": "code",
   "execution_count": null,
   "id": "246bfcbd",
   "metadata": {},
   "outputs": [
    {
     "data": {
      "text/plain": [
       "[9, 8, 7, 6, 5, 4, 3, 2, 1, 0]"
      ]
     },
     "execution_count": 78,
     "metadata": {},
     "output_type": "execute_result"
    }
   ],
   "source": [
    "nums[::-1]"
   ]
  },
  {
   "cell_type": "code",
   "execution_count": null,
   "id": "4ab1b896",
   "metadata": {},
   "outputs": [],
   "source": [
    "soup = gazpacho.Soup(html)"
   ]
  },
  {
   "cell_type": "code",
   "execution_count": null,
   "id": "1980b985",
   "metadata": {},
   "outputs": [
    {
     "data": {
      "text/plain": [
       "gazpacho.soup.Soup"
      ]
     },
     "execution_count": 80,
     "metadata": {},
     "output_type": "execute_result"
    }
   ],
   "source": [
    "type(soup)"
   ]
  },
  {
   "cell_type": "code",
   "execution_count": null,
   "id": "460ddd32",
   "metadata": {},
   "outputs": [
    {
     "name": "stdout",
     "output_type": "stream",
     "text": [
      "['attrs', 'find', 'get', 'html', 'strip', 'tag', 'text']\n"
     ]
    }
   ],
   "source": [
    "print(dir(soup))"
   ]
  },
  {
   "cell_type": "code",
   "execution_count": null,
   "id": "fbba3788",
   "metadata": {},
   "outputs": [],
   "source": [
    "tables = soup.find(\"table\")"
   ]
  },
  {
   "cell_type": "code",
   "execution_count": null,
   "id": "e19d1e92",
   "metadata": {},
   "outputs": [
    {
     "data": {
      "text/plain": [
       "list"
      ]
     },
     "execution_count": 83,
     "metadata": {},
     "output_type": "execute_result"
    }
   ],
   "source": [
    "type(tables)"
   ]
  },
  {
   "cell_type": "code",
   "execution_count": null,
   "id": "0bd21d3f",
   "metadata": {},
   "outputs": [
    {
     "data": {
      "text/plain": [
       "11"
      ]
     },
     "execution_count": 84,
     "metadata": {},
     "output_type": "execute_result"
    }
   ],
   "source": [
    "len(tables)"
   ]
  },
  {
   "cell_type": "code",
   "execution_count": null,
   "id": "f0a8d416",
   "metadata": {},
   "outputs": [
    {
     "data": {
      "text/plain": [
       "gazpacho.soup.Soup"
      ]
     },
     "execution_count": 85,
     "metadata": {},
     "output_type": "execute_result"
    }
   ],
   "source": [
    "type(tables[0])"
   ]
  },
  {
   "cell_type": "code",
   "execution_count": null,
   "id": "2b4fefbb",
   "metadata": {},
   "outputs": [],
   "source": [
    "rows = tables[0].find(\"tr\",mode=\"all\")"
   ]
  },
  {
   "cell_type": "code",
   "execution_count": null,
   "id": "f4b4d0e7",
   "metadata": {},
   "outputs": [
    {
     "data": {
      "text/plain": [
       "list"
      ]
     },
     "execution_count": 87,
     "metadata": {},
     "output_type": "execute_result"
    }
   ],
   "source": [
    "type(rows)"
   ]
  },
  {
   "cell_type": "code",
   "execution_count": null,
   "id": "3007f35c",
   "metadata": {},
   "outputs": [
    {
     "data": {
      "text/plain": [
       "21"
      ]
     },
     "execution_count": 88,
     "metadata": {},
     "output_type": "execute_result"
    }
   ],
   "source": [
    "len(rows)"
   ]
  },
  {
   "cell_type": "code",
   "execution_count": null,
   "id": "a0bddafb",
   "metadata": {},
   "outputs": [
    {
     "data": {
      "text/plain": [
       "<tr>\n",
       "  <th>Event\n",
       "</th>\n",
       "  <th style=\"width:4em\" class=\"unsortable\">Time\n",
       "</th>\n",
       "  <th class=\"unsortable\">\n",
       "</th>\n",
       "  <th>Name</th>\n",
       "  <th>Nationality</th>\n",
       "  <th>Date</th>\n",
       "  <th>Meet</th>\n",
       "  <th>Location\n",
       "</th>\n",
       "  <th class=\"unsortable\">Ref\n",
       "</th>\n",
       "</tr>"
      ]
     },
     "execution_count": 89,
     "metadata": {},
     "output_type": "execute_result"
    }
   ],
   "source": [
    "rows[0]"
   ]
  },
  {
   "cell_type": "code",
   "execution_count": null,
   "id": "a61e046b",
   "metadata": {},
   "outputs": [
    {
     "name": "stdout",
     "output_type": "stream",
     "text": [
      "0 -> 21 rows\n",
      "1 -> 21 rows\n",
      "2 -> 3 rows\n",
      "3 -> 25 rows\n",
      "4 -> 27 rows\n",
      "5 -> 4 rows\n",
      "6 -> 25 rows\n",
      "7 -> 1 rows\n",
      "8 -> 7 rows\n",
      "9 -> 5 rows\n",
      "10 -> 8 rows\n"
     ]
    }
   ],
   "source": [
    "for n, table in enumerate(tables):\n",
    "    rows = table.find(\"tr\",mode=\"all\")\n",
    "    print(f\"{n} -> {len(rows)} rows\")"
   ]
  },
  {
   "cell_type": "code",
   "execution_count": null,
   "id": "86b0b159",
   "metadata": {},
   "outputs": [
    {
     "name": "stdout",
     "output_type": "stream",
     "text": [
      "0 -> 21 rows, 9 columns\n",
      "1 -> 21 rows, 9 columns\n",
      "2 -> 3 rows, 9 columns\n",
      "3 -> 25 rows, 9 columns\n",
      "4 -> 27 rows, 9 columns\n",
      "5 -> 4 rows, 9 columns\n",
      "6 -> 25 rows, 11 columns\n",
      "7 -> 1 rows, 2 columns\n",
      "8 -> 7 rows, 1 columns\n",
      "9 -> 5 rows, 1 columns\n",
      "10 -> 8 rows, 1 columns\n"
     ]
    }
   ],
   "source": [
    "for n, table in enumerate(tables):\n",
    "    rows = table.find(\"tr\",mode=\"all\")\n",
    "    cols = rows[-1].find(\"td\", mode=\"all\")\n",
    "    print(f\"{n} -> {len(rows)} rows, {len(cols)} columns\")"
   ]
  },
  {
   "cell_type": "code",
   "execution_count": null,
   "id": "7a108f46",
   "metadata": {},
   "outputs": [
    {
     "data": {
      "text/plain": [
       "<table class=\"wikitable sortable\" style=\"font-size: 95%;\">\n",
       "<caption>\n",
       "</caption>\n",
       "<tbody><tr>\n",
       "<th>Event\n",
       "</th>\n",
       "<th style=\"width:4em\" class=\"unsortable\">Time\n",
       "</th>\n",
       "<th class=\"unsortable\">\n",
       "</th>\n",
       "<th>Name</th>\n",
       "<th>Nationality</th>\n",
       "<th>Date</th>\n",
       "<th>Meet</th>\n",
       "<th>Location\n",
       "</th>\n",
       "<th class=\"unsortable\">Ref\n",
       "</th></tr>\n",
       "\n",
       "<tr>\n",
       "<td><span data-sort-value=\"01 !\"><a href=\"/wiki/World_record_progression_50_metres_freestyle\" title=\"World record progression 50 metres freestyle\">50m freestyle</a></span>\n",
       "</td>\n",
       "<td style=\"text-align:right; padding-left:0.5em; padding-right:0.5em;\">20.91\n",
       "</td>\n",
       "<td style=\"font-size:smaller\">ss</td>\n",
       "<td><span class=\"nowrap\"><span data-sort-value=\"Cielo, César\"><span class=\"vcard\"><span class=\"fn\"><a href=\"/wiki/C%C3%A9sar_Cielo\" title=\"César Cielo\">César Cielo</a></span></span></span></span>\n",
       "</td>\n",
       "<td><span class=\"flagicon\"><span class=\"mw-image-border\" typeof=\"mw:File\"><span><img alt=\"\" src=\"//upload.wikimedia.org/wikipedia/en/thumb/0/05/Flag_of_Brazil.svg/40px-Flag_of_Brazil.svg.png\" decoding=\"async\" width=\"22\" height=\"15\" class=\"mw-file-element\" srcset=\"//upload.wikimedia.org/wikipedia/en/thumb/0/05/Flag_of_Brazil.svg/60px-Flag_of_Brazil.svg.png 2x\" data-file-width=\"1000\" data-file-height=\"700\"></span></span> </span>Brazil\n",
       "</td>\n",
       "<td style=\"text-align:center\">18 December 2009</td>\n",
       "<td>Brazilian Championships\n",
       "</td>\n",
       "<td><span data-sort-value=\"Brazil, São Paulo !\"><a href=\"/wiki/S%C3%A3o_Paulo\" title=\"São Paulo\">São Paulo</a>, Brazil</span>\n",
       "</td>\n",
       "<td style=\"text-align:center\"><sup id=\"cite_ref-9\" class=\"reference\"><a href=\"#cite_note-9\"><span class=\"cite-bracket\">[</span>9<span class=\"cite-bracket\">]</span></a></sup><sup id=\"cite_ref-10\" class=\"reference\"><a href=\"#cite_note-10\"><span class=\"cite-bracket\">[</span>10<span class=\"cite-bracket\">]</span></a></sup><sup id=\"cite_ref-11\" class=\"reference\"><a href=\"#cite_note-11\"><span class=\"cite-bracket\">[</span>11<span class=\"cite-bracket\">]</span></a></sup><sup id=\"cite_ref-12\" class=\"reference\"><a href=\"#cite_note-12\"><span class=\"cite-bracket\">[</span>12<span class=\"cite-bracket\">]</span></a></sup>\n",
       "</td></tr>\n",
       "\n",
       "\n",
       "<tr>\n",
       "<td><span data-sort-value=\"02 !\"><a href=\"/wiki/World_record_progression_100_metres_freestyle\" title=\"World record progression 100 metres freestyle\">100m freestyle</a></span>\n",
       "</td>\n",
       "<td style=\"text-align:right; padding-left:0.5em; padding-right:0.5em;\">46.40\n",
       "</td>\n",
       "<td style=\"font-size:smaller\"></td>\n",
       "<td><span class=\"nowrap\"><a href=\"/wiki/Pan_Zhanle\" title=\"Pan Zhanle\">Pan Zhanle</a></span>\n",
       "</td>\n",
       "<td><span class=\"flagicon\"><span class=\"mw-image-border\" typeof=\"mw:File\"><span><img alt=\"\" src=\"//upload.wikimedia.org/wikipedia/commons/thumb/f/fa/Flag_of_the_People%27s_Republic_of_China.svg/40px-Flag_of_the_People%27s_Republic_of_China.svg.png\" decoding=\"async\" width=\"23\" height=\"15\" class=\"mw-file-element\" srcset=\"//upload.wikimedia.org/wikipedia/commons/thumb/f/fa/Flag_of_the_People%27s_Republic_of_China.svg/60px-Flag_of_the_People%27s_Republic_of_China.svg.png 2x\" data-file-width=\"900\" data-file-height=\"600\"></span></span> </span>China\n",
       "</td>\n",
       "<td style=\"text-align:center\">31 July 2024</td>\n",
       "<td><a href=\"/wiki/Swimming_at_the_2024_Summer_Olympics_%E2%80%93_Men%27s_100_metre_freestyle\" class=\"mw-redirect\" title=\"Swimming at the 2024 Summer Olympics – Men's 100 metre freestyle\">Olympic Games</a>\n",
       "</td>\n",
       "<td><span data-sort-value=\"France, Paris !\"><a href=\"/wiki/Paris\" title=\"Paris\">Paris</a>, France</span>\n",
       "</td>\n",
       "<td style=\"text-align:center\"><sup id=\"cite_ref-13\" class=\"reference\"><a href=\"#cite_note-13\"><span class=\"cite-bracket\">[</span>13<span class=\"cite-bracket\">]</span></a></sup>\n",
       "</td></tr>\n",
       "\n",
       "\n",
       "<tr>\n",
       "<td><span data-sort-value=\"03 !\"><a href=\"/wiki/World_record_progression_200_metres_freestyle\" title=\"World record progression 200 metres freestyle\">200m freestyle</a></span>\n",
       "</td>\n",
       "<td style=\"text-align:right; padding-left:0.5em; padding-right:0.5em;\">1:42.00\n",
       "</td>\n",
       "<td style=\"font-size:smaller\">ss</td>\n",
       "<td><span class=\"nowrap\"><span data-sort-value=\"Biedermann, Paul\"><span class=\"vcard\"><span class=\"fn\"><a href=\"/wiki/Paul_Biedermann\" title=\"Paul Biedermann\">Paul Biedermann</a></span></span></span></span>\n",
       "</td>\n",
       "<td><span class=\"flagicon\"><span class=\"mw-image-border\" typeof=\"mw:File\"><span><img alt=\"\" src=\"//upload.wikimedia.org/wikipedia/en/thumb/b/ba/Flag_of_Germany.svg/40px-Flag_of_Germany.svg.png\" decoding=\"async\" width=\"23\" height=\"14\" class=\"mw-file-element\" srcset=\"//upload.wikimedia.org/wikipedia/en/thumb/b/ba/Flag_of_Germany.svg/60px-Flag_of_Germany.svg.png 2x\" data-file-width=\"1000\" data-file-height=\"600\"></span></span> </span>Germany\n",
       "</td>\n",
       "<td style=\"text-align:center\">28 July 2009</td>\n",
       "<td><a href=\"/wiki/Swimming_at_the_2009_World_Aquatics_Championships_%E2%80%93_Men%27s_200_metre_freestyle\" title=\"Swimming at the 2009 World Aquatics Championships – Men's 200 metre freestyle\">World Championships</a>\n",
       "</td>\n",
       "<td><span data-sort-value=\"Italy, Rome !\"><a href=\"/wiki/Rome\" title=\"Rome\">Rome</a>, Italy</span>\n",
       "</td>\n",
       "<td style=\"text-align:center\"><sup id=\"cite_ref-14\" class=\"reference\"><a href=\"#cite_note-14\"><span class=\"cite-bracket\">[</span>14<span class=\"cite-bracket\">]</span></a></sup><sup id=\"cite_ref-15\" class=\"reference\"><a href=\"#cite_note-15\"><span class=\"cite-bracket\">[</span>15<span class=\"cite-bracket\">]</span></a></sup><sup id=\"cite_ref-16\" class=\"reference\"><a href=\"#cite_note-16\"><span class=\"cite-bracket\">[</span>16<span class=\"cite-bracket\">]</span></a></sup>\n",
       "</td></tr>\n",
       "\n",
       "\n",
       "<tr>\n",
       "<td><span data-sort-value=\"04 !\"><a href=\"/wiki/World_record_progression_400_metres_freestyle\" title=\"World record progression 400 metres freestyle\">400m freestyle</a></span>\n",
       "</td>\n",
       "<td style=\"text-align:right; padding-left:0.5em; padding-right:0.5em;\">3:39.96\n",
       "</td>\n",
       "<td style=\"font-size:smaller\"></td>\n",
       "<td><span class=\"nowrap\"><span data-sort-value=\"Märtens, Lukas\"><span class=\"vcard\"><span class=\"fn\"><a href=\"/wiki/Lukas_M%C3%A4rtens\" title=\"Lukas Märtens\">Lukas Märtens</a></span></span></span></span>\n",
       "</td>\n",
       "<td><span class=\"flagicon\"><span class=\"mw-image-border\" typeof=\"mw:File\"><span><img alt=\"\" src=\"//upload.wikimedia.org/wikipedia/en/thumb/b/ba/Flag_of_Germany.svg/40px-Flag_of_Germany.svg.png\" decoding=\"async\" width=\"23\" height=\"14\" class=\"mw-file-element\" srcset=\"//upload.wikimedia.org/wikipedia/en/thumb/b/ba/Flag_of_Germany.svg/60px-Flag_of_Germany.svg.png 2x\" data-file-width=\"1000\" data-file-height=\"600\"></span></span> </span>Germany\n",
       "</td>\n",
       "<td style=\"text-align:center\">12 April 2025</td>\n",
       "<td>Swim Open Stockholm\n",
       "</td>\n",
       "<td><span data-sort-value=\"Sweden, Stockholm !\"><a href=\"/wiki/Stockholm\" title=\"Stockholm\">Stockholm</a>, Sweden</span>\n",
       "</td>\n",
       "<td style=\"text-align:center\"><sup id=\"cite_ref-17\" class=\"reference\"><a href=\"#cite_note-17\"><span class=\"cite-bracket\">[</span>17<span class=\"cite-bracket\">]</span></a></sup>\n",
       "</td></tr>\n",
       "\n",
       "\n",
       "<tr>\n",
       "<td><span data-sort-value=\"05 !\"><a href=\"/wiki/World_record_progression_800_metres_freestyle\" title=\"World record progression 800 metres freestyle\">800m freestyle</a></span>\n",
       "</td>\n",
       "<td style=\"text-align:right; padding-left:0.5em; padding-right:0.5em;\">7:32.12\n",
       "</td>\n",
       "<td style=\"font-size:smaller\">ss</td>\n",
       "<td><span class=\"nowrap\"><a href=\"/wiki/Zhang_Lin_(swimmer)\" title=\"Zhang Lin (swimmer)\">Zhang Lin</a></span>\n",
       "</td>\n",
       "<td><span class=\"flagicon\"><span class=\"mw-image-border\" typeof=\"mw:File\"><span><img alt=\"\" src=\"//upload.wikimedia.org/wikipedia/commons/thumb/f/fa/Flag_of_the_People%27s_Republic_of_China.svg/40px-Flag_of_the_People%27s_Republic_of_China.svg.png\" decoding=\"async\" width=\"23\" height=\"15\" class=\"mw-file-element\" srcset=\"//upload.wikimedia.org/wikipedia/commons/thumb/f/fa/Flag_of_the_People%27s_Republic_of_China.svg/60px-Flag_of_the_People%27s_Republic_of_China.svg.png 2x\" data-file-width=\"900\" data-file-height=\"600\"></span></span> </span>China\n",
       "</td>\n",
       "<td style=\"text-align:center\">29 July 2009</td>\n",
       "<td><a href=\"/wiki/Swimming_at_the_2009_World_Aquatics_Championships_%E2%80%93_Men%27s_800_metre_freestyle\" title=\"Swimming at the 2009 World Aquatics Championships – Men's 800 metre freestyle\">World Championships</a>\n",
       "</td>\n",
       "<td><span data-sort-value=\"Italy, Rome !\"><a href=\"/wiki/Rome\" title=\"Rome\">Rome</a>, Italy</span>\n",
       "</td>\n",
       "<td style=\"text-align:center\"><sup id=\"cite_ref-18\" class=\"reference\"><a href=\"#cite_note-18\"><span class=\"cite-bracket\">[</span>18<span class=\"cite-bracket\">]</span></a></sup><sup id=\"cite_ref-19\" class=\"reference\"><a href=\"#cite_note-19\"><span class=\"cite-bracket\">[</span>19<span class=\"cite-bracket\">]</span></a></sup>\n",
       "</td></tr>\n",
       "\n",
       "\n",
       "<tr>\n",
       "<td><span data-sort-value=\"06 !\"><a href=\"/wiki/World_record_progression_1500_metres_freestyle\" title=\"World record progression 1500 metres freestyle\">1500m freestyle</a></span>\n",
       "</td>\n",
       "<td style=\"text-align:right; padding-left:0.5em; padding-right:0.5em;\">14:30.67\n",
       "</td>\n",
       "<td style=\"font-size:smaller\"></td>\n",
       "<td><span class=\"nowrap\"><span data-sort-value=\"Finke, Bobby\"><span class=\"vcard\"><span class=\"fn\"><a href=\"/wiki/Bobby_Finke\" title=\"Bobby Finke\">Bobby Finke</a></span></span></span></span>\n",
       "</td>\n",
       "<td><span class=\"flagicon\"><span class=\"mw-image-border\" typeof=\"mw:File\"><span><img alt=\"\" src=\"//upload.wikimedia.org/wikipedia/en/thumb/a/a4/Flag_of_the_United_States.svg/40px-Flag_of_the_United_States.svg.png\" decoding=\"async\" width=\"23\" height=\"12\" class=\"mw-file-element\" srcset=\"//upload.wikimedia.org/wikipedia/en/thumb/a/a4/Flag_of_the_United_States.svg/60px-Flag_of_the_United_States.svg.png 2x\" data-file-width=\"1235\" data-file-height=\"650\"></span></span> </span>United States\n",
       "</td>\n",
       "<td style=\"text-align:center\">4 August 2024</td>\n",
       "<td><a href=\"/wiki/Swimming_at_the_2024_Summer_Olympics_%E2%80%93_Men%27s_1500_metre_freestyle\" class=\"mw-redirect\" title=\"Swimming at the 2024 Summer Olympics – Men's 1500 metre freestyle\">Olympic Games</a>\n",
       "</td>\n",
       "<td><span data-sort-value=\"France, Paris !\"><a href=\"/wiki/Paris\" title=\"Paris\">Paris</a>, France</span>\n",
       "</td>\n",
       "<td style=\"text-align:center\"><sup id=\"cite_ref-20\" class=\"reference\"><a href=\"#cite_note-20\"><span class=\"cite-bracket\">[</span>20<span class=\"cite-bracket\">]</span></a></sup><sup id=\"cite_ref-21\" class=\"reference\"><a href=\"#cite_note-21\"><span class=\"cite-bracket\">[</span>21<span class=\"cite-bracket\">]</span></a></sup>\n",
       "</td></tr>\n",
       "\n",
       "\n",
       "<tr>\n",
       "<td><span data-sort-value=\"07 !\"><a href=\"/wiki/World_record_progression_50_metres_backstroke\" title=\"World record progression 50 metres backstroke\">50m backstroke</a></span>\n",
       "</td>\n",
       "<td style=\"text-align:right; padding-left:0.5em; padding-right:0.5em;\">23.55\n",
       "</td>\n",
       "<td style=\"font-size:smaller\">sf</td>\n",
       "<td><span class=\"nowrap\"><span data-sort-value=\"Kolesnikov, Kliment\"><span class=\"vcard\"><span class=\"fn\"><a href=\"/wiki/Kliment_Kolesnikov\" title=\"Kliment Kolesnikov\">Kliment Kolesnikov</a></span></span></span></span>\n",
       "</td>\n",
       "<td><span class=\"flagicon\"><span class=\"mw-image-border\" typeof=\"mw:File\"><span><img alt=\"\" src=\"//upload.wikimedia.org/wikipedia/en/thumb/f/f3/Flag_of_Russia.svg/40px-Flag_of_Russia.svg.png\" decoding=\"async\" width=\"23\" height=\"15\" class=\"mw-file-element\" srcset=\"//upload.wikimedia.org/wikipedia/en/thumb/f/f3/Flag_of_Russia.svg/60px-Flag_of_Russia.svg.png 2x\" data-file-width=\"900\" data-file-height=\"600\"></span></span> </span>Russia\n",
       "</td>\n",
       "<td style=\"text-align:center\">27 July 2023</td>\n",
       "<td>Russian Cup\n",
       "</td>\n",
       "<td><span data-sort-value=\"Russia, Kazan !\"><a href=\"/wiki/Kazan\" title=\"Kazan\">Kazan</a>, Russia</span>\n",
       "</td>\n",
       "<td style=\"text-align:center\"><sup id=\"cite_ref-22\" class=\"reference\"><a href=\"#cite_note-22\"><span class=\"cite-bracket\">[</span>22<span class=\"cite-bracket\">]</span></a></sup>\n",
       "</td></tr>\n",
       "\n",
       "\n",
       "<tr>\n",
       "<td><span data-sort-value=\"08'\"`UNIQ--ref-00000019-QINU`\"' !\"><a href=\"/wiki/World_record_progression_100_metres_backstroke\" title=\"World record progression 100 metres backstroke\">100m backstroke</a></span>\n",
       "</td>\n",
       "<td style=\"text-align:right; padding-left:0.5em; padding-right:0.5em;\">51.60\n",
       "</td>\n",
       "<td style=\"font-size:smaller\"></td>\n",
       "<td><span class=\"nowrap\"><span data-sort-value=\"Ceccon, Thomas\"><span class=\"vcard\"><span class=\"fn\"><a href=\"/wiki/Thomas_Ceccon\" title=\"Thomas Ceccon\">Thomas Ceccon</a></span></span></span></span>\n",
       "</td>\n",
       "<td><span class=\"flagicon\"><span class=\"mw-image-border\" typeof=\"mw:File\"><span><img alt=\"\" src=\"//upload.wikimedia.org/wikipedia/en/thumb/0/03/Flag_of_Italy.svg/40px-Flag_of_Italy.svg.png\" decoding=\"async\" width=\"23\" height=\"15\" class=\"mw-file-element\" srcset=\"//upload.wikimedia.org/wikipedia/en/thumb/0/03/Flag_of_Italy.svg/60px-Flag_of_Italy.svg.png 2x\" data-file-width=\"1500\" data-file-height=\"1000\"></span></span> </span>Italy\n",
       "</td>\n",
       "<td style=\"text-align:center\">20 June 2022</td>\n",
       "<td><a href=\"/wiki/Swimming_at_the_2022_World_Aquatics_Championships_%E2%80%93_Men%27s_100_metre_backstroke\" title=\"Swimming at the 2022 World Aquatics Championships – Men's 100 metre backstroke\">World Championships</a>\n",
       "</td>\n",
       "<td><span data-sort-value=\"Hungary, Budapest !\"><a href=\"/wiki/Budapest\" title=\"Budapest\">Budapest</a>, Hungary</span>\n",
       "</td>\n",
       "<td style=\"text-align:center\"><sup id=\"cite_ref-24\" class=\"reference\"><a href=\"#cite_note-24\"><span class=\"cite-bracket\">[</span>24<span class=\"cite-bracket\">]</span></a></sup><sup id=\"cite_ref-25\" class=\"reference\"><a href=\"#cite_note-25\"><span class=\"cite-bracket\">[</span>25<span class=\"cite-bracket\">]</span></a></sup>\n",
       "</td></tr>\n",
       "\n",
       "\n",
       "<tr>\n",
       "<td><span data-sort-value=\"09 !\"><a href=\"/wiki/World_record_progression_200_metres_backstroke\" title=\"World record progression 200 metres backstroke\">200m backstroke</a></span>\n",
       "</td>\n",
       "<td style=\"text-align:right; padding-left:0.5em; padding-right:0.5em;\">1:51.92\n",
       "</td>\n",
       "<td style=\"font-size:smaller\">ss</td>\n",
       "<td><span class=\"nowrap\"><span data-sort-value=\"Peirsol, Aaron\"><span class=\"vcard\"><span class=\"fn\"><a href=\"/wiki/Aaron_Peirsol\" title=\"Aaron Peirsol\">Aaron Peirsol</a></span></span></span></span>\n",
       "</td>\n",
       "<td><span class=\"flagicon\"><span class=\"mw-image-border\" typeof=\"mw:File\"><span><img alt=\"\" src=\"//upload.wikimedia.org/wikipedia/en/thumb/a/a4/Flag_of_the_United_States.svg/40px-Flag_of_the_United_States.svg.png\" decoding=\"async\" width=\"23\" height=\"12\" class=\"mw-file-element\" srcset=\"//upload.wikimedia.org/wikipedia/en/thumb/a/a4/Flag_of_the_United_States.svg/60px-Flag_of_the_United_States.svg.png 2x\" data-file-width=\"1235\" data-file-height=\"650\"></span></span> </span>United States\n",
       "</td>\n",
       "<td style=\"text-align:center\">31 July 2009</td>\n",
       "<td><a href=\"/wiki/Swimming_at_the_2009_World_Aquatics_Championships_%E2%80%93_Men%27s_200_metre_backstroke\" title=\"Swimming at the 2009 World Aquatics Championships – Men's 200 metre backstroke\">World Championships</a>\n",
       "</td>\n",
       "<td><span data-sort-value=\"Italy, Rome !\"><a href=\"/wiki/Rome\" title=\"Rome\">Rome</a>, Italy</span>\n",
       "</td>\n",
       "<td style=\"text-align:center\"><sup id=\"cite_ref-26\" class=\"reference\"><a href=\"#cite_note-26\"><span class=\"cite-bracket\">[</span>26<span class=\"cite-bracket\">]</span></a></sup><sup id=\"cite_ref-27\" class=\"reference\"><a href=\"#cite_note-27\"><span class=\"cite-bracket\">[</span>27<span class=\"cite-bracket\">]</span></a></sup><sup id=\"cite_ref-28\" class=\"reference\"><a href=\"#cite_note-28\"><span class=\"cite-bracket\">[</span>28<span class=\"cite-bracket\">]</span></a></sup>\n",
       "</td></tr>\n",
       "\n",
       "\n",
       "<tr>\n",
       "<td><span data-sort-value=\"10 !\"><a href=\"/wiki/World_record_progression_50_metres_breaststroke\" title=\"World record progression 50 metres breaststroke\">50m breaststroke</a></span>\n",
       "</td>\n",
       "<td style=\"text-align:right; padding-left:0.5em; padding-right:0.5em;\">25.95\n",
       "</td>\n",
       "<td style=\"font-size:smaller\">sf</td>\n",
       "<td><span class=\"nowrap\"><span data-sort-value=\"Peaty, Adam\"><span class=\"vcard\"><span class=\"fn\"><a href=\"/wiki/Adam_Peaty\" title=\"Adam Peaty\">Adam Peaty</a></span></span></span></span>\n",
       "</td>\n",
       "<td><span class=\"flagicon\"><span class=\"mw-image-border\" typeof=\"mw:File\"><span><img alt=\"\" src=\"//upload.wikimedia.org/wikipedia/en/thumb/a/ae/Flag_of_the_United_Kingdom.svg/40px-Flag_of_the_United_Kingdom.svg.png\" decoding=\"async\" width=\"23\" height=\"12\" class=\"mw-file-element\" srcset=\"//upload.wikimedia.org/wikipedia/en/thumb/a/ae/Flag_of_the_United_Kingdom.svg/60px-Flag_of_the_United_Kingdom.svg.png 2x\" data-file-width=\"1200\" data-file-height=\"600\"></span></span> </span>Great Britain\n",
       "</td>\n",
       "<td style=\"text-align:center\">25 July 2017</td>\n",
       "<td><a href=\"/wiki/Swimming_at_the_2017_World_Aquatics_Championships_%E2%80%93_Men%27s_50_metre_breaststroke\" title=\"Swimming at the 2017 World Aquatics Championships – Men's 50 metre breaststroke\">World Championships</a>\n",
       "</td>\n",
       "<td><span data-sort-value=\"Hungary, Budapest !\"><a href=\"/wiki/Budapest\" title=\"Budapest\">Budapest</a>, Hungary</span>\n",
       "</td>\n",
       "<td style=\"text-align:center\"><sup id=\"cite_ref-29\" class=\"reference\"><a href=\"#cite_note-29\"><span class=\"cite-bracket\">[</span>29<span class=\"cite-bracket\">]</span></a></sup><sup id=\"cite_ref-30\" class=\"reference\"><a href=\"#cite_note-30\"><span class=\"cite-bracket\">[</span>30<span class=\"cite-bracket\">]</span></a></sup>\n",
       "</td></tr>\n",
       "\n",
       "\n",
       "<tr>\n",
       "<td><span data-sort-value=\"11 !\"><a href=\"/wiki/World_record_progression_100_metres_breaststroke\" title=\"World record progression 100 metres breaststroke\">100m breaststroke</a></span>\n",
       "</td>\n",
       "<td style=\"text-align:right; padding-left:0.5em; padding-right:0.5em;\">56.88\n",
       "</td>\n",
       "<td style=\"font-size:smaller\">sf</td>\n",
       "<td><span class=\"nowrap\"><span data-sort-value=\"Peaty, Adam\"><span class=\"vcard\"><span class=\"fn\"><a href=\"/wiki/Adam_Peaty\" title=\"Adam Peaty\">Adam Peaty</a></span></span></span></span>\n",
       "</td>\n",
       "<td><span class=\"flagicon\"><span class=\"mw-image-border\" typeof=\"mw:File\"><span><img alt=\"\" src=\"//upload.wikimedia.org/wikipedia/en/thumb/a/ae/Flag_of_the_United_Kingdom.svg/40px-Flag_of_the_United_Kingdom.svg.png\" decoding=\"async\" width=\"23\" height=\"12\" class=\"mw-file-element\" srcset=\"//upload.wikimedia.org/wikipedia/en/thumb/a/ae/Flag_of_the_United_Kingdom.svg/60px-Flag_of_the_United_Kingdom.svg.png 2x\" data-file-width=\"1200\" data-file-height=\"600\"></span></span> </span>Great Britain\n",
       "</td>\n",
       "<td style=\"text-align:center\">21 July 2019</td>\n",
       "<td><a href=\"/wiki/Swimming_at_the_2019_World_Aquatics_Championships_%E2%80%93_Men%27s_100_metre_breaststroke\" title=\"Swimming at the 2019 World Aquatics Championships – Men's 100 metre breaststroke\">World Championships</a>\n",
       "</td>\n",
       "<td><span data-sort-value=\"South Korea, Gwangju !\"><a href=\"/wiki/Gwangju\" title=\"Gwangju\">Gwangju</a>, South Korea</span>\n",
       "</td>\n",
       "<td style=\"text-align:center\"><sup id=\"cite_ref-31\" class=\"reference\"><a href=\"#cite_note-31\"><span class=\"cite-bracket\">[</span>31<span class=\"cite-bracket\">]</span></a></sup><sup id=\"cite_ref-32\" class=\"reference\"><a href=\"#cite_note-32\"><span class=\"cite-bracket\">[</span>32<span class=\"cite-bracket\">]</span></a></sup>\n",
       "</td></tr>\n",
       "\n",
       "\n",
       "<tr>\n",
       "<td><span data-sort-value=\"12 !\"><a href=\"/wiki/World_record_progression_200_metres_breaststroke\" title=\"World record progression 200 metres breaststroke\">200m breaststroke</a></span>\n",
       "</td>\n",
       "<td style=\"text-align:right; padding-left:0.5em; padding-right:0.5em;\">2:05.48\n",
       "</td>\n",
       "<td style=\"font-size:smaller\"></td>\n",
       "<td><span class=\"nowrap\"><a href=\"/wiki/Qin_Haiyang\" title=\"Qin Haiyang\">Qin Haiyang</a></span>\n",
       "</td>\n",
       "<td><span class=\"flagicon\"><span class=\"mw-image-border\" typeof=\"mw:File\"><span><img alt=\"\" src=\"//upload.wikimedia.org/wikipedia/commons/thumb/f/fa/Flag_of_the_People%27s_Republic_of_China.svg/40px-Flag_of_the_People%27s_Republic_of_China.svg.png\" decoding=\"async\" width=\"23\" height=\"15\" class=\"mw-file-element\" srcset=\"//upload.wikimedia.org/wikipedia/commons/thumb/f/fa/Flag_of_the_People%27s_Republic_of_China.svg/60px-Flag_of_the_People%27s_Republic_of_China.svg.png 2x\" data-file-width=\"900\" data-file-height=\"600\"></span></span> </span>China\n",
       "</td>\n",
       "<td style=\"text-align:center\">28 July 2023</td>\n",
       "<td><a href=\"/wiki/Swimming_at_the_2023_World_Aquatics_Championships_%E2%80%93_Men%27s_200_metre_breaststroke\" title=\"Swimming at the 2023 World Aquatics Championships – Men's 200 metre breaststroke\">World Championships</a>\n",
       "</td>\n",
       "<td><span data-sort-value=\"Japan, Fukuoka !\"><a href=\"/wiki/Fukuoka\" title=\"Fukuoka\">Fukuoka</a>, Japan</span>\n",
       "</td>\n",
       "<td style=\"text-align:center\"><sup id=\"cite_ref-33\" class=\"reference\"><a href=\"#cite_note-33\"><span class=\"cite-bracket\">[</span>33<span class=\"cite-bracket\">]</span></a></sup><sup id=\"cite_ref-34\" class=\"reference\"><a href=\"#cite_note-34\"><span class=\"cite-bracket\">[</span>34<span class=\"cite-bracket\">]</span></a></sup>\n",
       "</td></tr>\n",
       " \n",
       "\n",
       "<tr>\n",
       "<td><span data-sort-value=\"13 !\"><a href=\"/wiki/World_record_progression_50_metres_butterfly\" title=\"World record progression 50 metres butterfly\">50m butterfly</a></span>\n",
       "</td>\n",
       "<td style=\"text-align:right; padding-left:0.5em; padding-right:0.5em;\">22.27\n",
       "</td>\n",
       "<td style=\"font-size:smaller\"></td>\n",
       "<td><span class=\"nowrap\"><span data-sort-value=\"Govorov, Andriy\"><span class=\"vcard\"><span class=\"fn\"><a href=\"/wiki/Andriy_Govorov\" title=\"Andriy Govorov\">Andriy Govorov</a></span></span></span></span>\n",
       "</td>\n",
       "<td><span class=\"flagicon\"><span class=\"mw-image-border\" typeof=\"mw:File\"><span><img alt=\"\" src=\"//upload.wikimedia.org/wikipedia/commons/thumb/4/49/Flag_of_Ukraine.svg/40px-Flag_of_Ukraine.svg.png\" decoding=\"async\" width=\"23\" height=\"15\" class=\"mw-file-element\" srcset=\"//upload.wikimedia.org/wikipedia/commons/thumb/4/49/Flag_of_Ukraine.svg/60px-Flag_of_Ukraine.svg.png 2x\" data-file-width=\"1200\" data-file-height=\"800\"></span></span> </span>Ukraine\n",
       "</td>\n",
       "<td style=\"text-align:center\">1 July 2018</td>\n",
       "<td>Sette Colli Trophy\n",
       "</td>\n",
       "<td><span data-sort-value=\"Italy, Rome !\"><a href=\"/wiki/Rome\" title=\"Rome\">Rome</a>, Italy</span>\n",
       "</td>\n",
       "<td style=\"text-align:center\"><sup id=\"cite_ref-35\" class=\"reference\"><a href=\"#cite_note-35\"><span class=\"cite-bracket\">[</span>35<span class=\"cite-bracket\">]</span></a></sup><sup id=\"cite_ref-36\" class=\"reference\"><a href=\"#cite_note-36\"><span class=\"cite-bracket\">[</span>36<span class=\"cite-bracket\">]</span></a></sup>\n",
       "</td></tr>\n",
       "\n",
       "\n",
       "<tr>\n",
       "<td><span data-sort-value=\"14 !\"><a href=\"/wiki/World_record_progression_100_metres_butterfly\" title=\"World record progression 100 metres butterfly\">100m butterfly</a></span>\n",
       "</td>\n",
       "<td style=\"text-align:right; padding-left:0.5em; padding-right:0.5em;\">49.45\n",
       "</td>\n",
       "<td style=\"font-size:smaller\"></td>\n",
       "<td><span class=\"nowrap\"><span data-sort-value=\"Dressel, Caeleb\"><span class=\"vcard\"><span class=\"fn\"><a href=\"/wiki/Caeleb_Dressel\" title=\"Caeleb Dressel\">Caeleb Dressel</a></span></span></span></span>\n",
       "</td>\n",
       "<td><span class=\"flagicon\"><span class=\"mw-image-border\" typeof=\"mw:File\"><span><img alt=\"\" src=\"//upload.wikimedia.org/wikipedia/en/thumb/a/a4/Flag_of_the_United_States.svg/40px-Flag_of_the_United_States.svg.png\" decoding=\"async\" width=\"23\" height=\"12\" class=\"mw-file-element\" srcset=\"//upload.wikimedia.org/wikipedia/en/thumb/a/a4/Flag_of_the_United_States.svg/60px-Flag_of_the_United_States.svg.png 2x\" data-file-width=\"1235\" data-file-height=\"650\"></span></span> </span>United States\n",
       "</td>\n",
       "<td style=\"text-align:center\">31 July 2021</td>\n",
       "<td><a href=\"/wiki/Swimming_at_the_2020_Summer_Olympics_%E2%80%93_Men%27s_100_metre_butterfly\" title=\"Swimming at the 2020 Summer Olympics – Men's 100 metre butterfly\">Olympic Games</a>\n",
       "</td>\n",
       "<td><span data-sort-value=\"Japan, Tokyo !\"><a href=\"/wiki/Tokyo\" title=\"Tokyo\">Tokyo</a>, Japan</span>\n",
       "</td>\n",
       "<td style=\"text-align:center\"><sup id=\"cite_ref-37\" class=\"reference\"><a href=\"#cite_note-37\"><span class=\"cite-bracket\">[</span>37<span class=\"cite-bracket\">]</span></a></sup><sup id=\"cite_ref-38\" class=\"reference\"><a href=\"#cite_note-38\"><span class=\"cite-bracket\">[</span>38<span class=\"cite-bracket\">]</span></a></sup>\n",
       "</td></tr>\n",
       "\n",
       "\n",
       "<tr>\n",
       "<td><span data-sort-value=\"15 !\"><a href=\"/wiki/World_record_progression_200_metres_butterfly\" title=\"World record progression 200 metres butterfly\">200m butterfly</a></span>\n",
       "</td>\n",
       "<td style=\"text-align:right; padding-left:0.5em; padding-right:0.5em;\">1:50.34\n",
       "</td>\n",
       "<td style=\"font-size:smaller\"></td>\n",
       "<td><span class=\"nowrap\"><span data-sort-value=\"Milák, Kristóf\"><span class=\"vcard\"><span class=\"fn\"><a href=\"/wiki/Krist%C3%B3f_Mil%C3%A1k\" title=\"Kristóf Milák\">Kristóf Milák</a></span></span></span></span>\n",
       "</td>\n",
       "<td><span class=\"flagicon\"><span class=\"mw-image-border\" typeof=\"mw:File\"><span><img alt=\"\" src=\"//upload.wikimedia.org/wikipedia/commons/thumb/c/c1/Flag_of_Hungary.svg/40px-Flag_of_Hungary.svg.png\" decoding=\"async\" width=\"23\" height=\"12\" class=\"mw-file-element\" srcset=\"//upload.wikimedia.org/wikipedia/commons/thumb/c/c1/Flag_of_Hungary.svg/60px-Flag_of_Hungary.svg.png 2x\" data-file-width=\"1200\" data-file-height=\"600\"></span></span> </span>Hungary\n",
       "</td>\n",
       "<td style=\"text-align:center\">21 June 2022</td>\n",
       "<td><a href=\"/wiki/Swimming_at_the_2022_World_Aquatics_Championships_%E2%80%93_Men%27s_200_metre_butterfly\" title=\"Swimming at the 2022 World Aquatics Championships – Men's 200 metre butterfly\">World Championships</a>\n",
       "</td>\n",
       "<td><span data-sort-value=\"Hungary, Budapest !\"><a href=\"/wiki/Budapest\" title=\"Budapest\">Budapest</a>, Hungary</span>\n",
       "</td>\n",
       "<td style=\"text-align:center\"><sup id=\"cite_ref-39\" class=\"reference\"><a href=\"#cite_note-39\"><span class=\"cite-bracket\">[</span>39<span class=\"cite-bracket\">]</span></a></sup><sup id=\"cite_ref-40\" class=\"reference\"><a href=\"#cite_note-40\"><span class=\"cite-bracket\">[</span>40<span class=\"cite-bracket\">]</span></a></sup>\n",
       "</td></tr>\n",
       "\n",
       "\n",
       "<tr>\n",
       "<td><span data-sort-value=\"16 !\"><a href=\"/wiki/World_record_progression_200_metres_individual_medley\" title=\"World record progression 200 metres individual medley\">200m individual medley</a></span>\n",
       "</td>\n",
       "<td style=\"text-align:right; padding-left:0.5em; padding-right:0.5em;\">1:52.69\n",
       "</td>\n",
       "<td style=\"font-size:smaller\">sf</td>\n",
       "<td><span class=\"nowrap\"><span data-sort-value=\"Marchand, Léon\"><span class=\"vcard\"><span class=\"fn\"><a href=\"/wiki/L%C3%A9on_Marchand\" title=\"Léon Marchand\">Léon Marchand</a></span></span></span></span>\n",
       "</td>\n",
       "<td><span class=\"flagicon\"><span class=\"mw-image-border\" typeof=\"mw:File\"><span><img alt=\"\" src=\"//upload.wikimedia.org/wikipedia/en/thumb/c/c3/Flag_of_France.svg/40px-Flag_of_France.svg.png\" decoding=\"async\" width=\"23\" height=\"15\" class=\"mw-file-element\" srcset=\"//upload.wikimedia.org/wikipedia/en/thumb/c/c3/Flag_of_France.svg/60px-Flag_of_France.svg.png 2x\" data-file-width=\"900\" data-file-height=\"600\"></span></span> </span>France\n",
       "</td>\n",
       "<td style=\"text-align:center\">30 July 2025</td>\n",
       "<td><a href=\"/wiki/Swimming_at_the_2025_World_Aquatics_Championships_%E2%80%93_Men%27s_200_metre_individual_medley\" title=\"Swimming at the 2025 World Aquatics Championships – Men's 200 metre individual medley\">World Championships</a>\n",
       "</td>\n",
       "<td><span data-sort-value=\"Singapore, Singapore !\"><a href=\"/wiki/Singapore\" title=\"Singapore\">Singapore</a>, Singapore</span>\n",
       "</td>\n",
       "<td style=\"text-align:center\"><sup id=\"cite_ref-41\" class=\"reference\"><a href=\"#cite_note-41\"><span class=\"cite-bracket\">[</span>41<span class=\"cite-bracket\">]</span></a></sup>\n",
       "</td></tr>\n",
       "\n",
       "\n",
       "<tr>\n",
       "<td><span data-sort-value=\"17 !\"><a href=\"/wiki/World_record_progression_400_metres_individual_medley\" title=\"World record progression 400 metres individual medley\">400m individual medley</a></span>\n",
       "</td>\n",
       "<td style=\"text-align:right; padding-left:0.5em; padding-right:0.5em;\">4:02.50\n",
       "</td>\n",
       "<td style=\"font-size:smaller\"></td>\n",
       "<td><span class=\"nowrap\"><span data-sort-value=\"Marchand, Léon\"><span class=\"vcard\"><span class=\"fn\"><a href=\"/wiki/L%C3%A9on_Marchand\" title=\"Léon Marchand\">Léon Marchand</a></span></span></span></span>\n",
       "</td>\n",
       "<td><span class=\"flagicon\"><span class=\"mw-image-border\" typeof=\"mw:File\"><span><img alt=\"\" src=\"//upload.wikimedia.org/wikipedia/en/thumb/c/c3/Flag_of_France.svg/40px-Flag_of_France.svg.png\" decoding=\"async\" width=\"23\" height=\"15\" class=\"mw-file-element\" srcset=\"//upload.wikimedia.org/wikipedia/en/thumb/c/c3/Flag_of_France.svg/60px-Flag_of_France.svg.png 2x\" data-file-width=\"900\" data-file-height=\"600\"></span></span> </span>France\n",
       "</td>\n",
       "<td style=\"text-align:center\">23 July 2023</td>\n",
       "<td><a href=\"/wiki/Swimming_at_the_2023_World_Aquatics_Championships_%E2%80%93_Men%27s_400_metre_individual_medley\" title=\"Swimming at the 2023 World Aquatics Championships – Men's 400 metre individual medley\">World Championships</a>\n",
       "</td>\n",
       "<td><span data-sort-value=\"Japan, Fukuoka !\"><a href=\"/wiki/Fukuoka\" title=\"Fukuoka\">Fukuoka</a>, Japan</span>\n",
       "</td>\n",
       "<td style=\"text-align:center\"><sup id=\"cite_ref-42\" class=\"reference\"><a href=\"#cite_note-42\"><span class=\"cite-bracket\">[</span>42<span class=\"cite-bracket\">]</span></a></sup><sup id=\"cite_ref-43\" class=\"reference\"><a href=\"#cite_note-43\"><span class=\"cite-bracket\">[</span>43<span class=\"cite-bracket\">]</span></a></sup>\n",
       "</td></tr>\n",
       "\n",
       "\n",
       "<tr>\n",
       "<td><span data-sort-value=\"18 !\"><a href=\"/wiki/World_record_progression_4_%C3%97_100_metres_freestyle_relay\" title=\"World record progression 4 × 100 metres freestyle relay\">4 × 100 m freestyle relay</a></span>\n",
       "</td>\n",
       "<td style=\"text-align:right; padding-left:0.5em; padding-right:0.5em;\">3:08.24\n",
       "</td>\n",
       "<td style=\"font-size:smaller\">ss\n",
       "</td>\n",
       "<td class=\"nowrap\"><style data-mw-deduplicate=\"TemplateStyles:r1126788409\">.mw-parser-output .plainlist ol,.mw-parser-output .plainlist ul{line-height:inherit;list-style:none;margin:0;padding:0}.mw-parser-output .plainlist ol li,.mw-parser-output .plainlist ul li{margin-bottom:0}</style><div class=\"plainlist\"><ul><li style=\"display:flex;justify-content:space-between\"><a href=\"/wiki/Michael_Phelps\" title=\"Michael Phelps\">Michael Phelps</a><div style=\"float:right\"> (47.51)</div></li><li style=\"display:flex;justify-content:space-between\"><a href=\"/wiki/Garrett_Weber-Gale\" title=\"Garrett Weber-Gale\">Garrett Weber-Gale</a><div> (47.02)</div></li><li style=\"display:flex;justify-content:space-between\"><a href=\"/wiki/Cullen_Jones\" title=\"Cullen Jones\">Cullen Jones</a><div> (47.65)</div></li><li style=\"display:flex;justify-content:space-between\"><a href=\"/wiki/Jason_Lezak\" title=\"Jason Lezak\">Jason Lezak</a><div> (46.06)</div></li></ul></div>\n",
       "</td>\n",
       "<td><span class=\"flagicon\"><span class=\"mw-image-border\" typeof=\"mw:File\"><span><img alt=\"\" src=\"//upload.wikimedia.org/wikipedia/en/thumb/a/a4/Flag_of_the_United_States.svg/40px-Flag_of_the_United_States.svg.png\" decoding=\"async\" width=\"23\" height=\"12\" class=\"mw-file-element\" srcset=\"//upload.wikimedia.org/wikipedia/en/thumb/a/a4/Flag_of_the_United_States.svg/60px-Flag_of_the_United_States.svg.png 2x\" data-file-width=\"1235\" data-file-height=\"650\"></span></span> </span>United States\n",
       "</td>\n",
       "<td style=\"text-align:center\">11 August 2008\n",
       "</td>\n",
       "<td><a href=\"/wiki/Swimming_at_the_2008_Summer_Olympics_%E2%80%93_Men%27s_4_%C3%97_100_metre_freestyle_relay\" title=\"Swimming at the 2008 Summer Olympics – Men's 4 × 100 metre freestyle relay\">Olympic Games</a>\n",
       "</td>\n",
       "<td><span data-sort-value=\"China, Beijing !\"><a href=\"/wiki/Beijing\" title=\"Beijing\">Beijing</a>, China</span>\n",
       "</td>\n",
       "<td style=\"text-align: center;\"><sup id=\"cite_ref-44\" class=\"reference\"><a href=\"#cite_note-44\"><span class=\"cite-bracket\">[</span>44<span class=\"cite-bracket\">]</span></a></sup><sup id=\"cite_ref-45\" class=\"reference\"><a href=\"#cite_note-45\"><span class=\"cite-bracket\">[</span>45<span class=\"cite-bracket\">]</span></a></sup><sup id=\"cite_ref-46\" class=\"reference\"><a href=\"#cite_note-46\"><span class=\"cite-bracket\">[</span>46<span class=\"cite-bracket\">]</span></a></sup>\n",
       "</td></tr>\n",
       "\n",
       "\n",
       "<tr>\n",
       "<td><span data-sort-value=\"19 !\"><a href=\"/wiki/World_record_progression_4_%C3%97_200_metres_freestyle_relay\" title=\"World record progression 4 × 200 metres freestyle relay\">4 × 200 m freestyle relay</a></span>\n",
       "</td>\n",
       "<td style=\"text-align:right; padding-left:0.5em; padding-right:0.5em;\">6:58.55\n",
       "</td>\n",
       "<td style=\"font-size:smaller\">ss\n",
       "</td>\n",
       "<td class=\"nowrap\"><link rel=\"mw-deduplicated-inline-style\" href=\"mw-data:TemplateStyles:r1126788409\"><div class=\"plainlist\"><ul><li style=\"display:flex;justify-content:space-between\"><a href=\"/wiki/Michael_Phelps\" title=\"Michael Phelps\">Michael Phelps</a><div style=\"float:right\"> (1:44.49)</div></li><li style=\"display:flex;justify-content:space-between\"><a href=\"/wiki/Ricky_Berens\" title=\"Ricky Berens\">Ricky Berens</a><div> (1:44.13)</div></li><li style=\"display:flex;justify-content:space-between\"><a href=\"/wiki/David_Walters_(swimmer)\" title=\"David Walters (swimmer)\">David Walters</a><div> (1:45.47)</div></li><li style=\"display:flex;justify-content:space-between\"><a href=\"/wiki/Ryan_Lochte\" title=\"Ryan Lochte\">Ryan Lochte</a><div> (1:44.46)</div></li></ul></div>\n",
       "</td>\n",
       "<td><span class=\"flagicon\"><span class=\"mw-image-border\" typeof=\"mw:File\"><span><img alt=\"\" src=\"//upload.wikimedia.org/wikipedia/en/thumb/a/a4/Flag_of_the_United_States.svg/40px-Flag_of_the_United_States.svg.png\" decoding=\"async\" width=\"23\" height=\"12\" class=\"mw-file-element\" srcset=\"//upload.wikimedia.org/wikipedia/en/thumb/a/a4/Flag_of_the_United_States.svg/60px-Flag_of_the_United_States.svg.png 2x\" data-file-width=\"1235\" data-file-height=\"650\"></span></span> </span>United States\n",
       "</td>\n",
       "<td style=\"text-align:center\">31 July 2009\n",
       "</td>\n",
       "<td><a href=\"/wiki/Swimming_at_the_2009_World_Aquatics_Championships_%E2%80%93_Men%27s_4_%C3%97_200_metre_freestyle_relay\" title=\"Swimming at the 2009 World Aquatics Championships – Men's 4 × 200 metre freestyle relay\">World Championships</a>\n",
       "</td>\n",
       "<td><span data-sort-value=\"Italy, Rome !\"><a href=\"/wiki/Rome\" title=\"Rome\">Rome</a>, Italy</span>\n",
       "</td>\n",
       "<td style=\"text-align: center;\"><sup id=\"cite_ref-47\" class=\"reference\"><a href=\"#cite_note-47\"><span class=\"cite-bracket\">[</span>47<span class=\"cite-bracket\">]</span></a></sup><sup id=\"cite_ref-48\" class=\"reference\"><a href=\"#cite_note-48\"><span class=\"cite-bracket\">[</span>48<span class=\"cite-bracket\">]</span></a></sup>\n",
       "</td></tr>\n",
       "\n",
       "\n",
       "<tr>\n",
       "<td><span data-sort-value=\"20 !\"><a href=\"/wiki/World_record_progression_4_%C3%97_100_metres_medley_relay\" title=\"World record progression 4 × 100 metres medley relay\">4 × 100 m medley relay</a></span>\n",
       "</td>\n",
       "<td style=\"text-align:right; padding-left:0.5em; padding-right:0.5em;\">3:26.78\n",
       "</td>\n",
       "<td style=\"font-size:smaller\">\n",
       "</td>\n",
       "<td class=\"nowrap\"><link rel=\"mw-deduplicated-inline-style\" href=\"mw-data:TemplateStyles:r1126788409\"><div class=\"plainlist\"><ul><li style=\"display:flex;justify-content:space-between\"><a href=\"/wiki/Ryan_Murphy_(swimmer)\" title=\"Ryan Murphy (swimmer)\">Ryan Murphy</a><div style=\"float:right\"> (52.31)</div></li><li style=\"display:flex;justify-content:space-between\"><a href=\"/wiki/Michael_Andrew_(swimmer)\" title=\"Michael Andrew (swimmer)\">Michael Andrew</a><div> (58.49)</div></li><li style=\"display:flex;justify-content:space-between\"><a href=\"/wiki/Caeleb_Dressel\" title=\"Caeleb Dressel\">Caeleb Dressel</a><div> (49.03)</div></li><li style=\"display:flex;justify-content:space-between\"><a href=\"/wiki/Zach_Apple\" title=\"Zach Apple\">Zach Apple</a><div> (46.95)</div></li></ul></div>\n",
       "</td>\n",
       "<td><span class=\"flagicon\"><span class=\"mw-image-border\" typeof=\"mw:File\"><span><img alt=\"\" src=\"//upload.wikimedia.org/wikipedia/en/thumb/a/a4/Flag_of_the_United_States.svg/40px-Flag_of_the_United_States.svg.png\" decoding=\"async\" width=\"23\" height=\"12\" class=\"mw-file-element\" srcset=\"//upload.wikimedia.org/wikipedia/en/thumb/a/a4/Flag_of_the_United_States.svg/60px-Flag_of_the_United_States.svg.png 2x\" data-file-width=\"1235\" data-file-height=\"650\"></span></span> </span>United States\n",
       "</td>\n",
       "<td style=\"text-align:center\">1 August 2021\n",
       "</td>\n",
       "<td><a href=\"/wiki/Swimming_at_the_2020_Summer_Olympics_%E2%80%93_Men%27s_4_%C3%97_100_metre_medley_relay\" title=\"Swimming at the 2020 Summer Olympics – Men's 4 × 100 metre medley relay\">Olympic Games</a>\n",
       "</td>\n",
       "<td><span data-sort-value=\"Japan, Tokyo !\"><a href=\"/wiki/Tokyo\" title=\"Tokyo\">Tokyo</a>, Japan</span>\n",
       "</td>\n",
       "<td style=\"text-align: center;\"><sup id=\"cite_ref-49\" class=\"reference\"><a href=\"#cite_note-49\"><span class=\"cite-bracket\">[</span>49<span class=\"cite-bracket\">]</span></a></sup><sup id=\"cite_ref-50\" class=\"reference\"><a href=\"#cite_note-50\"><span class=\"cite-bracket\">[</span>50<span class=\"cite-bracket\">]</span></a></sup>\n",
       "</td></tr>\n",
       "\n",
       "\n",
       "</tbody></table>"
      ]
     },
     "execution_count": 94,
     "metadata": {},
     "output_type": "execute_result"
    }
   ],
   "source": [
    "table = tables[0]\n",
    "table"
   ]
  },
  {
   "cell_type": "code",
   "execution_count": null,
   "id": "54521f77",
   "metadata": {},
   "outputs": [
    {
     "name": "stdout",
     "output_type": "stream",
     "text": [
      "50m freestyle -> 20.91\n",
      "100m freestyle -> 46.40\n",
      "200m freestyle -> 1:42.00\n",
      "400m freestyle -> 3:39.96\n",
      "800m freestyle -> 7:32.12\n",
      "1500m freestyle -> 14:30.67\n",
      "50m backstroke -> 23.55\n",
      "100m backstroke -> 51.60\n",
      "200m backstroke -> 1:51.92\n",
      "50m breaststroke -> 25.95\n",
      "100m breaststroke -> 56.88\n",
      "200m breaststroke -> 2:05.48\n",
      "50m butterfly -> 22.27\n",
      "100m butterfly -> 49.45\n",
      "200m butterfly -> 1:50.34\n",
      "200m individual medley -> 1:52.69\n",
      "400m individual medley -> 4:02.50\n",
      "4 × 100 m freestyle relay -> 3:08.24\n",
      "4 × 200 m freestyle relay -> 6:58.55\n",
      "4 × 100 m medley relay -> 3:26.78\n"
     ]
    }
   ],
   "source": [
    "for row in table.find(\"tr\", mode=\"all\")[1:]:\n",
    "    columns = row.find(\"td\" , mode=\"all\")\n",
    "    event = columns[0].text\n",
    "    time = columns[1].text\n",
    "    print(f\"{event} -> {time}\")\n"
   ]
  },
  {
   "cell_type": "code",
   "execution_count": null,
   "id": "a01a1c37",
   "metadata": {},
   "outputs": [
    {
     "name": "stdout",
     "output_type": "stream",
     "text": [
      "0 -> 14 rows, 3 columns\n",
      "1 -> 14 rows, 5 columns\n"
     ]
    }
   ],
   "source": [
    "URL = \"https://www.canada.ca/en/revenue-agency/services/tax/businesses/topics/gst-hst-businesses/charge-collect-which-rate/calculator.html\"\n",
    "import gazpacho\n",
    "html = gazpacho.get(URL)\n",
    "soup = gazpacho.Soup(html)\n",
    "tables = soup.find(\"table\")\n",
    "rows = tables[0].find(\"tr\",mode=\"all\")\n",
    "for n, table in enumerate(tables):\n",
    "    rows = table.find(\"tr\",mode=\"all\")\n",
    "    cols = rows[-1].find(\"td\", mode=\"all\")\n",
    "    print(f\"{n} -> {len(rows)} rows, {len(cols)} columns\")"
   ]
  },
  {
   "cell_type": "code",
   "execution_count": null,
   "id": "cbe0b2aa",
   "metadata": {},
   "outputs": [],
   "source": [
    "RECORDS = (0,2,4,5)\n",
    "COURSES = (\"Alberta\")"
   ]
  },
  {
   "cell_type": "code",
   "execution_count": null,
   "id": "22067773",
   "metadata": {},
   "outputs": [
    {
     "data": {
      "text/plain": [
       "[(0, 'A'), (2, 'l'), (4, 'b'), (5, 'e')]"
      ]
     },
     "execution_count": 108,
     "metadata": {},
     "output_type": "execute_result"
    }
   ],
   "source": [
    "list(zip(RECORDS,COURSES))"
   ]
  },
  {
   "cell_type": "code",
   "execution_count": null,
   "id": "944f9a56",
   "metadata": {},
   "outputs": [
    {
     "name": "stdout",
     "output_type": "stream",
     "text": [
      "quit\n"
     ]
    }
   ],
   "source": [
    "c = str(input(\"enter:\"))\n",
    "if c.lower() == 'q':\n",
    "    print(\"quit\")"
   ]
  },
  {
   "cell_type": "code",
   "execution_count": null,
   "id": "f062a263",
   "metadata": {},
   "outputs": [
    {
     "name": "stdout",
     "output_type": "stream",
     "text": [
      "Requirement already satisfied: pandas in c:\\users\\sridh\\appdata\\local\\packages\\pythonsoftwarefoundation.python.3.11_qbz5n2kfra8p0\\localcache\\local-packages\\python311\\site-packages (2.3.3)\n",
      "Requirement already satisfied: numpy>=1.23.2 in c:\\users\\sridh\\appdata\\local\\packages\\pythonsoftwarefoundation.python.3.11_qbz5n2kfra8p0\\localcache\\local-packages\\python311\\site-packages (from pandas) (1.26.4)\n",
      "Requirement already satisfied: python-dateutil>=2.8.2 in c:\\users\\sridh\\appdata\\local\\packages\\pythonsoftwarefoundation.python.3.11_qbz5n2kfra8p0\\localcache\\local-packages\\python311\\site-packages (from pandas) (2.8.2)\n",
      "Requirement already satisfied: pytz>=2020.1 in c:\\users\\sridh\\appdata\\local\\packages\\pythonsoftwarefoundation.python.3.11_qbz5n2kfra8p0\\localcache\\local-packages\\python311\\site-packages (from pandas) (2025.2)\n",
      "Requirement already satisfied: tzdata>=2022.7 in c:\\users\\sridh\\appdata\\local\\packages\\pythonsoftwarefoundation.python.3.11_qbz5n2kfra8p0\\localcache\\local-packages\\python311\\site-packages (from pandas) (2025.2)\n",
      "Requirement already satisfied: six>=1.5 in c:\\users\\sridh\\appdata\\local\\packages\\pythonsoftwarefoundation.python.3.11_qbz5n2kfra8p0\\localcache\\local-packages\\python311\\site-packages (from python-dateutil>=2.8.2->pandas) (1.17.0)\n",
      "Note: you may need to restart the kernel to use updated packages.\n"
     ]
    }
   ],
   "source": [
    "%pip install pandas --upgrade"
   ]
  },
  {
   "cell_type": "code",
   "execution_count": null,
   "id": "536e7983",
   "metadata": {},
   "outputs": [
    {
     "name": "stdout",
     "output_type": "stream",
     "text": [
      "Requirement already satisfied: lxml in c:\\users\\sridh\\appdata\\local\\packages\\pythonsoftwarefoundation.python.3.11_qbz5n2kfra8p0\\localcache\\local-packages\\python311\\site-packages (6.0.2)\n",
      "Note: you may need to restart the kernel to use updated packages.\n"
     ]
    }
   ],
   "source": [
    "%pip install lxml --upgrade"
   ]
  },
  {
   "cell_type": "code",
   "execution_count": null,
   "id": "81f510fb",
   "metadata": {},
   "outputs": [],
   "source": [
    "import pandas as pd\n",
    "URL = \"https://en.wikipedia.org/wiki/List_of_world_records_in_swimming\""
   ]
  },
  {
   "cell_type": "code",
   "execution_count": null,
   "id": "8fff66ec",
   "metadata": {},
   "outputs": [
    {
     "ename": "HTTPError",
     "evalue": "HTTP Error 403: Forbidden",
     "output_type": "error",
     "traceback": [
      "\u001b[31m---------------------------------------------------------------------------\u001b[39m",
      "\u001b[31mHTTPError\u001b[39m                                 Traceback (most recent call last)",
      "\u001b[36mCell\u001b[39m\u001b[36m \u001b[39m\u001b[32mIn[14]\u001b[39m\u001b[32m, line 1\u001b[39m\n\u001b[32m----> \u001b[39m\u001b[32m1\u001b[39m tables = \u001b[43mpd\u001b[49m\u001b[43m.\u001b[49m\u001b[43mread_html\u001b[49m\u001b[43m(\u001b[49m\u001b[43mURL\u001b[49m\u001b[43m)\u001b[49m\n",
      "\u001b[36mFile \u001b[39m\u001b[32m~\\AppData\\Local\\Packages\\PythonSoftwareFoundation.Python.3.11_qbz5n2kfra8p0\\LocalCache\\local-packages\\Python311\\site-packages\\pandas\\io\\html.py:1240\u001b[39m, in \u001b[36mread_html\u001b[39m\u001b[34m(io, match, flavor, header, index_col, skiprows, attrs, parse_dates, thousands, encoding, decimal, converters, na_values, keep_default_na, displayed_only, extract_links, dtype_backend, storage_options)\u001b[39m\n\u001b[32m   1224\u001b[39m \u001b[38;5;28;01mif\u001b[39;00m \u001b[38;5;28misinstance\u001b[39m(io, \u001b[38;5;28mstr\u001b[39m) \u001b[38;5;129;01mand\u001b[39;00m \u001b[38;5;129;01mnot\u001b[39;00m \u001b[38;5;28many\u001b[39m(\n\u001b[32m   1225\u001b[39m     [\n\u001b[32m   1226\u001b[39m         is_file_like(io),\n\u001b[32m   (...)\u001b[39m\u001b[32m   1230\u001b[39m     ]\n\u001b[32m   1231\u001b[39m ):\n\u001b[32m   1232\u001b[39m     warnings.warn(\n\u001b[32m   1233\u001b[39m         \u001b[33m\"\u001b[39m\u001b[33mPassing literal html to \u001b[39m\u001b[33m'\u001b[39m\u001b[33mread_html\u001b[39m\u001b[33m'\u001b[39m\u001b[33m is deprecated and \u001b[39m\u001b[33m\"\u001b[39m\n\u001b[32m   1234\u001b[39m         \u001b[33m\"\u001b[39m\u001b[33mwill be removed in a future version. To read from a \u001b[39m\u001b[33m\"\u001b[39m\n\u001b[32m   (...)\u001b[39m\u001b[32m   1237\u001b[39m         stacklevel=find_stack_level(),\n\u001b[32m   1238\u001b[39m     )\n\u001b[32m-> \u001b[39m\u001b[32m1240\u001b[39m \u001b[38;5;28;01mreturn\u001b[39;00m \u001b[43m_parse\u001b[49m\u001b[43m(\u001b[49m\n\u001b[32m   1241\u001b[39m \u001b[43m    \u001b[49m\u001b[43mflavor\u001b[49m\u001b[43m=\u001b[49m\u001b[43mflavor\u001b[49m\u001b[43m,\u001b[49m\n\u001b[32m   1242\u001b[39m \u001b[43m    \u001b[49m\u001b[43mio\u001b[49m\u001b[43m=\u001b[49m\u001b[43mio\u001b[49m\u001b[43m,\u001b[49m\n\u001b[32m   1243\u001b[39m \u001b[43m    \u001b[49m\u001b[43mmatch\u001b[49m\u001b[43m=\u001b[49m\u001b[43mmatch\u001b[49m\u001b[43m,\u001b[49m\n\u001b[32m   1244\u001b[39m \u001b[43m    \u001b[49m\u001b[43mheader\u001b[49m\u001b[43m=\u001b[49m\u001b[43mheader\u001b[49m\u001b[43m,\u001b[49m\n\u001b[32m   1245\u001b[39m \u001b[43m    \u001b[49m\u001b[43mindex_col\u001b[49m\u001b[43m=\u001b[49m\u001b[43mindex_col\u001b[49m\u001b[43m,\u001b[49m\n\u001b[32m   1246\u001b[39m \u001b[43m    \u001b[49m\u001b[43mskiprows\u001b[49m\u001b[43m=\u001b[49m\u001b[43mskiprows\u001b[49m\u001b[43m,\u001b[49m\n\u001b[32m   1247\u001b[39m \u001b[43m    \u001b[49m\u001b[43mparse_dates\u001b[49m\u001b[43m=\u001b[49m\u001b[43mparse_dates\u001b[49m\u001b[43m,\u001b[49m\n\u001b[32m   1248\u001b[39m \u001b[43m    \u001b[49m\u001b[43mthousands\u001b[49m\u001b[43m=\u001b[49m\u001b[43mthousands\u001b[49m\u001b[43m,\u001b[49m\n\u001b[32m   1249\u001b[39m \u001b[43m    \u001b[49m\u001b[43mattrs\u001b[49m\u001b[43m=\u001b[49m\u001b[43mattrs\u001b[49m\u001b[43m,\u001b[49m\n\u001b[32m   1250\u001b[39m \u001b[43m    \u001b[49m\u001b[43mencoding\u001b[49m\u001b[43m=\u001b[49m\u001b[43mencoding\u001b[49m\u001b[43m,\u001b[49m\n\u001b[32m   1251\u001b[39m \u001b[43m    \u001b[49m\u001b[43mdecimal\u001b[49m\u001b[43m=\u001b[49m\u001b[43mdecimal\u001b[49m\u001b[43m,\u001b[49m\n\u001b[32m   1252\u001b[39m \u001b[43m    \u001b[49m\u001b[43mconverters\u001b[49m\u001b[43m=\u001b[49m\u001b[43mconverters\u001b[49m\u001b[43m,\u001b[49m\n\u001b[32m   1253\u001b[39m \u001b[43m    \u001b[49m\u001b[43mna_values\u001b[49m\u001b[43m=\u001b[49m\u001b[43mna_values\u001b[49m\u001b[43m,\u001b[49m\n\u001b[32m   1254\u001b[39m \u001b[43m    \u001b[49m\u001b[43mkeep_default_na\u001b[49m\u001b[43m=\u001b[49m\u001b[43mkeep_default_na\u001b[49m\u001b[43m,\u001b[49m\n\u001b[32m   1255\u001b[39m \u001b[43m    \u001b[49m\u001b[43mdisplayed_only\u001b[49m\u001b[43m=\u001b[49m\u001b[43mdisplayed_only\u001b[49m\u001b[43m,\u001b[49m\n\u001b[32m   1256\u001b[39m \u001b[43m    \u001b[49m\u001b[43mextract_links\u001b[49m\u001b[43m=\u001b[49m\u001b[43mextract_links\u001b[49m\u001b[43m,\u001b[49m\n\u001b[32m   1257\u001b[39m \u001b[43m    \u001b[49m\u001b[43mdtype_backend\u001b[49m\u001b[43m=\u001b[49m\u001b[43mdtype_backend\u001b[49m\u001b[43m,\u001b[49m\n\u001b[32m   1258\u001b[39m \u001b[43m    \u001b[49m\u001b[43mstorage_options\u001b[49m\u001b[43m=\u001b[49m\u001b[43mstorage_options\u001b[49m\u001b[43m,\u001b[49m\n\u001b[32m   1259\u001b[39m \u001b[43m\u001b[49m\u001b[43m)\u001b[49m\n",
      "\u001b[36mFile \u001b[39m\u001b[32m~\\AppData\\Local\\Packages\\PythonSoftwareFoundation.Python.3.11_qbz5n2kfra8p0\\LocalCache\\local-packages\\Python311\\site-packages\\pandas\\io\\html.py:983\u001b[39m, in \u001b[36m_parse\u001b[39m\u001b[34m(flavor, io, match, attrs, encoding, displayed_only, extract_links, storage_options, **kwargs)\u001b[39m\n\u001b[32m    972\u001b[39m p = parser(\n\u001b[32m    973\u001b[39m     io,\n\u001b[32m    974\u001b[39m     compiled_match,\n\u001b[32m   (...)\u001b[39m\u001b[32m    979\u001b[39m     storage_options,\n\u001b[32m    980\u001b[39m )\n\u001b[32m    982\u001b[39m \u001b[38;5;28;01mtry\u001b[39;00m:\n\u001b[32m--> \u001b[39m\u001b[32m983\u001b[39m     tables = \u001b[43mp\u001b[49m\u001b[43m.\u001b[49m\u001b[43mparse_tables\u001b[49m\u001b[43m(\u001b[49m\u001b[43m)\u001b[49m\n\u001b[32m    984\u001b[39m \u001b[38;5;28;01mexcept\u001b[39;00m \u001b[38;5;167;01mValueError\u001b[39;00m \u001b[38;5;28;01mas\u001b[39;00m caught:\n\u001b[32m    985\u001b[39m     \u001b[38;5;66;03m# if `io` is an io-like object, check if it's seekable\u001b[39;00m\n\u001b[32m    986\u001b[39m     \u001b[38;5;66;03m# and try to rewind it before trying the next parser\u001b[39;00m\n\u001b[32m    987\u001b[39m     \u001b[38;5;28;01mif\u001b[39;00m \u001b[38;5;28mhasattr\u001b[39m(io, \u001b[33m\"\u001b[39m\u001b[33mseekable\u001b[39m\u001b[33m\"\u001b[39m) \u001b[38;5;129;01mand\u001b[39;00m io.seekable():\n",
      "\u001b[36mFile \u001b[39m\u001b[32m~\\AppData\\Local\\Packages\\PythonSoftwareFoundation.Python.3.11_qbz5n2kfra8p0\\LocalCache\\local-packages\\Python311\\site-packages\\pandas\\io\\html.py:249\u001b[39m, in \u001b[36m_HtmlFrameParser.parse_tables\u001b[39m\u001b[34m(self)\u001b[39m\n\u001b[32m    241\u001b[39m \u001b[38;5;28;01mdef\u001b[39;00m\u001b[38;5;250m \u001b[39m\u001b[34mparse_tables\u001b[39m(\u001b[38;5;28mself\u001b[39m):\n\u001b[32m    242\u001b[39m \u001b[38;5;250m    \u001b[39m\u001b[33;03m\"\"\"\u001b[39;00m\n\u001b[32m    243\u001b[39m \u001b[33;03m    Parse and return all tables from the DOM.\u001b[39;00m\n\u001b[32m    244\u001b[39m \n\u001b[32m   (...)\u001b[39m\u001b[32m    247\u001b[39m \u001b[33;03m    list of parsed (header, body, footer) tuples from tables.\u001b[39;00m\n\u001b[32m    248\u001b[39m \u001b[33;03m    \"\"\"\u001b[39;00m\n\u001b[32m--> \u001b[39m\u001b[32m249\u001b[39m     tables = \u001b[38;5;28mself\u001b[39m._parse_tables(\u001b[38;5;28;43mself\u001b[39;49m\u001b[43m.\u001b[49m\u001b[43m_build_doc\u001b[49m\u001b[43m(\u001b[49m\u001b[43m)\u001b[49m, \u001b[38;5;28mself\u001b[39m.match, \u001b[38;5;28mself\u001b[39m.attrs)\n\u001b[32m    250\u001b[39m     \u001b[38;5;28;01mreturn\u001b[39;00m (\u001b[38;5;28mself\u001b[39m._parse_thead_tbody_tfoot(table) \u001b[38;5;28;01mfor\u001b[39;00m table \u001b[38;5;129;01min\u001b[39;00m tables)\n",
      "\u001b[36mFile \u001b[39m\u001b[32m~\\AppData\\Local\\Packages\\PythonSoftwareFoundation.Python.3.11_qbz5n2kfra8p0\\LocalCache\\local-packages\\Python311\\site-packages\\pandas\\io\\html.py:806\u001b[39m, in \u001b[36m_LxmlFrameParser._build_doc\u001b[39m\u001b[34m(self)\u001b[39m\n\u001b[32m    804\u001b[39m             \u001b[38;5;28;01mpass\u001b[39;00m\n\u001b[32m    805\u001b[39m     \u001b[38;5;28;01melse\u001b[39;00m:\n\u001b[32m--> \u001b[39m\u001b[32m806\u001b[39m         \u001b[38;5;28;01mraise\u001b[39;00m e\n\u001b[32m    807\u001b[39m \u001b[38;5;28;01melse\u001b[39;00m:\n\u001b[32m    808\u001b[39m     \u001b[38;5;28;01mif\u001b[39;00m \u001b[38;5;129;01mnot\u001b[39;00m \u001b[38;5;28mhasattr\u001b[39m(r, \u001b[33m\"\u001b[39m\u001b[33mtext_content\u001b[39m\u001b[33m\"\u001b[39m):\n",
      "\u001b[36mFile \u001b[39m\u001b[32m~\\AppData\\Local\\Packages\\PythonSoftwareFoundation.Python.3.11_qbz5n2kfra8p0\\LocalCache\\local-packages\\Python311\\site-packages\\pandas\\io\\html.py:785\u001b[39m, in \u001b[36m_LxmlFrameParser._build_doc\u001b[39m\u001b[34m(self)\u001b[39m\n\u001b[32m    783\u001b[39m \u001b[38;5;28;01mtry\u001b[39;00m:\n\u001b[32m    784\u001b[39m     \u001b[38;5;28;01mif\u001b[39;00m is_url(\u001b[38;5;28mself\u001b[39m.io):\n\u001b[32m--> \u001b[39m\u001b[32m785\u001b[39m         \u001b[38;5;28;01mwith\u001b[39;00m \u001b[43mget_handle\u001b[49m\u001b[43m(\u001b[49m\n\u001b[32m    786\u001b[39m \u001b[43m            \u001b[49m\u001b[38;5;28;43mself\u001b[39;49m\u001b[43m.\u001b[49m\u001b[43mio\u001b[49m\u001b[43m,\u001b[49m\u001b[43m \u001b[49m\u001b[33;43m\"\u001b[39;49m\u001b[33;43mr\u001b[39;49m\u001b[33;43m\"\u001b[39;49m\u001b[43m,\u001b[49m\u001b[43m \u001b[49m\u001b[43mstorage_options\u001b[49m\u001b[43m=\u001b[49m\u001b[38;5;28;43mself\u001b[39;49m\u001b[43m.\u001b[49m\u001b[43mstorage_options\u001b[49m\n\u001b[32m    787\u001b[39m \u001b[43m        \u001b[49m\u001b[43m)\u001b[49m \u001b[38;5;28;01mas\u001b[39;00m f:\n\u001b[32m    788\u001b[39m             r = parse(f.handle, parser=parser)\n\u001b[32m    789\u001b[39m     \u001b[38;5;28;01melse\u001b[39;00m:\n\u001b[32m    790\u001b[39m         \u001b[38;5;66;03m# try to parse the input in the simplest way\u001b[39;00m\n",
      "\u001b[36mFile \u001b[39m\u001b[32m~\\AppData\\Local\\Packages\\PythonSoftwareFoundation.Python.3.11_qbz5n2kfra8p0\\LocalCache\\local-packages\\Python311\\site-packages\\pandas\\io\\common.py:728\u001b[39m, in \u001b[36mget_handle\u001b[39m\u001b[34m(path_or_buf, mode, encoding, compression, memory_map, is_text, errors, storage_options)\u001b[39m\n\u001b[32m    725\u001b[39m     codecs.lookup_error(errors)\n\u001b[32m    727\u001b[39m \u001b[38;5;66;03m# open URLs\u001b[39;00m\n\u001b[32m--> \u001b[39m\u001b[32m728\u001b[39m ioargs = \u001b[43m_get_filepath_or_buffer\u001b[49m\u001b[43m(\u001b[49m\n\u001b[32m    729\u001b[39m \u001b[43m    \u001b[49m\u001b[43mpath_or_buf\u001b[49m\u001b[43m,\u001b[49m\n\u001b[32m    730\u001b[39m \u001b[43m    \u001b[49m\u001b[43mencoding\u001b[49m\u001b[43m=\u001b[49m\u001b[43mencoding\u001b[49m\u001b[43m,\u001b[49m\n\u001b[32m    731\u001b[39m \u001b[43m    \u001b[49m\u001b[43mcompression\u001b[49m\u001b[43m=\u001b[49m\u001b[43mcompression\u001b[49m\u001b[43m,\u001b[49m\n\u001b[32m    732\u001b[39m \u001b[43m    \u001b[49m\u001b[43mmode\u001b[49m\u001b[43m=\u001b[49m\u001b[43mmode\u001b[49m\u001b[43m,\u001b[49m\n\u001b[32m    733\u001b[39m \u001b[43m    \u001b[49m\u001b[43mstorage_options\u001b[49m\u001b[43m=\u001b[49m\u001b[43mstorage_options\u001b[49m\u001b[43m,\u001b[49m\n\u001b[32m    734\u001b[39m \u001b[43m\u001b[49m\u001b[43m)\u001b[49m\n\u001b[32m    736\u001b[39m handle = ioargs.filepath_or_buffer\n\u001b[32m    737\u001b[39m handles: \u001b[38;5;28mlist\u001b[39m[BaseBuffer]\n",
      "\u001b[36mFile \u001b[39m\u001b[32m~\\AppData\\Local\\Packages\\PythonSoftwareFoundation.Python.3.11_qbz5n2kfra8p0\\LocalCache\\local-packages\\Python311\\site-packages\\pandas\\io\\common.py:384\u001b[39m, in \u001b[36m_get_filepath_or_buffer\u001b[39m\u001b[34m(filepath_or_buffer, encoding, compression, mode, storage_options)\u001b[39m\n\u001b[32m    382\u001b[39m \u001b[38;5;66;03m# assuming storage_options is to be interpreted as headers\u001b[39;00m\n\u001b[32m    383\u001b[39m req_info = urllib.request.Request(filepath_or_buffer, headers=storage_options)\n\u001b[32m--> \u001b[39m\u001b[32m384\u001b[39m \u001b[38;5;28;01mwith\u001b[39;00m \u001b[43murlopen\u001b[49m\u001b[43m(\u001b[49m\u001b[43mreq_info\u001b[49m\u001b[43m)\u001b[49m \u001b[38;5;28;01mas\u001b[39;00m req:\n\u001b[32m    385\u001b[39m     content_encoding = req.headers.get(\u001b[33m\"\u001b[39m\u001b[33mContent-Encoding\u001b[39m\u001b[33m\"\u001b[39m, \u001b[38;5;28;01mNone\u001b[39;00m)\n\u001b[32m    386\u001b[39m     \u001b[38;5;28;01mif\u001b[39;00m content_encoding == \u001b[33m\"\u001b[39m\u001b[33mgzip\u001b[39m\u001b[33m\"\u001b[39m:\n\u001b[32m    387\u001b[39m         \u001b[38;5;66;03m# Override compression based on Content-Encoding header\u001b[39;00m\n",
      "\u001b[36mFile \u001b[39m\u001b[32m~\\AppData\\Local\\Packages\\PythonSoftwareFoundation.Python.3.11_qbz5n2kfra8p0\\LocalCache\\local-packages\\Python311\\site-packages\\pandas\\io\\common.py:289\u001b[39m, in \u001b[36murlopen\u001b[39m\u001b[34m(*args, **kwargs)\u001b[39m\n\u001b[32m    283\u001b[39m \u001b[38;5;250m\u001b[39m\u001b[33;03m\"\"\"\u001b[39;00m\n\u001b[32m    284\u001b[39m \u001b[33;03mLazy-import wrapper for stdlib urlopen, as that imports a big chunk of\u001b[39;00m\n\u001b[32m    285\u001b[39m \u001b[33;03mthe stdlib.\u001b[39;00m\n\u001b[32m    286\u001b[39m \u001b[33;03m\"\"\"\u001b[39;00m\n\u001b[32m    287\u001b[39m \u001b[38;5;28;01mimport\u001b[39;00m\u001b[38;5;250m \u001b[39m\u001b[34;01murllib\u001b[39;00m\u001b[34;01m.\u001b[39;00m\u001b[34;01mrequest\u001b[39;00m\n\u001b[32m--> \u001b[39m\u001b[32m289\u001b[39m \u001b[38;5;28;01mreturn\u001b[39;00m \u001b[43murllib\u001b[49m\u001b[43m.\u001b[49m\u001b[43mrequest\u001b[49m\u001b[43m.\u001b[49m\u001b[43murlopen\u001b[49m\u001b[43m(\u001b[49m\u001b[43m*\u001b[49m\u001b[43margs\u001b[49m\u001b[43m,\u001b[49m\u001b[43m \u001b[49m\u001b[43m*\u001b[49m\u001b[43m*\u001b[49m\u001b[43mkwargs\u001b[49m\u001b[43m)\u001b[49m\n",
      "\u001b[36mFile \u001b[39m\u001b[32mC:\\Program Files\\WindowsApps\\PythonSoftwareFoundation.Python.3.11_3.11.2544.0_x64__qbz5n2kfra8p0\\Lib\\urllib\\request.py:216\u001b[39m, in \u001b[36murlopen\u001b[39m\u001b[34m(url, data, timeout, cafile, capath, cadefault, context)\u001b[39m\n\u001b[32m    214\u001b[39m \u001b[38;5;28;01melse\u001b[39;00m:\n\u001b[32m    215\u001b[39m     opener = _opener\n\u001b[32m--> \u001b[39m\u001b[32m216\u001b[39m \u001b[38;5;28;01mreturn\u001b[39;00m \u001b[43mopener\u001b[49m\u001b[43m.\u001b[49m\u001b[43mopen\u001b[49m\u001b[43m(\u001b[49m\u001b[43murl\u001b[49m\u001b[43m,\u001b[49m\u001b[43m \u001b[49m\u001b[43mdata\u001b[49m\u001b[43m,\u001b[49m\u001b[43m \u001b[49m\u001b[43mtimeout\u001b[49m\u001b[43m)\u001b[49m\n",
      "\u001b[36mFile \u001b[39m\u001b[32mC:\\Program Files\\WindowsApps\\PythonSoftwareFoundation.Python.3.11_3.11.2544.0_x64__qbz5n2kfra8p0\\Lib\\urllib\\request.py:525\u001b[39m, in \u001b[36mOpenerDirector.open\u001b[39m\u001b[34m(self, fullurl, data, timeout)\u001b[39m\n\u001b[32m    523\u001b[39m \u001b[38;5;28;01mfor\u001b[39;00m processor \u001b[38;5;129;01min\u001b[39;00m \u001b[38;5;28mself\u001b[39m.process_response.get(protocol, []):\n\u001b[32m    524\u001b[39m     meth = \u001b[38;5;28mgetattr\u001b[39m(processor, meth_name)\n\u001b[32m--> \u001b[39m\u001b[32m525\u001b[39m     response = \u001b[43mmeth\u001b[49m\u001b[43m(\u001b[49m\u001b[43mreq\u001b[49m\u001b[43m,\u001b[49m\u001b[43m \u001b[49m\u001b[43mresponse\u001b[49m\u001b[43m)\u001b[49m\n\u001b[32m    527\u001b[39m \u001b[38;5;28;01mreturn\u001b[39;00m response\n",
      "\u001b[36mFile \u001b[39m\u001b[32mC:\\Program Files\\WindowsApps\\PythonSoftwareFoundation.Python.3.11_3.11.2544.0_x64__qbz5n2kfra8p0\\Lib\\urllib\\request.py:634\u001b[39m, in \u001b[36mHTTPErrorProcessor.http_response\u001b[39m\u001b[34m(self, request, response)\u001b[39m\n\u001b[32m    631\u001b[39m \u001b[38;5;66;03m# According to RFC 2616, \"2xx\" code indicates that the client's\u001b[39;00m\n\u001b[32m    632\u001b[39m \u001b[38;5;66;03m# request was successfully received, understood, and accepted.\u001b[39;00m\n\u001b[32m    633\u001b[39m \u001b[38;5;28;01mif\u001b[39;00m \u001b[38;5;129;01mnot\u001b[39;00m (\u001b[32m200\u001b[39m <= code < \u001b[32m300\u001b[39m):\n\u001b[32m--> \u001b[39m\u001b[32m634\u001b[39m     response = \u001b[38;5;28;43mself\u001b[39;49m\u001b[43m.\u001b[49m\u001b[43mparent\u001b[49m\u001b[43m.\u001b[49m\u001b[43merror\u001b[49m\u001b[43m(\u001b[49m\n\u001b[32m    635\u001b[39m \u001b[43m        \u001b[49m\u001b[33;43m'\u001b[39;49m\u001b[33;43mhttp\u001b[39;49m\u001b[33;43m'\u001b[39;49m\u001b[43m,\u001b[49m\u001b[43m \u001b[49m\u001b[43mrequest\u001b[49m\u001b[43m,\u001b[49m\u001b[43m \u001b[49m\u001b[43mresponse\u001b[49m\u001b[43m,\u001b[49m\u001b[43m \u001b[49m\u001b[43mcode\u001b[49m\u001b[43m,\u001b[49m\u001b[43m \u001b[49m\u001b[43mmsg\u001b[49m\u001b[43m,\u001b[49m\u001b[43m \u001b[49m\u001b[43mhdrs\u001b[49m\u001b[43m)\u001b[49m\n\u001b[32m    637\u001b[39m \u001b[38;5;28;01mreturn\u001b[39;00m response\n",
      "\u001b[36mFile \u001b[39m\u001b[32mC:\\Program Files\\WindowsApps\\PythonSoftwareFoundation.Python.3.11_3.11.2544.0_x64__qbz5n2kfra8p0\\Lib\\urllib\\request.py:563\u001b[39m, in \u001b[36mOpenerDirector.error\u001b[39m\u001b[34m(self, proto, *args)\u001b[39m\n\u001b[32m    561\u001b[39m \u001b[38;5;28;01mif\u001b[39;00m http_err:\n\u001b[32m    562\u001b[39m     args = (\u001b[38;5;28mdict\u001b[39m, \u001b[33m'\u001b[39m\u001b[33mdefault\u001b[39m\u001b[33m'\u001b[39m, \u001b[33m'\u001b[39m\u001b[33mhttp_error_default\u001b[39m\u001b[33m'\u001b[39m) + orig_args\n\u001b[32m--> \u001b[39m\u001b[32m563\u001b[39m     \u001b[38;5;28;01mreturn\u001b[39;00m \u001b[38;5;28;43mself\u001b[39;49m\u001b[43m.\u001b[49m\u001b[43m_call_chain\u001b[49m\u001b[43m(\u001b[49m\u001b[43m*\u001b[49m\u001b[43margs\u001b[49m\u001b[43m)\u001b[49m\n",
      "\u001b[36mFile \u001b[39m\u001b[32mC:\\Program Files\\WindowsApps\\PythonSoftwareFoundation.Python.3.11_3.11.2544.0_x64__qbz5n2kfra8p0\\Lib\\urllib\\request.py:496\u001b[39m, in \u001b[36mOpenerDirector._call_chain\u001b[39m\u001b[34m(self, chain, kind, meth_name, *args)\u001b[39m\n\u001b[32m    494\u001b[39m \u001b[38;5;28;01mfor\u001b[39;00m handler \u001b[38;5;129;01min\u001b[39;00m handlers:\n\u001b[32m    495\u001b[39m     func = \u001b[38;5;28mgetattr\u001b[39m(handler, meth_name)\n\u001b[32m--> \u001b[39m\u001b[32m496\u001b[39m     result = \u001b[43mfunc\u001b[49m\u001b[43m(\u001b[49m\u001b[43m*\u001b[49m\u001b[43margs\u001b[49m\u001b[43m)\u001b[49m\n\u001b[32m    497\u001b[39m     \u001b[38;5;28;01mif\u001b[39;00m result \u001b[38;5;129;01mis\u001b[39;00m \u001b[38;5;129;01mnot\u001b[39;00m \u001b[38;5;28;01mNone\u001b[39;00m:\n\u001b[32m    498\u001b[39m         \u001b[38;5;28;01mreturn\u001b[39;00m result\n",
      "\u001b[36mFile \u001b[39m\u001b[32mC:\\Program Files\\WindowsApps\\PythonSoftwareFoundation.Python.3.11_3.11.2544.0_x64__qbz5n2kfra8p0\\Lib\\urllib\\request.py:643\u001b[39m, in \u001b[36mHTTPDefaultErrorHandler.http_error_default\u001b[39m\u001b[34m(self, req, fp, code, msg, hdrs)\u001b[39m\n\u001b[32m    642\u001b[39m \u001b[38;5;28;01mdef\u001b[39;00m\u001b[38;5;250m \u001b[39m\u001b[34mhttp_error_default\u001b[39m(\u001b[38;5;28mself\u001b[39m, req, fp, code, msg, hdrs):\n\u001b[32m--> \u001b[39m\u001b[32m643\u001b[39m     \u001b[38;5;28;01mraise\u001b[39;00m HTTPError(req.full_url, code, msg, hdrs, fp)\n",
      "\u001b[31mHTTPError\u001b[39m: HTTP Error 403: Forbidden"
     ]
    }
   ],
   "source": [
    "tables = pd.read_html(URL)"
   ]
  },
  {
   "cell_type": "code",
   "execution_count": null,
   "id": "d0051147",
   "metadata": {},
   "outputs": [],
   "source": [
    "import requests\n",
    "from io import StringIO\n",
    "\n",
    "headers = {\n",
    "    \"User-Agent\": (\n",
    "        \"Mozilla/5.0 (Windows NT 10.0; Win64; x64) \"\n",
    "        \"AppleWebKit/537.36 (KHTML, like Gecko) \"\n",
    "        \"Chrome/120.0.0.0 Safari/537.36\"\n",
    "    )\n",
    "}\n",
    "r = requests.get(URL, headers=headers, timeout=15)\n",
    "r.raise_for_status()\n",
    "html_io = StringIO(r.text)\n",
    "tables = pd.read_html(html_io)"
   ]
  },
  {
   "cell_type": "code",
   "execution_count": null,
   "id": "601c65b3",
   "metadata": {},
   "outputs": [
    {
     "data": {
      "text/html": [
       "<div>\n",
       "<style scoped>\n",
       "    .dataframe tbody tr th:only-of-type {\n",
       "        vertical-align: middle;\n",
       "    }\n",
       "\n",
       "    .dataframe tbody tr th {\n",
       "        vertical-align: top;\n",
       "    }\n",
       "\n",
       "    .dataframe thead th {\n",
       "        text-align: right;\n",
       "    }\n",
       "</style>\n",
       "<table border=\"1\" class=\"dataframe\">\n",
       "  <thead>\n",
       "    <tr style=\"text-align: right;\">\n",
       "      <th></th>\n",
       "      <th>Event</th>\n",
       "      <th>Time</th>\n",
       "      <th>Unnamed: 2</th>\n",
       "      <th>Name</th>\n",
       "      <th>Nationality</th>\n",
       "      <th>Date</th>\n",
       "      <th>Meet</th>\n",
       "      <th>Location</th>\n",
       "      <th>Ref</th>\n",
       "    </tr>\n",
       "  </thead>\n",
       "  <tbody>\n",
       "    <tr>\n",
       "      <th>0</th>\n",
       "      <td>50m freestyle</td>\n",
       "      <td>20.91</td>\n",
       "      <td>ss</td>\n",
       "      <td>César Cielo</td>\n",
       "      <td>Brazil</td>\n",
       "      <td>18 December 2009</td>\n",
       "      <td>Brazilian Championships</td>\n",
       "      <td>São Paulo, Brazil</td>\n",
       "      <td>[9][10][11][12]</td>\n",
       "    </tr>\n",
       "    <tr>\n",
       "      <th>1</th>\n",
       "      <td>100m freestyle</td>\n",
       "      <td>46.40</td>\n",
       "      <td>NaN</td>\n",
       "      <td>Pan Zhanle</td>\n",
       "      <td>China</td>\n",
       "      <td>31 July 2024</td>\n",
       "      <td>Olympic Games</td>\n",
       "      <td>Paris, France</td>\n",
       "      <td>[13]</td>\n",
       "    </tr>\n",
       "    <tr>\n",
       "      <th>2</th>\n",
       "      <td>200m freestyle</td>\n",
       "      <td>1:42.00</td>\n",
       "      <td>ss</td>\n",
       "      <td>Paul Biedermann</td>\n",
       "      <td>Germany</td>\n",
       "      <td>28 July 2009</td>\n",
       "      <td>World Championships</td>\n",
       "      <td>Rome, Italy</td>\n",
       "      <td>[14][15][16]</td>\n",
       "    </tr>\n",
       "    <tr>\n",
       "      <th>3</th>\n",
       "      <td>400m freestyle</td>\n",
       "      <td>3:39.96</td>\n",
       "      <td>NaN</td>\n",
       "      <td>Lukas Märtens</td>\n",
       "      <td>Germany</td>\n",
       "      <td>12 April 2025</td>\n",
       "      <td>Swim Open Stockholm</td>\n",
       "      <td>Stockholm, Sweden</td>\n",
       "      <td>[17]</td>\n",
       "    </tr>\n",
       "    <tr>\n",
       "      <th>4</th>\n",
       "      <td>800m freestyle</td>\n",
       "      <td>7:32.12</td>\n",
       "      <td>ss</td>\n",
       "      <td>Zhang Lin</td>\n",
       "      <td>China</td>\n",
       "      <td>29 July 2009</td>\n",
       "      <td>World Championships</td>\n",
       "      <td>Rome, Italy</td>\n",
       "      <td>[18][19]</td>\n",
       "    </tr>\n",
       "  </tbody>\n",
       "</table>\n",
       "</div>"
      ],
      "text/plain": [
       "            Event     Time Unnamed: 2             Name Nationality  \\\n",
       "0   50m freestyle    20.91         ss      César Cielo      Brazil   \n",
       "1  100m freestyle    46.40        NaN       Pan Zhanle       China   \n",
       "2  200m freestyle  1:42.00         ss  Paul Biedermann     Germany   \n",
       "3  400m freestyle  3:39.96        NaN    Lukas Märtens     Germany   \n",
       "4  800m freestyle  7:32.12         ss        Zhang Lin       China   \n",
       "\n",
       "               Date                     Meet           Location  \\\n",
       "0  18 December 2009  Brazilian Championships  São Paulo, Brazil   \n",
       "1      31 July 2024            Olympic Games      Paris, France   \n",
       "2      28 July 2009      World Championships        Rome, Italy   \n",
       "3     12 April 2025      Swim Open Stockholm  Stockholm, Sweden   \n",
       "4      29 July 2009      World Championships        Rome, Italy   \n",
       "\n",
       "               Ref  \n",
       "0  [9][10][11][12]  \n",
       "1             [13]  \n",
       "2     [14][15][16]  \n",
       "3             [17]  \n",
       "4         [18][19]  "
      ]
     },
     "execution_count": 17,
     "metadata": {},
     "output_type": "execute_result"
    }
   ],
   "source": [
    "tables[0].head()"
   ]
  },
  {
   "cell_type": "code",
   "execution_count": null,
   "id": "15242495",
   "metadata": {},
   "outputs": [],
   "source": [
    "df = tables[0][[\"Event\",\"Time\"]]"
   ]
  },
  {
   "cell_type": "code",
   "execution_count": null,
   "id": "ded10c60",
   "metadata": {},
   "outputs": [
    {
     "data": {
      "text/html": [
       "<div>\n",
       "<style scoped>\n",
       "    .dataframe tbody tr th:only-of-type {\n",
       "        vertical-align: middle;\n",
       "    }\n",
       "\n",
       "    .dataframe tbody tr th {\n",
       "        vertical-align: top;\n",
       "    }\n",
       "\n",
       "    .dataframe thead th {\n",
       "        text-align: right;\n",
       "    }\n",
       "</style>\n",
       "<table border=\"1\" class=\"dataframe\">\n",
       "  <thead>\n",
       "    <tr style=\"text-align: right;\">\n",
       "      <th></th>\n",
       "      <th>Event</th>\n",
       "      <th>Time</th>\n",
       "    </tr>\n",
       "  </thead>\n",
       "  <tbody>\n",
       "    <tr>\n",
       "      <th>0</th>\n",
       "      <td>50m freestyle</td>\n",
       "      <td>20.91</td>\n",
       "    </tr>\n",
       "    <tr>\n",
       "      <th>1</th>\n",
       "      <td>100m freestyle</td>\n",
       "      <td>46.40</td>\n",
       "    </tr>\n",
       "    <tr>\n",
       "      <th>2</th>\n",
       "      <td>200m freestyle</td>\n",
       "      <td>1:42.00</td>\n",
       "    </tr>\n",
       "    <tr>\n",
       "      <th>3</th>\n",
       "      <td>400m freestyle</td>\n",
       "      <td>3:39.96</td>\n",
       "    </tr>\n",
       "    <tr>\n",
       "      <th>4</th>\n",
       "      <td>800m freestyle</td>\n",
       "      <td>7:32.12</td>\n",
       "    </tr>\n",
       "  </tbody>\n",
       "</table>\n",
       "</div>"
      ],
      "text/plain": [
       "            Event     Time\n",
       "0   50m freestyle    20.91\n",
       "1  100m freestyle    46.40\n",
       "2  200m freestyle  1:42.00\n",
       "3  400m freestyle  3:39.96\n",
       "4  800m freestyle  7:32.12"
      ]
     },
     "execution_count": 19,
     "metadata": {},
     "output_type": "execute_result"
    }
   ],
   "source": [
    "df.head()"
   ]
  },
  {
   "cell_type": "code",
   "execution_count": null,
   "id": "939a4514",
   "metadata": {},
   "outputs": [
    {
     "data": {
      "text/plain": [
       "{'Event': {0: '50m freestyle',\n",
       "  1: '100m freestyle',\n",
       "  2: '200m freestyle',\n",
       "  3: '400m freestyle',\n",
       "  4: '800m freestyle',\n",
       "  5: '1500m freestyle',\n",
       "  6: '50m backstroke',\n",
       "  7: '100m backstroke',\n",
       "  8: '200m backstroke',\n",
       "  9: '50m breaststroke',\n",
       "  10: '100m breaststroke',\n",
       "  11: '200m breaststroke',\n",
       "  12: '50m butterfly',\n",
       "  13: '100m butterfly',\n",
       "  14: '200m butterfly',\n",
       "  15: '200m individual medley',\n",
       "  16: '400m individual medley',\n",
       "  17: '4 × 100 m freestyle relay',\n",
       "  18: '4 × 200 m freestyle relay',\n",
       "  19: '4 × 100 m medley relay'},\n",
       " 'Time': {0: '20.91',\n",
       "  1: '46.40',\n",
       "  2: '1:42.00',\n",
       "  3: '3:39.96',\n",
       "  4: '7:32.12',\n",
       "  5: '14:30.67',\n",
       "  6: '23.55',\n",
       "  7: '51.60',\n",
       "  8: '1:51.92',\n",
       "  9: '25.95',\n",
       "  10: '56.88',\n",
       "  11: '2:05.48',\n",
       "  12: '22.27',\n",
       "  13: '49.45',\n",
       "  14: '1:50.34',\n",
       "  15: '1:52.69',\n",
       "  16: '4:02.50',\n",
       "  17: '3:08.24',\n",
       "  18: '6:58.55',\n",
       "  19: '3:26.78'}}"
      ]
     },
     "execution_count": 20,
     "metadata": {},
     "output_type": "execute_result"
    }
   ],
   "source": [
    "df.to_dict()"
   ]
  },
  {
   "cell_type": "code",
   "execution_count": null,
   "id": "a050b4f8",
   "metadata": {},
   "outputs": [
    {
     "data": {
      "text/html": [
       "<div>\n",
       "<style scoped>\n",
       "    .dataframe tbody tr th:only-of-type {\n",
       "        vertical-align: middle;\n",
       "    }\n",
       "\n",
       "    .dataframe tbody tr th {\n",
       "        vertical-align: top;\n",
       "    }\n",
       "\n",
       "    .dataframe thead th {\n",
       "        text-align: right;\n",
       "    }\n",
       "</style>\n",
       "<table border=\"1\" class=\"dataframe\">\n",
       "  <thead>\n",
       "    <tr style=\"text-align: right;\">\n",
       "      <th></th>\n",
       "      <th>Event</th>\n",
       "      <th>Time</th>\n",
       "    </tr>\n",
       "  </thead>\n",
       "  <tbody>\n",
       "    <tr>\n",
       "      <th>15</th>\n",
       "      <td>200m individual medley</td>\n",
       "      <td>1:52.69</td>\n",
       "    </tr>\n",
       "    <tr>\n",
       "      <th>16</th>\n",
       "      <td>400m individual medley</td>\n",
       "      <td>4:02.50</td>\n",
       "    </tr>\n",
       "    <tr>\n",
       "      <th>17</th>\n",
       "      <td>4 × 100 m freestyle relay</td>\n",
       "      <td>3:08.24</td>\n",
       "    </tr>\n",
       "    <tr>\n",
       "      <th>18</th>\n",
       "      <td>4 × 200 m freestyle relay</td>\n",
       "      <td>6:58.55</td>\n",
       "    </tr>\n",
       "    <tr>\n",
       "      <th>19</th>\n",
       "      <td>4 × 100 m medley relay</td>\n",
       "      <td>3:26.78</td>\n",
       "    </tr>\n",
       "  </tbody>\n",
       "</table>\n",
       "</div>"
      ],
      "text/plain": [
       "                        Event     Time\n",
       "15     200m individual medley  1:52.69\n",
       "16     400m individual medley  4:02.50\n",
       "17  4 × 100 m freestyle relay  3:08.24\n",
       "18  4 × 200 m freestyle relay  6:58.55\n",
       "19     4 × 100 m medley relay  3:26.78"
      ]
     },
     "execution_count": 21,
     "metadata": {},
     "output_type": "execute_result"
    }
   ],
   "source": [
    "df.tail()"
   ]
  },
  {
   "cell_type": "code",
   "execution_count": null,
   "id": "0630ab33",
   "metadata": {},
   "outputs": [
    {
     "data": {
      "text/html": [
       "<div>\n",
       "<style scoped>\n",
       "    .dataframe tbody tr th:only-of-type {\n",
       "        vertical-align: middle;\n",
       "    }\n",
       "\n",
       "    .dataframe tbody tr th {\n",
       "        vertical-align: top;\n",
       "    }\n",
       "\n",
       "    .dataframe thead th {\n",
       "        text-align: right;\n",
       "    }\n",
       "</style>\n",
       "<table border=\"1\" class=\"dataframe\">\n",
       "  <thead>\n",
       "    <tr style=\"text-align: right;\">\n",
       "      <th></th>\n",
       "      <th>Event</th>\n",
       "      <th>Time</th>\n",
       "    </tr>\n",
       "  </thead>\n",
       "  <tbody>\n",
       "    <tr>\n",
       "      <th>17</th>\n",
       "      <td>4 × 100 m freestyle relay</td>\n",
       "      <td>3:08.24</td>\n",
       "    </tr>\n",
       "    <tr>\n",
       "      <th>18</th>\n",
       "      <td>4 × 200 m freestyle relay</td>\n",
       "      <td>6:58.55</td>\n",
       "    </tr>\n",
       "    <tr>\n",
       "      <th>19</th>\n",
       "      <td>4 × 100 m medley relay</td>\n",
       "      <td>3:26.78</td>\n",
       "    </tr>\n",
       "  </tbody>\n",
       "</table>\n",
       "</div>"
      ],
      "text/plain": [
       "                        Event     Time\n",
       "17  4 × 100 m freestyle relay  3:08.24\n",
       "18  4 × 200 m freestyle relay  6:58.55\n",
       "19     4 × 100 m medley relay  3:26.78"
      ]
     },
     "execution_count": 22,
     "metadata": {},
     "output_type": "execute_result"
    }
   ],
   "source": [
    "df[df[\"Event\"].str.contains(\"relay\")]"
   ]
  },
  {
   "cell_type": "code",
   "execution_count": null,
   "id": "dc95f2d7",
   "metadata": {},
   "outputs": [
    {
     "data": {
      "text/html": [
       "<div>\n",
       "<style scoped>\n",
       "    .dataframe tbody tr th:only-of-type {\n",
       "        vertical-align: middle;\n",
       "    }\n",
       "\n",
       "    .dataframe tbody tr th {\n",
       "        vertical-align: top;\n",
       "    }\n",
       "\n",
       "    .dataframe thead th {\n",
       "        text-align: right;\n",
       "    }\n",
       "</style>\n",
       "<table border=\"1\" class=\"dataframe\">\n",
       "  <thead>\n",
       "    <tr style=\"text-align: right;\">\n",
       "      <th></th>\n",
       "      <th>Event</th>\n",
       "      <th>Time</th>\n",
       "    </tr>\n",
       "  </thead>\n",
       "  <tbody>\n",
       "    <tr>\n",
       "      <th>0</th>\n",
       "      <td>50m freestyle</td>\n",
       "      <td>20.91</td>\n",
       "    </tr>\n",
       "    <tr>\n",
       "      <th>1</th>\n",
       "      <td>100m freestyle</td>\n",
       "      <td>46.40</td>\n",
       "    </tr>\n",
       "    <tr>\n",
       "      <th>2</th>\n",
       "      <td>200m freestyle</td>\n",
       "      <td>1:42.00</td>\n",
       "    </tr>\n",
       "    <tr>\n",
       "      <th>3</th>\n",
       "      <td>400m freestyle</td>\n",
       "      <td>3:39.96</td>\n",
       "    </tr>\n",
       "    <tr>\n",
       "      <th>4</th>\n",
       "      <td>800m freestyle</td>\n",
       "      <td>7:32.12</td>\n",
       "    </tr>\n",
       "    <tr>\n",
       "      <th>5</th>\n",
       "      <td>1500m freestyle</td>\n",
       "      <td>14:30.67</td>\n",
       "    </tr>\n",
       "    <tr>\n",
       "      <th>6</th>\n",
       "      <td>50m backstroke</td>\n",
       "      <td>23.55</td>\n",
       "    </tr>\n",
       "    <tr>\n",
       "      <th>7</th>\n",
       "      <td>100m backstroke</td>\n",
       "      <td>51.60</td>\n",
       "    </tr>\n",
       "    <tr>\n",
       "      <th>8</th>\n",
       "      <td>200m backstroke</td>\n",
       "      <td>1:51.92</td>\n",
       "    </tr>\n",
       "    <tr>\n",
       "      <th>9</th>\n",
       "      <td>50m breaststroke</td>\n",
       "      <td>25.95</td>\n",
       "    </tr>\n",
       "    <tr>\n",
       "      <th>10</th>\n",
       "      <td>100m breaststroke</td>\n",
       "      <td>56.88</td>\n",
       "    </tr>\n",
       "    <tr>\n",
       "      <th>11</th>\n",
       "      <td>200m breaststroke</td>\n",
       "      <td>2:05.48</td>\n",
       "    </tr>\n",
       "    <tr>\n",
       "      <th>12</th>\n",
       "      <td>50m butterfly</td>\n",
       "      <td>22.27</td>\n",
       "    </tr>\n",
       "    <tr>\n",
       "      <th>13</th>\n",
       "      <td>100m butterfly</td>\n",
       "      <td>49.45</td>\n",
       "    </tr>\n",
       "    <tr>\n",
       "      <th>14</th>\n",
       "      <td>200m butterfly</td>\n",
       "      <td>1:50.34</td>\n",
       "    </tr>\n",
       "    <tr>\n",
       "      <th>15</th>\n",
       "      <td>200m individual medley</td>\n",
       "      <td>1:52.69</td>\n",
       "    </tr>\n",
       "    <tr>\n",
       "      <th>16</th>\n",
       "      <td>400m individual medley</td>\n",
       "      <td>4:02.50</td>\n",
       "    </tr>\n",
       "  </tbody>\n",
       "</table>\n",
       "</div>"
      ],
      "text/plain": [
       "                     Event      Time\n",
       "0            50m freestyle     20.91\n",
       "1           100m freestyle     46.40\n",
       "2           200m freestyle   1:42.00\n",
       "3           400m freestyle   3:39.96\n",
       "4           800m freestyle   7:32.12\n",
       "5          1500m freestyle  14:30.67\n",
       "6           50m backstroke     23.55\n",
       "7          100m backstroke     51.60\n",
       "8          200m backstroke   1:51.92\n",
       "9         50m breaststroke     25.95\n",
       "10       100m breaststroke     56.88\n",
       "11       200m breaststroke   2:05.48\n",
       "12           50m butterfly     22.27\n",
       "13          100m butterfly     49.45\n",
       "14          200m butterfly   1:50.34\n",
       "15  200m individual medley   1:52.69\n",
       "16  400m individual medley   4:02.50"
      ]
     },
     "execution_count": 24,
     "metadata": {},
     "output_type": "execute_result"
    }
   ],
   "source": [
    "df[~df[\"Event\"].str.contains(\"relay\")]"
   ]
  },
  {
   "cell_type": "code",
   "execution_count": null,
   "id": "4fe922e8",
   "metadata": {},
   "outputs": [],
   "source": [
    "df = df[~df[\"Event\"].str.contains(\"relay\")]"
   ]
  },
  {
   "cell_type": "code",
   "execution_count": null,
   "id": "d520a054",
   "metadata": {},
   "outputs": [
    {
     "data": {
      "text/plain": [
       "[{'Event': '50m freestyle', 'Time': '20.91'},\n",
       " {'Event': '100m freestyle', 'Time': '46.40'},\n",
       " {'Event': '200m freestyle', 'Time': '1:42.00'},\n",
       " {'Event': '400m freestyle', 'Time': '3:39.96'},\n",
       " {'Event': '800m freestyle', 'Time': '7:32.12'},\n",
       " {'Event': '1500m freestyle', 'Time': '14:30.67'},\n",
       " {'Event': '50m backstroke', 'Time': '23.55'},\n",
       " {'Event': '100m backstroke', 'Time': '51.60'},\n",
       " {'Event': '200m backstroke', 'Time': '1:51.92'},\n",
       " {'Event': '50m breaststroke', 'Time': '25.95'},\n",
       " {'Event': '100m breaststroke', 'Time': '56.88'},\n",
       " {'Event': '200m breaststroke', 'Time': '2:05.48'},\n",
       " {'Event': '50m butterfly', 'Time': '22.27'},\n",
       " {'Event': '100m butterfly', 'Time': '49.45'},\n",
       " {'Event': '200m butterfly', 'Time': '1:50.34'},\n",
       " {'Event': '200m individual medley', 'Time': '1:52.69'},\n",
       " {'Event': '400m individual medley', 'Time': '4:02.50'}]"
      ]
     },
     "execution_count": 27,
     "metadata": {},
     "output_type": "execute_result"
    }
   ],
   "source": [
    "df.to_dict(\"records\")"
   ]
  },
  {
   "cell_type": "code",
   "execution_count": null,
   "id": "ca771563",
   "metadata": {},
   "outputs": [
    {
     "data": {
      "text/html": [
       "<div>\n",
       "<style scoped>\n",
       "    .dataframe tbody tr th:only-of-type {\n",
       "        vertical-align: middle;\n",
       "    }\n",
       "\n",
       "    .dataframe tbody tr th {\n",
       "        vertical-align: top;\n",
       "    }\n",
       "\n",
       "    .dataframe thead th {\n",
       "        text-align: right;\n",
       "    }\n",
       "</style>\n",
       "<table border=\"1\" class=\"dataframe\">\n",
       "  <thead>\n",
       "    <tr style=\"text-align: right;\">\n",
       "      <th></th>\n",
       "      <th>Time</th>\n",
       "    </tr>\n",
       "    <tr>\n",
       "      <th>Event</th>\n",
       "      <th></th>\n",
       "    </tr>\n",
       "  </thead>\n",
       "  <tbody>\n",
       "    <tr>\n",
       "      <th>50m freestyle</th>\n",
       "      <td>20.91</td>\n",
       "    </tr>\n",
       "    <tr>\n",
       "      <th>100m freestyle</th>\n",
       "      <td>46.40</td>\n",
       "    </tr>\n",
       "    <tr>\n",
       "      <th>200m freestyle</th>\n",
       "      <td>1:42.00</td>\n",
       "    </tr>\n",
       "    <tr>\n",
       "      <th>400m freestyle</th>\n",
       "      <td>3:39.96</td>\n",
       "    </tr>\n",
       "    <tr>\n",
       "      <th>800m freestyle</th>\n",
       "      <td>7:32.12</td>\n",
       "    </tr>\n",
       "  </tbody>\n",
       "</table>\n",
       "</div>"
      ],
      "text/plain": [
       "                   Time\n",
       "Event                  \n",
       "50m freestyle     20.91\n",
       "100m freestyle    46.40\n",
       "200m freestyle  1:42.00\n",
       "400m freestyle  3:39.96\n",
       "800m freestyle  7:32.12"
      ]
     },
     "execution_count": 28,
     "metadata": {},
     "output_type": "execute_result"
    }
   ],
   "source": [
    "df = df.set_index(\"Event\")\n",
    "df.head()"
   ]
  },
  {
   "cell_type": "code",
   "execution_count": null,
   "id": "b19d3c64",
   "metadata": {},
   "outputs": [
    {
     "data": {
      "text/plain": [
       "{'Time': {'50m freestyle': '20.91',\n",
       "  '100m freestyle': '46.40',\n",
       "  '200m freestyle': '1:42.00',\n",
       "  '400m freestyle': '3:39.96',\n",
       "  '800m freestyle': '7:32.12',\n",
       "  '1500m freestyle': '14:30.67',\n",
       "  '50m backstroke': '23.55',\n",
       "  '100m backstroke': '51.60',\n",
       "  '200m backstroke': '1:51.92',\n",
       "  '50m breaststroke': '25.95',\n",
       "  '100m breaststroke': '56.88',\n",
       "  '200m breaststroke': '2:05.48',\n",
       "  '50m butterfly': '22.27',\n",
       "  '100m butterfly': '49.45',\n",
       "  '200m butterfly': '1:50.34',\n",
       "  '200m individual medley': '1:52.69',\n",
       "  '400m individual medley': '4:02.50'}}"
      ]
     },
     "execution_count": 29,
     "metadata": {},
     "output_type": "execute_result"
    }
   ],
   "source": [
    "df.to_dict()"
   ]
  },
  {
   "cell_type": "code",
   "execution_count": null,
   "id": "d85d64b8",
   "metadata": {},
   "outputs": [],
   "source": [
    "records = {}\n",
    "records[\"LC Men\"] = df.to_dict()[\"Time\"]"
   ]
  },
  {
   "cell_type": "code",
   "execution_count": null,
   "id": "4c1f30b8",
   "metadata": {},
   "outputs": [
    {
     "data": {
      "text/plain": [
       "{'LC Men': {'50m freestyle': '20.91',\n",
       "  '100m freestyle': '46.40',\n",
       "  '200m freestyle': '1:42.00',\n",
       "  '400m freestyle': '3:39.96',\n",
       "  '800m freestyle': '7:32.12',\n",
       "  '1500m freestyle': '14:30.67',\n",
       "  '50m backstroke': '23.55',\n",
       "  '100m backstroke': '51.60',\n",
       "  '200m backstroke': '1:51.92',\n",
       "  '50m breaststroke': '25.95',\n",
       "  '100m breaststroke': '56.88',\n",
       "  '200m breaststroke': '2:05.48',\n",
       "  '50m butterfly': '22.27',\n",
       "  '100m butterfly': '49.45',\n",
       "  '200m butterfly': '1:50.34',\n",
       "  '200m individual medley': '1:52.69',\n",
       "  '400m individual medley': '4:02.50'}}"
      ]
     },
     "execution_count": 31,
     "metadata": {},
     "output_type": "execute_result"
    }
   ],
   "source": [
    "records"
   ]
  },
  {
   "cell_type": "code",
   "execution_count": null,
   "id": "4174a805",
   "metadata": {},
   "outputs": [],
   "source": [
    "RECORDS = (0, 2, 4, 5)\n",
    "COURSES = (\"LC Men\", \"LC Women\", \"SC Men\", \"SC Women\")\n",
    "\n",
    "records = {}\n",
    "for table, course in zip(RECORDS, COURSES):\n",
    "    df = tables[table][[\"Event\", \"Time\"]]\n",
    "    df = df[~df[\"Event\"].str.contains(\"relay\")]\n",
    "    df = df.set_index(\"Event\")\n",
    "    records[course] = df.to_dict()[\"Time\"]"
   ]
  },
  {
   "cell_type": "code",
   "execution_count": null,
   "id": "47025638",
   "metadata": {},
   "outputs": [
    {
     "name": "stdout",
     "output_type": "stream",
     "text": [
      "Collecting DBcm\n",
      "  Downloading dbcm-3.0.5-py3-none-any.whl.metadata (2.6 kB)\n",
      "Collecting mariadb (from DBcm)\n",
      "  Downloading mariadb-1.1.14-cp311-cp311-win_amd64.whl.metadata (3.2 kB)\n",
      "Requirement already satisfied: packaging in c:\\users\\sridh\\appdata\\local\\packages\\pythonsoftwarefoundation.python.3.11_qbz5n2kfra8p0\\localcache\\local-packages\\python311\\site-packages (from mariadb->DBcm) (25.0)\n",
      "Downloading dbcm-3.0.5-py3-none-any.whl (4.4 kB)\n",
      "Downloading mariadb-1.1.14-cp311-cp311-win_amd64.whl (202 kB)\n",
      "Installing collected packages: mariadb, DBcm\n",
      "\n",
      "   ---------------------------------------- 2/2 [DBcm]\n",
      "\n",
      "Successfully installed DBcm-3.0.5 mariadb-1.1.14\n",
      "Note: you may need to restart the kernel to use updated packages.\n"
     ]
    }
   ],
   "source": [
    "%pip install DBcm --upgrade"
   ]
  },
  {
   "cell_type": "code",
   "execution_count": null,
   "id": "1585db52",
   "metadata": {},
   "outputs": [],
   "source": [
    "import DBcm"
   ]
  },
  {
   "cell_type": "code",
   "execution_count": null,
   "id": "263c7a50",
   "metadata": {},
   "outputs": [],
   "source": [
    "db_details = \"CoachDB.sqlite3\""
   ]
  },
  {
   "cell_type": "code",
   "execution_count": null,
   "id": "b4eea78f",
   "metadata": {},
   "outputs": [],
   "source": [
    "with DBcm.UseDatabase(db_details) as db:\n",
    "    db.execute(\"pragma table_list\")\n",
    "    results = db.fetchall()"
   ]
  },
  {
   "cell_type": "code",
   "execution_count": null,
   "id": "597ae8fb",
   "metadata": {},
   "outputs": [
    {
     "data": {
      "text/plain": [
       "[('main', 'sqlite_schema', 'table', 5, 0, 0),\n",
       " ('temp', 'sqlite_temp_schema', 'table', 5, 0, 0)]"
      ]
     },
     "execution_count": 37,
     "metadata": {},
     "output_type": "execute_result"
    }
   ],
   "source": [
    "results"
   ]
  },
  {
   "cell_type": "code",
   "execution_count": null,
   "id": "0584e36e",
   "metadata": {},
   "outputs": [
    {
     "data": {
      "text/plain": [
       "[('03:38:34',)]"
      ]
     },
     "execution_count": 39,
     "metadata": {},
     "output_type": "execute_result"
    }
   ],
   "source": [
    "SQL = \"\"\"\n",
    "    select time()\n",
    "\"\"\"\n",
    "with DBcm.UseDatabase(db_details) as db:\n",
    "    db.execute(SQL)\n",
    "    results = db.fetchall()\n",
    "results"
   ]
  },
  {
   "cell_type": "code",
   "execution_count": null,
   "id": "49e53964",
   "metadata": {},
   "outputs": [],
   "source": [
    "SQL = \"\"\"\n",
    "    create table if not exists swimmers (\n",
    "        id integer not null primary key autoincrement,\n",
    "        name varchar(32) not null,\n",
    "        age integer not null\n",
    "    )    \n",
    "\"\"\"\n",
    "with DBcm.UseDatabase(db_details) as db:\n",
    "    db.execute(SQL)"
   ]
  },
  {
   "cell_type": "code",
   "execution_count": null,
   "id": "cd333f54",
   "metadata": {},
   "outputs": [
    {
     "data": {
      "text/plain": [
       "[('main', 'sqlite_sequence', 'table', 2, 0, 0),\n",
       " ('main', 'swimmers', 'table', 3, 0, 0),\n",
       " ('main', 'sqlite_schema', 'table', 5, 0, 0),\n",
       " ('temp', 'sqlite_temp_schema', 'table', 5, 0, 0)]"
      ]
     },
     "execution_count": 41,
     "metadata": {},
     "output_type": "execute_result"
    }
   ],
   "source": [
    "with DBcm.UseDatabase(db_details) as db:\n",
    "    db.execute(\"pragma table_list\")\n",
    "    results = db.fetchall()\n",
    "results"
   ]
  },
  {
   "cell_type": "code",
   "execution_count": null,
   "id": "5bf2d095",
   "metadata": {},
   "outputs": [],
   "source": [
    "with DBcm.UseDatabase(db_details) as db:\n",
    "    SQL_1 = \"\"\"\n",
    "        create table if not exists events (\n",
    "            id integer not null primary key autoincrement,\n",
    "            distance varchar(16) not null,\n",
    "            stroke varchar(16) not null\n",
    "        )\n",
    "    \"\"\"\n",
    "    SQL_2 = \"\"\"\n",
    "        create table if not exists times (\n",
    "            swimmer_id integer not null,  \n",
    "            event_id integer not null,\n",
    "            time varchar(16) not null,\n",
    "            ts timestamp default current_timestamp\n",
    "        )\n",
    "    \"\"\"\n",
    "    db.execute(SQL_1)\n",
    "    db.execute(SQL_2)"
   ]
  },
  {
   "cell_type": "code",
   "execution_count": null,
   "id": "1a547fac",
   "metadata": {},
   "outputs": [
    {
     "data": {
      "text/plain": [
       "[('main', 'times', 'table', 4, 0, 0),\n",
       " ('main', 'events', 'table', 3, 0, 0),\n",
       " ('main', 'sqlite_sequence', 'table', 2, 0, 0),\n",
       " ('main', 'swimmers', 'table', 3, 0, 0),\n",
       " ('main', 'sqlite_schema', 'table', 5, 0, 0),\n",
       " ('temp', 'sqlite_temp_schema', 'table', 5, 0, 0)]"
      ]
     },
     "execution_count": 43,
     "metadata": {},
     "output_type": "execute_result"
    }
   ],
   "source": [
    "with DBcm.UseDatabase(db_details) as db:\n",
    "    db.execute(\"pragma table_list\")\n",
    "    results = db.fetchall()\n",
    "results"
   ]
  },
  {
   "cell_type": "code",
   "execution_count": null,
   "id": "c7c6ad60",
   "metadata": {},
   "outputs": [],
   "source": [
    "fn = 'Abi-10-100m-Back.txt'\n",
    "name, age, distance, stroke = fn.removesuffix(\".txt\").split(\"-\")"
   ]
  },
  {
   "cell_type": "code",
   "execution_count": null,
   "id": "48d545c1",
   "metadata": {},
   "outputs": [
    {
     "data": {
      "text/plain": [
       "('Abi', '10')"
      ]
     },
     "execution_count": 45,
     "metadata": {},
     "output_type": "execute_result"
    }
   ],
   "source": [
    "name, age"
   ]
  },
  {
   "cell_type": "code",
   "execution_count": null,
   "id": "95784bae",
   "metadata": {},
   "outputs": [
    {
     "data": {
      "text/plain": [
       "('100m', 'Back')"
      ]
     },
     "execution_count": 46,
     "metadata": {},
     "output_type": "execute_result"
    }
   ],
   "source": [
    "distance, stroke"
   ]
  },
  {
   "cell_type": "code",
   "execution_count": null,
   "id": "b5f4e6a5",
   "metadata": {},
   "outputs": [],
   "source": [
    "import os\n",
    "\n",
    "FOLDER = \"swimdata/\"\n",
    "\n",
    "files = os.listdir(FOLDER)\n",
    "files.remove(\".DS_Store\")"
   ]
  },
  {
   "cell_type": "code",
   "execution_count": null,
   "id": "2c47e34f",
   "metadata": {},
   "outputs": [
    {
     "name": "stdout",
     "output_type": "stream",
     "text": [
      "Abi-10-100m-Back.txt\n"
     ]
    },
    {
     "data": {
      "text/plain": [
       "('Abi', '10')"
      ]
     },
     "execution_count": 48,
     "metadata": {},
     "output_type": "execute_result"
    }
   ],
   "source": [
    "first = files[0]\n",
    "print(first)\n",
    "name, age, _, _ = first.removesuffix(\".txt\").split(\"-\")\n",
    "name, age"
   ]
  },
  {
   "cell_type": "code",
   "execution_count": null,
   "id": "e43f017d",
   "metadata": {},
   "outputs": [
    {
     "name": "stdout",
     "output_type": "stream",
     "text": [
      "\n",
      "    insert into swimmers\n",
      "    (name, age)\n",
      "    values\n",
      "    (\"Abi\", 10)\n",
      "\n"
     ]
    }
   ],
   "source": [
    "# Don't be tempted to do this (i.e., don't use an f-string here).\n",
    "\n",
    "SQL = f\"\"\"\n",
    "    insert into swimmers\n",
    "    (name, age)\n",
    "    values\n",
    "    (\"{name}\", {age})\n",
    "\"\"\"\n",
    "print(SQL)"
   ]
  },
  {
   "cell_type": "code",
   "execution_count": null,
   "id": "cac1ce68",
   "metadata": {},
   "outputs": [],
   "source": [
    "import DBcm\n",
    "\n",
    "db_details = \"CoachDB.sqlite3\""
   ]
  },
  {
   "cell_type": "code",
   "execution_count": null,
   "id": "d923e5a9",
   "metadata": {},
   "outputs": [
    {
     "name": "stdout",
     "output_type": "stream",
     "text": [
      "\n",
      "    insert into swimmers\n",
      "    (name, age)\n",
      "    values\n",
      "    (?, ?)\n",
      "\n"
     ]
    }
   ],
   "source": [
    "# Do this instead... use SQL Injection Attack safeguards with placeholders.\n",
    "\n",
    "SQL_INSERT = \"\"\"\n",
    "    insert into swimmers\n",
    "    (name, age)\n",
    "    values\n",
    "    (?, ?)\n",
    "\"\"\"\n",
    "print(SQL_INSERT)"
   ]
  },
  {
   "cell_type": "code",
   "execution_count": null,
   "id": "65e2fc94",
   "metadata": {},
   "outputs": [],
   "source": [
    "with DBcm.UseDatabase(db_details) as db:\n",
    "    db.execute(SQL_INSERT, (name, age,))"
   ]
  },
  {
   "cell_type": "code",
   "execution_count": null,
   "id": "21758e6b",
   "metadata": {},
   "outputs": [
    {
     "data": {
      "text/plain": [
       "[(2, 'Abi', 10)]"
      ]
     },
     "execution_count": 57,
     "metadata": {},
     "output_type": "execute_result"
    }
   ],
   "source": [
    "SQL = \"\"\"select * from swimmers\"\"\"\n",
    "with DBcm.UseDatabase(db_details) as db:\n",
    "    db.execute(SQL)\n",
    "    results = db.fetchall()\n",
    "results"
   ]
  },
  {
   "cell_type": "code",
   "execution_count": null,
   "id": "39cf6151",
   "metadata": {},
   "outputs": [],
   "source": [
    "SQL = \"\"\"delete from swimmers\"\"\"\n",
    "with DBcm.UseDatabase(db_details) as db:\n",
    "    db.execute(SQL)"
   ]
  },
  {
   "cell_type": "code",
   "execution_count": null,
   "id": "e5d34f5e",
   "metadata": {},
   "outputs": [
    {
     "data": {
      "text/plain": [
       "[]"
      ]
     },
     "execution_count": 59,
     "metadata": {},
     "output_type": "execute_result"
    }
   ],
   "source": [
    "SQL = \"\"\"select * from swimmers\"\"\"\n",
    "with DBcm.UseDatabase(db_details) as db:\n",
    "    db.execute(SQL)\n",
    "    results = db.fetchall()\n",
    "results"
   ]
  },
  {
   "cell_type": "code",
   "execution_count": null,
   "id": "a35387ff",
   "metadata": {},
   "outputs": [],
   "source": [
    "SQL = \"\"\"delete from swimmers\"\"\"\n",
    "with DBcm.UseDatabase(db_details) as db:\n",
    "    db.execute(SQL)"
   ]
  },
  {
   "cell_type": "code",
   "execution_count": null,
   "id": "4452ec90",
   "metadata": {},
   "outputs": [],
   "source": [
    "import os\n",
    "\n",
    "import DBcm\n",
    "\n",
    "db_details = \"CoachDB.sqlite3\"\n",
    "\n",
    "FOLDER = \"swimdata/\"\n",
    "\n",
    "files = os.listdir(FOLDER)\n",
    "files.remove(\".DS_Store\")\n",
    "\n",
    "SQL_INSERT = \"\"\"\n",
    "    insert into swimmers\n",
    "    (name, age)\n",
    "    values\n",
    "    (?, ?)\n",
    "\"\"\"\n",
    "\n",
    "with DBcm.UseDatabase(db_details) as db:\n",
    "    for fn in files:\n",
    "        name, age, _, _ = fn.removesuffix(\".txt\").split(\"-\")    \n",
    "        db.execute(SQL_INSERT, (name, age, ))"
   ]
  },
  {
   "cell_type": "code",
   "execution_count": null,
   "id": "d3d6f4fb",
   "metadata": {},
   "outputs": [],
   "source": [
    "SQL = \"\"\"delete from swimmers\"\"\"\n",
    "with DBcm.UseDatabase(db_details) as db:\n",
    "    db.execute(SQL)"
   ]
  },
  {
   "cell_type": "code",
   "execution_count": null,
   "id": "522ccd5a",
   "metadata": {},
   "outputs": [],
   "source": [
    "import os\n",
    "\n",
    "import DBcm\n",
    "\n",
    "db_details = \"CoachDB.sqlite3\"\n",
    "\n",
    "FOLDER = \"swimdata/\"\n",
    "\n",
    "files = os.listdir(FOLDER)\n",
    "files.remove(\".DS_Store\")\n",
    "\n",
    "SQL_SELECT = \"\"\"\n",
    "    select * from swimmers\n",
    "    where name = ? and age = ?\n",
    "\"\"\"\n",
    "\n",
    "SQL_INSERT = \"\"\"\n",
    "    insert into swimmers\n",
    "    (name, age)\n",
    "    values\n",
    "    (?, ?)\n",
    "\"\"\"\n",
    "\n",
    "with DBcm.UseDatabase(db_details) as db:\n",
    "    for fn in files:\n",
    "        name, age, _, _ = fn.removesuffix(\".txt\").split(\"-\")\n",
    "        db.execute(SQL_SELECT, (name, age,))\n",
    "        if db.fetchall():\n",
    "            continue\n",
    "        db.execute(SQL_INSERT, (name, age,))"
   ]
  },
  {
   "cell_type": "code",
   "execution_count": null,
   "id": "5feccf86",
   "metadata": {},
   "outputs": [],
   "source": [
    "import os\n",
    "\n",
    "import DBcm\n",
    "\n",
    "db_details = \"CoachDB.sqlite3\"\n",
    "\n",
    "FOLDER = \"swimdata/\"\n",
    "\n",
    "files = os.listdir(FOLDER)\n",
    "files.remove(\".DS_Store\")\n",
    "\n",
    "SQL_SELECT = \"\"\"\n",
    "    select * from events\n",
    "    where distance = ? and stroke = ?\n",
    "\"\"\"\n",
    "\n",
    "SQL_INSERT = \"\"\"\n",
    "    insert into events\n",
    "    (distance, stroke)\n",
    "    values\n",
    "    (?, ?)\n",
    "\"\"\"\n",
    "\n",
    "with DBcm.UseDatabase(db_details) as db:\n",
    "    for fn in files:\n",
    "        _, _, distance, stroke = fn.removesuffix(\".txt\").split(\"-\")\n",
    "        db.execute(SQL_SELECT, (distance, stroke,))\n",
    "        if db.fetchall():\n",
    "            continue\n",
    "        db.execute(SQL_INSERT, (distance, stroke,))"
   ]
  },
  {
   "cell_type": "code",
   "execution_count": null,
   "id": "812b1874",
   "metadata": {},
   "outputs": [],
   "source": [
    "import os\n",
    "\n",
    "FOLDER = \"swimdata/\"\n",
    "\n",
    "files = os.listdir(FOLDER)\n",
    "files.remove(\".DS_Store\")"
   ]
  },
  {
   "cell_type": "code",
   "execution_count": null,
   "id": "6d564beb",
   "metadata": {},
   "outputs": [],
   "source": [
    "import DBcm\n",
    "\n",
    "db_details = \"CoachDB.sqlite3\""
   ]
  },
  {
   "cell_type": "code",
   "execution_count": null,
   "id": "e012cf08",
   "metadata": {},
   "outputs": [
    {
     "data": {
      "text/plain": [
       "[(63, 'Abi', 10),\n",
       " (64, 'Ali', 12),\n",
       " (65, 'Alison', 14),\n",
       " (66, 'Aurora', 13),\n",
       " (67, 'Bill', 18),\n",
       " (68, 'Blake', 15),\n",
       " (69, 'Calvin', 9),\n",
       " (70, 'Carl', 15),\n",
       " (71, 'Chris', 17),\n",
       " (72, 'Darius', 13),\n",
       " (73, 'Dave', 17),\n",
       " (74, 'Elba', 14),\n",
       " (75, 'Emma', 13),\n",
       " (76, 'Erika', 15),\n",
       " (77, 'Hannah', 13),\n",
       " (78, 'Katie', 9),\n",
       " (79, 'Lizzie', 14),\n",
       " (80, 'Maria', 9),\n",
       " (81, 'Mike', 15),\n",
       " (82, 'Owen', 15),\n",
       " (83, 'Ruth', 13),\n",
       " (84, 'Tasmin', 15)]"
      ]
     },
     "execution_count": 67,
     "metadata": {},
     "output_type": "execute_result"
    }
   ],
   "source": [
    "SQL = \"\"\"select * from swimmers\"\"\"\n",
    "with DBcm.UseDatabase(db_details) as db:\n",
    "    db.execute(SQL)\n",
    "    results = db.fetchall()\n",
    "results"
   ]
  },
  {
   "cell_type": "code",
   "execution_count": null,
   "id": "b353225b",
   "metadata": {},
   "outputs": [
    {
     "data": {
      "text/plain": [
       "[(1, '100m', 'Back'),\n",
       " (2, '100m', 'Breast'),\n",
       " (3, '50m', 'Back'),\n",
       " (4, '50m', 'Breast'),\n",
       " (5, '50m', 'Free'),\n",
       " (6, '100m', 'Free'),\n",
       " (7, '200m', 'Back'),\n",
       " (8, '100m', 'Fly'),\n",
       " (9, '50m', 'Fly'),\n",
       " (10, '200m', 'IM'),\n",
       " (11, '200m', 'Breast'),\n",
       " (12, '200m', 'Free'),\n",
       " (13, '400m', 'Free')]"
      ]
     },
     "execution_count": 68,
     "metadata": {},
     "output_type": "execute_result"
    }
   ],
   "source": [
    "SQL = \"\"\"select * from events\"\"\"\n",
    "with DBcm.UseDatabase(db_details) as db:\n",
    "    db.execute(SQL)\n",
    "    results = db.fetchall()\n",
    "results"
   ]
  },
  {
   "cell_type": "code",
   "execution_count": null,
   "id": "47a7d0c0",
   "metadata": {},
   "outputs": [
    {
     "data": {
      "text/plain": [
       "[(0, 'swimmer_id', 'INTEGER', 1, None, 0),\n",
       " (1, 'event_id', 'INTEGER', 1, None, 0),\n",
       " (2, 'time', 'varchar(16)', 1, None, 0),\n",
       " (3, 'ts', 'timestamp', 0, 'current_timestamp', 0)]"
      ]
     },
     "execution_count": 69,
     "metadata": {},
     "output_type": "execute_result"
    }
   ],
   "source": [
    "with DBcm.UseDatabase(db_details) as db:\n",
    "    db.execute(\"pragma table_info(times)\")\n",
    "    results = db.fetchall()\n",
    "results"
   ]
  },
  {
   "cell_type": "code",
   "execution_count": null,
   "id": "bd410607",
   "metadata": {},
   "outputs": [],
   "source": [
    "SQL_GET_SWIMMER = \"\"\"\n",
    "    select id from swimmers\n",
    "    where name = ? and age = ?\n",
    "\"\"\""
   ]
  },
  {
   "cell_type": "code",
   "execution_count": null,
   "id": "a8094fb8",
   "metadata": {},
   "outputs": [],
   "source": [
    "SQL_GET_EVENT = \"\"\"\n",
    "    select id from events\n",
    "    where distance = ? and stroke = ?\n",
    "\"\"\""
   ]
  },
  {
   "cell_type": "code",
   "execution_count": null,
   "id": "8bcc1d32",
   "metadata": {},
   "outputs": [],
   "source": [
    "SQL_INSERT = \"\"\"\n",
    "    insert into times\n",
    "    (swimmer_id, event_id, time)\n",
    "    values\n",
    "    (?, ?, ?)\n",
    "\"\"\""
   ]
  },
  {
   "cell_type": "code",
   "execution_count": null,
   "id": "fdffbc1f",
   "metadata": {},
   "outputs": [
    {
     "data": {
      "text/plain": [
       "[]"
      ]
     },
     "execution_count": 73,
     "metadata": {},
     "output_type": "execute_result"
    }
   ],
   "source": [
    "SQL = \"\"\"select * from times\"\"\"\n",
    "with DBcm.UseDatabase(db_details) as db:\n",
    "    db.execute(SQL)\n",
    "    results = db.fetchall()\n",
    "results"
   ]
  },
  {
   "cell_type": "code",
   "execution_count": null,
   "id": "62e745c4",
   "metadata": {},
   "outputs": [],
   "source": [
    "SQL = \"\"\"delete from times\"\"\"\n",
    "with DBcm.UseDatabase(db_details) as db:\n",
    "    db.execute(SQL)"
   ]
  },
  {
   "cell_type": "code",
   "execution_count": null,
   "id": "ac6614ce",
   "metadata": {},
   "outputs": [],
   "source": [
    "with DBcm.UseDatabase(db_details) as db:\n",
    "    for fn in files:\n",
    "        name, age, distance, stroke = fn.removesuffix(\".txt\").split(\"-\")\n",
    "        db.execute(SQL_GET_SWIMMER, (name, age,))\n",
    "        s_id = db.fetchone()[0]\n",
    "        db.execute(SQL_GET_EVENT, (distance, stroke,))\n",
    "        e_id = db.fetchone()[0]\n",
    "        with open(FOLDER+fn) as sf:\n",
    "            times = sf.read().strip().split(\",\")\n",
    "            for t in times:\n",
    "                db.execute(SQL_INSERT, (s_id, e_id, t,))"
   ]
  },
  {
   "cell_type": "code",
   "execution_count": null,
   "id": "7b49bf1c",
   "metadata": {},
   "outputs": [
    {
     "data": {
      "text/plain": [
       "338"
      ]
     },
     "execution_count": 76,
     "metadata": {},
     "output_type": "execute_result"
    }
   ],
   "source": [
    "SQL = \"\"\"select count(*) from times\"\"\"\n",
    "with DBcm.UseDatabase(db_details) as db:\n",
    "    db.execute(SQL)\n",
    "    results = db.fetchone()[0]\n",
    "results"
   ]
  },
  {
   "cell_type": "code",
   "execution_count": null,
   "id": "364660b9",
   "metadata": {},
   "outputs": [
    {
     "data": {
      "text/plain": [
       "[(63, 1, '1:31.59', '2025-10-29 03:49:09'),\n",
       " (63, 1, '1:26.55', '2025-10-29 03:49:09'),\n",
       " (63, 1, '1:28.75', '2025-10-29 03:49:09'),\n",
       " (63, 1, '1:39.79', '2025-10-29 03:49:09'),\n",
       " (63, 1, '1:32.37', '2025-10-29 03:49:09'),\n",
       " (63, 2, '1:42.97', '2025-10-29 03:49:09'),\n",
       " (63, 2, '1:43.31', '2025-10-29 03:49:09'),\n",
       " (63, 2, '1:43.50', '2025-10-29 03:49:09'),\n",
       " (63, 2, '1:40.34', '2025-10-29 03:49:09'),\n",
       " (63, 3, '41.50', '2025-10-29 03:49:09')]"
      ]
     },
     "execution_count": 77,
     "metadata": {},
     "output_type": "execute_result"
    }
   ],
   "source": [
    "SQL = \"\"\"select * from times limit 10\"\"\"\n",
    "with DBcm.UseDatabase(db_details) as db:\n",
    "    db.execute(SQL)\n",
    "    results = db.fetchall()\n",
    "results"
   ]
  },
  {
   "cell_type": "code",
   "execution_count": 49,
   "id": "c2fe4744",
   "metadata": {},
   "outputs": [],
   "source": [
    "SQL_SESSIONS = \"\"\"\n",
    "    select distinct ts from times\n",
    "\"\"\"\n",
    "\n",
    "\n",
    "SQL_SWIMMERS_BY_SESSION = \"\"\"\n",
    "    select distinct swimmers.name, swimmers.age  \n",
    "    from times, swimmers \n",
    "    where date(times.ts) = ? and     \n",
    "    times.swimmer_id = swimmers.id \n",
    "    order by name\n",
    "\"\"\"\n",
    "\n",
    "\n",
    "SQL_SWIMMERS_EVENTS_BY_SESSION = \"\"\"  \n",
    "    select distinct events.distance, events.stroke\n",
    "    from swimmers, events, times\n",
    "    where times.swimmer_id = swimmers.id and\n",
    "    times.event_id = events.id and\n",
    "    (swimmers.name = ? and swimmers.age = ?) and\n",
    "    date(times.ts) = ?\n",
    "\"\"\"\n",
    "\n",
    "\n",
    "SQL_CHART_DATA_BY_SWIMMER_EVENT_SESSION = \"\"\"\n",
    "    select times.time\n",
    "    from swimmers, events, times\n",
    "    where (swimmers.name = ? and swimmers.age = ?) and\n",
    "    (events.distance = ? and events.stroke = ?) and \n",
    "    swimmers.id = times.swimmer_id and\n",
    "    events.id = times.event_id and\n",
    "    date(times.ts) = ?\n",
    "\"\"\"\n"
   ]
  },
  {
   "cell_type": "code",
   "execution_count": null,
   "id": "49b1d41f",
   "metadata": {},
   "outputs": [
    {
     "name": "stdout",
     "output_type": "stream",
     "text": [
      "select tax_percent_str from Tax where province = ?\n"
     ]
    },
    {
     "data": {
      "text/plain": [
       "'5%'"
      ]
     },
     "execution_count": 13,
     "metadata": {},
     "output_type": "execute_result"
    }
   ],
   "source": [
    "import DBcm\n",
    "db_details = \"tax_rates.sqlite3\"\n",
    "state = 'Alberta'\n",
    "SQL = \"\"\"select tax_percent_str from Tax where province = ?\"\"\"\n",
    "\n",
    "print(SQL)\n",
    "with DBcm.UseDatabase(db_details) as db:\n",
    "    db.execute(SQL, (state,))  # Pass the parameter safely using a tuple\n",
    "    result = db.fetchone()[0]  # Get just the value\n",
    "result\n"
   ]
  },
  {
   "cell_type": "code",
   "execution_count": 51,
   "id": "42d0f02f",
   "metadata": {},
   "outputs": [
    {
     "name": "stdout",
     "output_type": "stream",
     "text": [
      "\n",
      "    select distinct ts from times\n",
      "\n"
     ]
    }
   ],
   "source": [
    "import queries\n",
    "print(SQL_SESSIONS)"
   ]
  },
  {
   "cell_type": "code",
   "execution_count": 52,
   "id": "c1d093f1",
   "metadata": {},
   "outputs": [
    {
     "data": {
      "text/plain": [
       "['SQL_CHART_DATA_BY_SWIMMER_EVENT_SESSION',\n",
       " 'SQL_SESSIONS',\n",
       " 'SQL_SWIMMERS_BY_SESSION',\n",
       " 'SQL_SWIMMERS_EVENTS_BY_SESSION']"
      ]
     },
     "execution_count": 52,
     "metadata": {},
     "output_type": "execute_result"
    }
   ],
   "source": [
    "statements = []\n",
    "for sql in dir(queries):\n",
    "    if not sql.startswith(\"__\"):\n",
    "        statements.append(sql)\n",
    "statements\n",
    "\n"
   ]
  },
  {
   "cell_type": "code",
   "execution_count": 53,
   "id": "4a24eb37",
   "metadata": {},
   "outputs": [
    {
     "data": {
      "text/plain": [
       "['SQL_CHART_DATA_BY_SWIMMER_EVENT_SESSION',\n",
       " 'SQL_SESSIONS',\n",
       " 'SQL_SWIMMERS_BY_SESSION',\n",
       " 'SQL_SWIMMERS_EVENTS_BY_SESSION']"
      ]
     },
     "execution_count": 53,
     "metadata": {},
     "output_type": "execute_result"
    }
   ],
   "source": [
    "[sql for sql in dir(queries) if not sql.startswith(\"__\")]"
   ]
  },
  {
   "cell_type": "code",
   "execution_count": 57,
   "id": "1f4a446b",
   "metadata": {},
   "outputs": [
    {
     "name": "stdout",
     "output_type": "stream",
     "text": [
      "Yes\n"
     ]
    }
   ],
   "source": [
    "sql2 = \"___\"\n",
    "if sql2.startswith(\"__\"):\n",
    "    print ('Yes')\n"
   ]
  },
  {
   "cell_type": "code",
   "execution_count": 59,
   "id": "c427bc88",
   "metadata": {},
   "outputs": [
    {
     "data": {
      "text/plain": [
       "[('2025-10-29 03:49:09',)]"
      ]
     },
     "execution_count": 59,
     "metadata": {},
     "output_type": "execute_result"
    }
   ],
   "source": [
    "import DBcm\n",
    "db_details = \"CoachDB.sqlite3\"\n",
    "with DBcm.UseDatabase(db_details) as db:\n",
    "    db.execute(SQL_SESSIONS)\n",
    "    results = db.fetchall()\n",
    "results"
   ]
  },
  {
   "cell_type": "code",
   "execution_count": 60,
   "id": "71779fcb",
   "metadata": {},
   "outputs": [
    {
     "name": "stderr",
     "output_type": "stream",
     "text": [
      "'py' is not recognized as an internal or external command,\n",
      "operable program or batch file.\n"
     ]
    }
   ],
   "source": [
    "!py -3 update_tables.py"
   ]
  },
  {
   "cell_type": "code",
   "execution_count": null,
   "id": "9ed5ca7e",
   "metadata": {},
   "outputs": [],
   "source": []
  }
 ],
 "metadata": {
  "kernelspec": {
   "display_name": "Python 3",
   "language": "python",
   "name": "python3"
  },
  "language_info": {
   "codemirror_mode": {
    "name": "ipython",
    "version": 3
   },
   "file_extension": ".py",
   "mimetype": "text/x-python",
   "name": "python",
   "nbconvert_exporter": "python",
   "pygments_lexer": "ipython3",
   "version": "3.11.9"
  }
 },
 "nbformat": 4,
 "nbformat_minor": 5
}
