{
 "cells": [
  {
   "cell_type": "code",
   "execution_count": 19,
   "id": "e9b1f8a1",
   "metadata": {},
   "outputs": [],
   "source": [
    "FN = \"Darius-13-100m-Fly.txt\"\n",
    "FOLDER = \"swimdata/\""
   ]
  },
  {
   "cell_type": "code",
   "execution_count": 20,
   "id": "d59f0449",
   "metadata": {},
   "outputs": [],
   "source": [
    "with open(FOLDER+FN) as df:\n",
    "    data = df.readlines()"
   ]
  },
  {
   "cell_type": "code",
   "execution_count": 21,
   "id": "dfd2c660",
   "metadata": {},
   "outputs": [],
   "source": [
    "with open(FOLDER+FN) as df:\n",
    "    data = df.readlines()"
   ]
  },
  {
   "cell_type": "code",
   "execution_count": 22,
   "id": "d2ccf758",
   "metadata": {},
   "outputs": [
    {
     "data": {
      "text/plain": [
       "list"
      ]
     },
     "execution_count": 22,
     "metadata": {},
     "output_type": "execute_result"
    }
   ],
   "source": [
    "type(df)\n",
    "type(data)"
   ]
  },
  {
   "cell_type": "code",
   "execution_count": 23,
   "id": "767113e6",
   "metadata": {},
   "outputs": [
    {
     "data": {
      "text/plain": [
       "list"
      ]
     },
     "execution_count": 23,
     "metadata": {},
     "output_type": "execute_result"
    }
   ],
   "source": [
    "type(data)"
   ]
  },
  {
   "cell_type": "code",
   "execution_count": 24,
   "id": "545c1dee",
   "metadata": {},
   "outputs": [
    {
     "data": {
      "text/plain": [
       "['1:27.95,1:21.07,1:30.96,1:23.22,1:27.95,1:28.30\\n']"
      ]
     },
     "execution_count": 24,
     "metadata": {},
     "output_type": "execute_result"
    }
   ],
   "source": [
    "data"
   ]
  },
  {
   "cell_type": "code",
   "execution_count": 25,
   "id": "358566d7",
   "metadata": {},
   "outputs": [
    {
     "data": {
      "text/plain": [
       "'1:27.95,1:21.07,1:30.96,1:23.22,1:27.95,1:28.30\\n'"
      ]
     },
     "execution_count": 25,
     "metadata": {},
     "output_type": "execute_result"
    }
   ],
   "source": [
    "data[0]"
   ]
  },
  {
   "cell_type": "code",
   "execution_count": 26,
   "id": "e9ebefba",
   "metadata": {},
   "outputs": [
    {
     "data": {
      "text/plain": [
       "str"
      ]
     },
     "execution_count": 26,
     "metadata": {},
     "output_type": "execute_result"
    }
   ],
   "source": [
    "type(data[0])"
   ]
  },
  {
   "cell_type": "code",
   "execution_count": 27,
   "id": "dc1c75ed",
   "metadata": {},
   "outputs": [
    {
     "data": {
      "text/plain": [
       "['1:27.95', '1:21.07', '1:30.96', '1:23.22', '1:27.95', '1:28.30\\n']"
      ]
     },
     "execution_count": 27,
     "metadata": {},
     "output_type": "execute_result"
    }
   ],
   "source": [
    "data[0].split(',')"
   ]
  },
  {
   "cell_type": "code",
   "execution_count": 28,
   "id": "3a87f3d2",
   "metadata": {},
   "outputs": [
    {
     "data": {
      "text/plain": [
       "'1:27.95,1:21.07,1:30.96,1:23.22,1:27.95,1:28.30'"
      ]
     },
     "execution_count": 28,
     "metadata": {},
     "output_type": "execute_result"
    }
   ],
   "source": [
    "data[0].strip()"
   ]
  },
  {
   "cell_type": "code",
   "execution_count": 29,
   "id": "22894749",
   "metadata": {},
   "outputs": [
    {
     "data": {
      "text/plain": [
       "['1:27.95', '1:21.07', '1:30.96', '1:23.22', '1:27.95', '1:28.30']"
      ]
     },
     "execution_count": 29,
     "metadata": {},
     "output_type": "execute_result"
    }
   ],
   "source": [
    "data[0].strip().split(',')"
   ]
  },
  {
   "cell_type": "code",
   "execution_count": 30,
   "id": "f9dd0048",
   "metadata": {},
   "outputs": [
    {
     "name": "stdout",
     "output_type": "stream",
     "text": [
      "1:27.95\n"
     ]
    }
   ],
   "source": [
    "times = data[0].strip().split(',')\n",
    "print(times[0])"
   ]
  },
  {
   "cell_type": "code",
   "execution_count": 31,
   "id": "525c0187",
   "metadata": {},
   "outputs": [
    {
     "data": {
      "text/plain": [
       "('1', '27.95')"
      ]
     },
     "execution_count": 31,
     "metadata": {},
     "output_type": "execute_result"
    }
   ],
   "source": [
    "first = times[0]\n",
    "minutes,rest = first.split(':')\n",
    "minutes,rest"
   ]
  },
  {
   "cell_type": "code",
   "execution_count": 32,
   "id": "89087572",
   "metadata": {},
   "outputs": [
    {
     "data": {
      "text/plain": [
       "('27', '95')"
      ]
     },
     "execution_count": 32,
     "metadata": {},
     "output_type": "execute_result"
    }
   ],
   "source": [
    "seconds,hundredths = rest.split('.')\n",
    "seconds,hundredths"
   ]
  },
  {
   "cell_type": "code",
   "execution_count": 33,
   "id": "f932e017",
   "metadata": {},
   "outputs": [
    {
     "data": {
      "text/plain": [
       "8795"
      ]
     },
     "execution_count": 33,
     "metadata": {},
     "output_type": "execute_result"
    }
   ],
   "source": [
    "converted_time = int(minutes)*60*100 + int(seconds)*100 + int(hundredths)\t\n",
    "converted_time\n",
    "\n",
    "#function"
   ]
  },
  {
   "cell_type": "code",
   "execution_count": 34,
   "id": "00ab87d2",
   "metadata": {},
   "outputs": [
    {
     "name": "stdout",
     "output_type": "stream",
     "text": [
      "1:27.95\n",
      "1:21.07\n",
      "1:30.96\n",
      "1:23.22\n",
      "1:27.95\n",
      "1:28.30\n"
     ]
    }
   ],
   "source": [
    "for t in times:\n",
    "\tprint(t)"
   ]
  },
  {
   "cell_type": "code",
   "execution_count": 35,
   "id": "27b438bb",
   "metadata": {},
   "outputs": [
    {
     "name": "stdout",
     "output_type": "stream",
     "text": [
      "1:27.95 --> 8795\n",
      "1:21.07 --> 8107\n",
      "1:30.96 --> 9096\n",
      "1:23.22 --> 8322\n",
      "1:27.95 --> 8795\n",
      "1:28.30 --> 8830\n"
     ]
    }
   ],
   "source": [
    "for t in times:\n",
    "\tminutes,rest = t.split(':')\n",
    "\tseconds,hundredths = rest.split('.')\n",
    "\tprint (t, \"-->\", int(minutes)*60*100 + int(seconds)*100 + int(hundredths))"
   ]
  },
  {
   "cell_type": "code",
   "execution_count": 36,
   "id": "b6370dd9",
   "metadata": {},
   "outputs": [
    {
     "data": {
      "text/plain": [
       "list"
      ]
     },
     "execution_count": 36,
     "metadata": {},
     "output_type": "execute_result"
    }
   ],
   "source": [
    "converts = []\n",
    "type(converts)"
   ]
  },
  {
   "cell_type": "code",
   "execution_count": 37,
   "id": "fb5d4125",
   "metadata": {},
   "outputs": [
    {
     "name": "stdout",
     "output_type": "stream",
     "text": [
      "['__add__', '__class__', '__class_getitem__', '__contains__', '__delattr__', '__delitem__', '__dir__', '__doc__', '__eq__', '__format__', '__ge__', '__getattribute__', '__getitem__', '__getstate__', '__gt__', '__hash__', '__iadd__', '__imul__', '__init__', '__init_subclass__', '__iter__', '__le__', '__len__', '__lt__', '__mul__', '__ne__', '__new__', '__reduce__', '__reduce_ex__', '__repr__', '__reversed__', '__rmul__', '__setattr__', '__setitem__', '__sizeof__', '__str__', '__subclasshook__', 'append', 'clear', 'copy', 'count', 'extend', 'index', 'insert', 'pop', 'remove', 'reverse', 'sort']\n"
     ]
    }
   ],
   "source": [
    "print(dir(converts))"
   ]
  },
  {
   "cell_type": "code",
   "execution_count": 38,
   "id": "c93722b8",
   "metadata": {},
   "outputs": [],
   "source": [
    "converts = []\n",
    "for t in times:\n",
    "\tminutes,rest = t.split(':')\n",
    "\tseconds,hundredths = rest.split('.')\n",
    "\tconverts.append(int(minutes)*60*100 + int(seconds)*100 + int(hundredths))"
   ]
  },
  {
   "cell_type": "code",
   "execution_count": 39,
   "id": "c161653d",
   "metadata": {},
   "outputs": [
    {
     "data": {
      "text/plain": [
       "[8795, 8107, 9096, 8322, 8795, 8830]"
      ]
     },
     "execution_count": 39,
     "metadata": {},
     "output_type": "execute_result"
    }
   ],
   "source": [
    "converts"
   ]
  },
  {
   "cell_type": "code",
   "execution_count": 40,
   "id": "c6c6702b",
   "metadata": {},
   "outputs": [
    {
     "data": {
      "text/plain": [
       "['1:27.95', '1:21.07', '1:30.96', '1:23.22', '1:27.95', '1:28.30']"
      ]
     },
     "execution_count": 40,
     "metadata": {},
     "output_type": "execute_result"
    }
   ],
   "source": [
    "times"
   ]
  },
  {
   "cell_type": "code",
   "execution_count": 41,
   "id": "aab47337",
   "metadata": {},
   "outputs": [
    {
     "data": {
      "text/plain": [
       "8657.5"
      ]
     },
     "execution_count": 41,
     "metadata": {},
     "output_type": "execute_result"
    }
   ],
   "source": [
    "import statistics\n",
    "avg = statistics.mean(converts)\n",
    "avg"
   ]
  },
  {
   "cell_type": "code",
   "execution_count": 42,
   "id": "30c80d4f",
   "metadata": {},
   "outputs": [
    {
     "data": {
      "text/plain": [
       "86.58"
      ]
     },
     "execution_count": 42,
     "metadata": {},
     "output_type": "execute_result"
    }
   ],
   "source": [
    "round(avg/100,2)"
   ]
  },
  {
   "cell_type": "code",
   "execution_count": 43,
   "id": "896fa26f",
   "metadata": {},
   "outputs": [
    {
     "data": {
      "text/plain": [
       "['86', '58']"
      ]
     },
     "execution_count": 43,
     "metadata": {},
     "output_type": "execute_result"
    }
   ],
   "source": [
    "str(round(avg/100,2)).split(\".\")"
   ]
  },
  {
   "cell_type": "code",
   "execution_count": 44,
   "id": "a6f04893",
   "metadata": {},
   "outputs": [
    {
     "data": {
      "text/plain": [
       "1"
      ]
     },
     "execution_count": 44,
     "metadata": {},
     "output_type": "execute_result"
    }
   ],
   "source": [
    "mins_secs, hundredths = str(round(avg/100,2)).split(\".\")\n",
    "mins_secs = int(mins_secs)\n",
    "minutes = mins_secs//60\n",
    "minutes\n"
   ]
  },
  {
   "cell_type": "code",
   "execution_count": 45,
   "id": "ad040044",
   "metadata": {},
   "outputs": [
    {
     "data": {
      "text/plain": [
       "26"
      ]
     },
     "execution_count": 45,
     "metadata": {},
     "output_type": "execute_result"
    }
   ],
   "source": [
    "seconds = mins_secs-minutes*60\n",
    "seconds"
   ]
  },
  {
   "cell_type": "code",
   "execution_count": 46,
   "id": "c2390fc4",
   "metadata": {},
   "outputs": [
    {
     "data": {
      "text/plain": [
       "(1, 26, '58')"
      ]
     },
     "execution_count": 46,
     "metadata": {},
     "output_type": "execute_result"
    }
   ],
   "source": [
    "minutes, seconds, hundredths"
   ]
  },
  {
   "cell_type": "code",
   "execution_count": 47,
   "id": "6c490fcf",
   "metadata": {},
   "outputs": [
    {
     "data": {
      "text/plain": [
       "'1:26.58'"
      ]
     },
     "execution_count": 47,
     "metadata": {},
     "output_type": "execute_result"
    }
   ],
   "source": [
    "str(minutes) + \":\" + str(seconds) + \".\" + hundredths"
   ]
  },
  {
   "cell_type": "code",
   "execution_count": 48,
   "id": "1f3c5982",
   "metadata": {},
   "outputs": [
    {
     "data": {
      "text/plain": [
       "'1:26.58'"
      ]
     },
     "execution_count": 48,
     "metadata": {},
     "output_type": "execute_result"
    }
   ],
   "source": [
    "average = str(minutes) + \":\" + str(seconds) + \".\" + hundredths\n",
    "average"
   ]
  },
  {
   "cell_type": "markdown",
   "id": "0215ba06",
   "metadata": {},
   "source": []
  }
 ],
 "metadata": {
  "kernelspec": {
   "display_name": "Python 3",
   "language": "python",
   "name": "python3"
  },
  "language_info": {
   "codemirror_mode": {
    "name": "ipython",
    "version": 3
   },
   "file_extension": ".py",
   "mimetype": "text/x-python",
   "name": "python",
   "nbconvert_exporter": "python",
   "pygments_lexer": "ipython3",
   "version": "3.11.9"
  }
 },
 "nbformat": 4,
 "nbformat_minor": 5
}
