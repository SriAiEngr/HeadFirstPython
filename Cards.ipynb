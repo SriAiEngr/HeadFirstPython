{
 "cells": [
  {
   "cell_type": "code",
   "execution_count": 19,
   "id": "273c0aec",
   "metadata": {},
   "outputs": [],
   "source": [
    "import random\n",
    "suits = [\"clubs\", \"diamonds\", \"hearts\", \"spades\"]\n",
    "faces = [\"ace\", \"jack\", \"queen\", \"king\"]\n",
    "numbered = [2,3,4,5,6,7,8,9,10]"
   ]
  },
  {
   "cell_type": "code",
   "execution_count": 20,
   "id": "0b04f6df",
   "metadata": {},
   "outputs": [
    {
     "data": {
      "text/plain": [
       "['clubs', 'diamonds', 'hearts', 'spades']"
      ]
     },
     "execution_count": 20,
     "metadata": {},
     "output_type": "execute_result"
    }
   ],
   "source": [
    "suits"
   ]
  },
  {
   "cell_type": "code",
   "execution_count": 26,
   "id": "a64be081",
   "metadata": {},
   "outputs": [],
   "source": [
    "def draw(): #defining function\n",
    "\tthe_suit = random.choice(suits) #randomly choosing suit\n",
    "\tthe_card = random.choice(faces + numbered) #randomly choosing type\n",
    "\treturn the_card, \" of \", the_suit #returning card"
   ]
  },
  {
   "cell_type": "markdown",
   "id": "fcb1d4d8",
   "metadata": {},
   "source": []
  },
  {
   "cell_type": "code",
   "execution_count": 27,
   "id": "cc4d4712",
   "metadata": {},
   "outputs": [
    {
     "name": "stdout",
     "output_type": "stream",
     "text": [
      "(2, ' of ', 'hearts')\n"
     ]
    }
   ],
   "source": [
    "print(draw())"
   ]
  },
  {
   "cell_type": "code",
   "execution_count": 28,
   "id": "b75cb1ae",
   "metadata": {},
   "outputs": [
    {
     "data": {
      "text/plain": [
       "(2, ' of ', 'diamonds')"
      ]
     },
     "execution_count": 28,
     "metadata": {},
     "output_type": "execute_result"
    }
   ],
   "source": [
    "draw ()"
   ]
  },
  {
   "cell_type": "code",
   "execution_count": 29,
   "id": "6a4f7529",
   "metadata": {},
   "outputs": [
    {
     "data": {
      "text/plain": [
       "(2, ' of ', 'clubs')"
      ]
     },
     "execution_count": 29,
     "metadata": {},
     "output_type": "execute_result"
    }
   ],
   "source": [
    "draw()"
   ]
  },
  {
   "cell_type": "code",
   "execution_count": 30,
   "id": "570f06cc",
   "metadata": {},
   "outputs": [
    {
     "name": "stdout",
     "output_type": "stream",
     "text": [
      "(9, ' of ', 'clubs')\n",
      "('queen', ' of ', 'hearts')\n",
      "('jack', ' of ', 'diamonds')\n",
      "('jack', ' of ', 'clubs')\n",
      "(2, ' of ', 'diamonds')\n"
     ]
    }
   ],
   "source": [
    "for _ in range(5):\n",
    "\tprint(draw())"
   ]
  },
  {
   "cell_type": "code",
   "execution_count": 31,
   "id": "ba06da5b",
   "metadata": {},
   "outputs": [
    {
     "name": "stdout",
     "output_type": "stream",
     "text": [
      "Help on method choice in module random:\n",
      "\n",
      "choice(seq) method of random.Random instance\n",
      "    Choose a random element from a non-empty sequence.\n",
      "\n"
     ]
    }
   ],
   "source": [
    "help(random.choice)"
   ]
  },
  {
   "cell_type": "code",
   "execution_count": 36,
   "id": "9d431e2d",
   "metadata": {},
   "outputs": [
    {
     "data": {
      "text/plain": [
       "'spades'"
      ]
     },
     "execution_count": 36,
     "metadata": {},
     "output_type": "execute_result"
    }
   ],
   "source": [
    "random.choice(suits)"
   ]
  },
  {
   "cell_type": "code",
   "execution_count": 37,
   "id": "09cbe3ea",
   "metadata": {},
   "outputs": [
    {
     "data": {
      "text/plain": [
       "tuple"
      ]
     },
     "execution_count": 37,
     "metadata": {},
     "output_type": "execute_result"
    }
   ],
   "source": [
    "type(draw())"
   ]
  },
  {
   "cell_type": "code",
   "execution_count": 38,
   "id": "f8ca13a8",
   "metadata": {},
   "outputs": [
    {
     "data": {
      "text/plain": [
       "3"
      ]
     },
     "execution_count": 38,
     "metadata": {},
     "output_type": "execute_result"
    }
   ],
   "source": [
    "len(draw())"
   ]
  },
  {
   "cell_type": "code",
   "execution_count": null,
   "id": "ce43ec97",
   "metadata": {},
   "outputs": [],
   "source": []
  }
 ],
 "metadata": {
  "kernelspec": {
   "display_name": "Python 3",
   "language": "python",
   "name": "python3"
  },
  "language_info": {
   "codemirror_mode": {
    "name": "ipython",
    "version": 3
   },
   "file_extension": ".py",
   "mimetype": "text/x-python",
   "name": "python",
   "nbconvert_exporter": "python",
   "pygments_lexer": "ipython3",
   "version": "3.11.9"
  }
 },
 "nbformat": 4,
 "nbformat_minor": 5
}
